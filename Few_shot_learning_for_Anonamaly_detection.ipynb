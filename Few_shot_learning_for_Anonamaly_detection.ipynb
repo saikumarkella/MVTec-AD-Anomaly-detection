{
  "nbformat": 4,
  "nbformat_minor": 0,
  "metadata": {
    "colab": {
      "provenance": [],
      "gpuType": "T4"
    },
    "kernelspec": {
      "name": "python3",
      "display_name": "Python 3"
    },
    "language_info": {
      "name": "python"
    },
    "accelerator": "GPU"
  },
  "cells": [
    {
      "cell_type": "code",
      "execution_count": 1,
      "metadata": {
        "colab": {
          "base_uri": "https://localhost:8080/"
        },
        "id": "7ap6n7LC3Qo8",
        "outputId": "653dcdff-c5e9-4d31-a4e0-20ad83dcac7c"
      },
      "outputs": [
        {
          "output_type": "stream",
          "name": "stdout",
          "text": [
            "--2023-07-15 04:44:50--  https://www.mydrive.ch/shares/38536/3830184030e49fe74747669442f0f282/download/420938113-1629952094/mvtec_anomaly_detection.tar.xz\n",
            "Resolving www.mydrive.ch (www.mydrive.ch)... 91.214.169.64\n",
            "Connecting to www.mydrive.ch (www.mydrive.ch)|91.214.169.64|:443... connected.\n",
            "HTTP request sent, awaiting response... 200 OK\n",
            "Length: 5264982680 (4.9G) [application/x-xz]\n",
            "Saving to: ‘mvtec_anomaly_detection.tar.xz’\n",
            "\n",
            "mvtec_anomaly_detec 100%[===================>]   4.90G  17.9MB/s    in 4m 45s  \n",
            "\n",
            "2023-07-15 04:49:36 (17.6 MB/s) - ‘mvtec_anomaly_detection.tar.xz’ saved [5264982680/5264982680]\n",
            "\n"
          ]
        }
      ],
      "source": [
        "### downloading the datase\n",
        "!wget https://www.mydrive.ch/shares/38536/3830184030e49fe74747669442f0f282/download/420938113-1629952094/mvtec_anomaly_detection.tar.xz"
      ]
    },
    {
      "cell_type": "code",
      "source": [
        "!mkdir /content/data"
      ],
      "metadata": {
        "id": "3UtHLW7N3c2o"
      },
      "execution_count": 2,
      "outputs": []
    },
    {
      "cell_type": "code",
      "source": [
        "## unzipping tar file\n",
        "!tar xf /content/mvtec_anomaly_detection.tar.xz -C /content/data"
      ],
      "metadata": {
        "id": "IWYD9d4U3mPX"
      },
      "execution_count": 3,
      "outputs": []
    },
    {
      "cell_type": "markdown",
      "source": [
        "### Few-shot Learning\n",
        "- Algotithm : Simese Network (Metric based Learning).\n"
      ],
      "metadata": {
        "id": "-sqkzSoNGC6z"
      }
    },
    {
      "cell_type": "markdown",
      "source": [
        "**Import dependencies**"
      ],
      "metadata": {
        "id": "NEgdLC81G61n"
      }
    },
    {
      "cell_type": "code",
      "source": [
        "import os\n",
        "import glob\n",
        "import random\n",
        "import pandas as pd\n",
        "import numpy as np\n",
        "import matplotlib.pyplot as plt\n",
        "import tensorflow as tf\n",
        "import tensorflow.keras.backend as K\n",
        "from sklearn.model_selection import train_test_split"
      ],
      "metadata": {
        "id": "oALlhNXt5YFe"
      },
      "execution_count": 4,
      "outputs": []
    },
    {
      "cell_type": "markdown",
      "source": [
        "**Configurations**"
      ],
      "metadata": {
        "id": "xLgINpucHt_L"
      }
    },
    {
      "cell_type": "code",
      "source": [
        "## Configurations\n",
        "class CNF:\n",
        "    seed = 42\n",
        "    data_folder = \"/content/data\"  ### replace with your training data folder\n",
        "    target_shape = (224, 224)\n",
        "    labels = True # using labels or not.\n",
        "    shots = 5 ## Number of samples in a class\n",
        "\n",
        "\n",
        "    ### dataset configs\n",
        "    buffer_size = 1024\n",
        "    batch_size = 32\n",
        "    validation_size = 0.2 ## 20% of data from the training dataset.\n",
        "\n",
        "    epochs = 10\n",
        "\n",
        "    ### training hyperparameters\n",
        "    learning_rate = 0.00001"
      ],
      "metadata": {
        "id": "edi345F-Htms"
      },
      "execution_count": 5,
      "outputs": []
    },
    {
      "cell_type": "code",
      "source": [
        "### checking gpus\n",
        "### Detecting the GPU and Setting distribution strategy based on the GPU or CPU.\n",
        "gpus = tf.config.experimental.list_logical_devices('GPU')\n",
        "if(len(gpus)>0):\n",
        "    CNF.device = \"GPU\"\n",
        "    strategy = tf.distribute.MirroredStrategy(devices=gpus)\n",
        "    print(\"> Running on {} | Number of devices {}\".format(CNF.device, len(gpus)))\n",
        "\n",
        "else:\n",
        "    CNF.device = \"CPU\"\n",
        "    strategy = tf.distribute.get_strategy() ## here we are getting the default strategy.\n",
        "    print(\"> Running on {}\".format(CNF.device))\n",
        "\n",
        "print(\"> Number of replicas : \", strategy.num_replicas_in_sync)"
      ],
      "metadata": {
        "colab": {
          "base_uri": "https://localhost:8080/"
        },
        "id": "qr2GmJgVHk4l",
        "outputId": "c67ab5f4-cba7-449a-996c-c67294f8aa70"
      },
      "execution_count": 6,
      "outputs": [
        {
          "output_type": "stream",
          "name": "stdout",
          "text": [
            "> Running on GPU | Number of devices 1\n",
            "> Number of replicas :  1\n"
          ]
        }
      ]
    },
    {
      "cell_type": "markdown",
      "source": [
        "### **Preparing Dataset**\n",
        "\n",
        "    > Normal -- not an anomaly\n",
        "    > abnormal -- Anomaly\n",
        "\n",
        "**Set pairs**\n",
        "\n",
        "    > normal - normal\n",
        "    > abnormal - abnormal\n",
        "    > normal - abnormal\n",
        "\n",
        "\n",
        "\n",
        "**Seeting Constrastive Learning**\n",
        "- 0 : Similar (normal - normal) / (abnormal - abnormal)\n",
        "- 1 : Not Similar (normal - abnormal)"
      ],
      "metadata": {
        "id": "5XW8jvB3H3fH"
      }
    },
    {
      "cell_type": "code",
      "source": [
        "CNF.classes = [d for d in os.listdir(CNF.data_folder) if os.path.isdir(os.path.join(CNF.data_folder, d))]"
      ],
      "metadata": {
        "id": "Qmp-XfhJHodR"
      },
      "execution_count": 7,
      "outputs": []
    },
    {
      "cell_type": "code",
      "source": [
        "dataframes = []\n",
        "for class_ in CNF.classes:\n",
        "  dir_class = os.path.join(CNF.data_folder, class_,)\n",
        "  normal_paths = random.sample(glob.glob(os.path.join(dir_class, \"train\", \"good\",\"*.png\")), CNF.shots)\n",
        "\n",
        "  abnormal_defect_classes = [d for d in os.listdir(os.path.join(dir_class, \"test\")) if d!=\"good\"]\n",
        "  abnormal_paths = list(set([random.sample(glob.glob(os.path.join(dir_class, \"test\", random.sample(abnormal_defect_classes, 1)[0],\"*.png\")), 1)[0] for i in range(CNF.shots)]))\n",
        "\n",
        "  ### getting pairs for the training the deep learning models.\n",
        "  normal_normal = []\n",
        "  for i in range(len(normal_paths)-1):\n",
        "    for j in range(i+1, len(normal_paths)):\n",
        "      nn = [normal_paths[i], normal_paths[j]]\n",
        "      normal_normal.append(nn)\n",
        "\n",
        "  abnormal_abnormal = []\n",
        "  for i in range(len(abnormal_paths)-1):\n",
        "    for j in range(i+1, len(abnormal_paths)):\n",
        "      nn = [abnormal_paths[i], abnormal_paths[j]]\n",
        "      abnormal_abnormal.append(nn)\n",
        "\n",
        "\n",
        "  normal_abnormal = []\n",
        "  for i in range(len(normal_paths)):\n",
        "    for j in range(len(abnormal_paths)):\n",
        "      nn = [normal_paths[i], abnormal_paths[j]]\n",
        "      normal_abnormal.append(nn)\n",
        "\n",
        "\n",
        "  ## defining the labels\n",
        "  normal_normal_label = [0]*len(normal_normal)\n",
        "  abnormal_abnormal_label = [0]*len(abnormal_abnormal)\n",
        "  normal_abnormal_label = [1]*len(normal_abnormal)\n",
        "\n",
        "  image_samples = normal_normal + abnormal_abnormal + normal_abnormal\n",
        "  labels = normal_normal_label + abnormal_abnormal_label + normal_abnormal_label\n",
        "  classes = [class_]*len(labels)\n",
        "  ### preparing the dataset from the pairs of dataset.\n",
        "  df = pd.DataFrame(image_samples, columns=[\"img1_path\", \"img2_path\"])\n",
        "  df[\"labels\"] = labels\n",
        "  df[\"classes\"] = classes\n",
        "  dataframes.append(df)\n"
      ],
      "metadata": {
        "id": "YXBGnJpBJM6P"
      },
      "execution_count": 8,
      "outputs": []
    },
    {
      "cell_type": "code",
      "source": [
        "### Concatenated dataframes\n",
        "anomaly_df = pd.concat(dataframes)"
      ],
      "metadata": {
        "id": "aAfl9Z1XSf5Q"
      },
      "execution_count": 9,
      "outputs": []
    },
    {
      "cell_type": "code",
      "source": [
        "anomaly_df.head()"
      ],
      "metadata": {
        "colab": {
          "base_uri": "https://localhost:8080/",
          "height": 206
        },
        "id": "M1rHD-O3TlG7",
        "outputId": "127a724c-1f1d-4087-d14a-a900732f1e1d"
      },
      "execution_count": 10,
      "outputs": [
        {
          "output_type": "execute_result",
          "data": {
            "text/plain": [
              "                                 img1_path  \\\n",
              "0  /content/data/carpet/train/good/124.png   \n",
              "1  /content/data/carpet/train/good/124.png   \n",
              "2  /content/data/carpet/train/good/124.png   \n",
              "3  /content/data/carpet/train/good/124.png   \n",
              "4  /content/data/carpet/train/good/238.png   \n",
              "\n",
              "                                 img2_path  labels classes  \n",
              "0  /content/data/carpet/train/good/238.png       0  carpet  \n",
              "1  /content/data/carpet/train/good/101.png       0  carpet  \n",
              "2  /content/data/carpet/train/good/031.png       0  carpet  \n",
              "3  /content/data/carpet/train/good/188.png       0  carpet  \n",
              "4  /content/data/carpet/train/good/101.png       0  carpet  "
            ],
            "text/html": [
              "\n",
              "\n",
              "  <div id=\"df-134ac264-5af2-4b70-a71b-756f666cd749\">\n",
              "    <div class=\"colab-df-container\">\n",
              "      <div>\n",
              "<style scoped>\n",
              "    .dataframe tbody tr th:only-of-type {\n",
              "        vertical-align: middle;\n",
              "    }\n",
              "\n",
              "    .dataframe tbody tr th {\n",
              "        vertical-align: top;\n",
              "    }\n",
              "\n",
              "    .dataframe thead th {\n",
              "        text-align: right;\n",
              "    }\n",
              "</style>\n",
              "<table border=\"1\" class=\"dataframe\">\n",
              "  <thead>\n",
              "    <tr style=\"text-align: right;\">\n",
              "      <th></th>\n",
              "      <th>img1_path</th>\n",
              "      <th>img2_path</th>\n",
              "      <th>labels</th>\n",
              "      <th>classes</th>\n",
              "    </tr>\n",
              "  </thead>\n",
              "  <tbody>\n",
              "    <tr>\n",
              "      <th>0</th>\n",
              "      <td>/content/data/carpet/train/good/124.png</td>\n",
              "      <td>/content/data/carpet/train/good/238.png</td>\n",
              "      <td>0</td>\n",
              "      <td>carpet</td>\n",
              "    </tr>\n",
              "    <tr>\n",
              "      <th>1</th>\n",
              "      <td>/content/data/carpet/train/good/124.png</td>\n",
              "      <td>/content/data/carpet/train/good/101.png</td>\n",
              "      <td>0</td>\n",
              "      <td>carpet</td>\n",
              "    </tr>\n",
              "    <tr>\n",
              "      <th>2</th>\n",
              "      <td>/content/data/carpet/train/good/124.png</td>\n",
              "      <td>/content/data/carpet/train/good/031.png</td>\n",
              "      <td>0</td>\n",
              "      <td>carpet</td>\n",
              "    </tr>\n",
              "    <tr>\n",
              "      <th>3</th>\n",
              "      <td>/content/data/carpet/train/good/124.png</td>\n",
              "      <td>/content/data/carpet/train/good/188.png</td>\n",
              "      <td>0</td>\n",
              "      <td>carpet</td>\n",
              "    </tr>\n",
              "    <tr>\n",
              "      <th>4</th>\n",
              "      <td>/content/data/carpet/train/good/238.png</td>\n",
              "      <td>/content/data/carpet/train/good/101.png</td>\n",
              "      <td>0</td>\n",
              "      <td>carpet</td>\n",
              "    </tr>\n",
              "  </tbody>\n",
              "</table>\n",
              "</div>\n",
              "      <button class=\"colab-df-convert\" onclick=\"convertToInteractive('df-134ac264-5af2-4b70-a71b-756f666cd749')\"\n",
              "              title=\"Convert this dataframe to an interactive table.\"\n",
              "              style=\"display:none;\">\n",
              "\n",
              "  <svg xmlns=\"http://www.w3.org/2000/svg\" height=\"24px\"viewBox=\"0 0 24 24\"\n",
              "       width=\"24px\">\n",
              "    <path d=\"M0 0h24v24H0V0z\" fill=\"none\"/>\n",
              "    <path d=\"M18.56 5.44l.94 2.06.94-2.06 2.06-.94-2.06-.94-.94-2.06-.94 2.06-2.06.94zm-11 1L8.5 8.5l.94-2.06 2.06-.94-2.06-.94L8.5 2.5l-.94 2.06-2.06.94zm10 10l.94 2.06.94-2.06 2.06-.94-2.06-.94-.94-2.06-.94 2.06-2.06.94z\"/><path d=\"M17.41 7.96l-1.37-1.37c-.4-.4-.92-.59-1.43-.59-.52 0-1.04.2-1.43.59L10.3 9.45l-7.72 7.72c-.78.78-.78 2.05 0 2.83L4 21.41c.39.39.9.59 1.41.59.51 0 1.02-.2 1.41-.59l7.78-7.78 2.81-2.81c.8-.78.8-2.07 0-2.86zM5.41 20L4 18.59l7.72-7.72 1.47 1.35L5.41 20z\"/>\n",
              "  </svg>\n",
              "      </button>\n",
              "\n",
              "\n",
              "\n",
              "    <div id=\"df-79b65296-7065-4045-b8f5-9eca41859024\">\n",
              "      <button class=\"colab-df-quickchart\" onclick=\"quickchart('df-79b65296-7065-4045-b8f5-9eca41859024')\"\n",
              "              title=\"Suggest charts.\"\n",
              "              style=\"display:none;\">\n",
              "\n",
              "<svg xmlns=\"http://www.w3.org/2000/svg\" height=\"24px\"viewBox=\"0 0 24 24\"\n",
              "     width=\"24px\">\n",
              "    <g>\n",
              "        <path d=\"M19 3H5c-1.1 0-2 .9-2 2v14c0 1.1.9 2 2 2h14c1.1 0 2-.9 2-2V5c0-1.1-.9-2-2-2zM9 17H7v-7h2v7zm4 0h-2V7h2v10zm4 0h-2v-4h2v4z\"/>\n",
              "    </g>\n",
              "</svg>\n",
              "      </button>\n",
              "    </div>\n",
              "\n",
              "<style>\n",
              "  .colab-df-quickchart {\n",
              "    background-color: #E8F0FE;\n",
              "    border: none;\n",
              "    border-radius: 50%;\n",
              "    cursor: pointer;\n",
              "    display: none;\n",
              "    fill: #1967D2;\n",
              "    height: 32px;\n",
              "    padding: 0 0 0 0;\n",
              "    width: 32px;\n",
              "  }\n",
              "\n",
              "  .colab-df-quickchart:hover {\n",
              "    background-color: #E2EBFA;\n",
              "    box-shadow: 0px 1px 2px rgba(60, 64, 67, 0.3), 0px 1px 3px 1px rgba(60, 64, 67, 0.15);\n",
              "    fill: #174EA6;\n",
              "  }\n",
              "\n",
              "  [theme=dark] .colab-df-quickchart {\n",
              "    background-color: #3B4455;\n",
              "    fill: #D2E3FC;\n",
              "  }\n",
              "\n",
              "  [theme=dark] .colab-df-quickchart:hover {\n",
              "    background-color: #434B5C;\n",
              "    box-shadow: 0px 1px 3px 1px rgba(0, 0, 0, 0.15);\n",
              "    filter: drop-shadow(0px 1px 2px rgba(0, 0, 0, 0.3));\n",
              "    fill: #FFFFFF;\n",
              "  }\n",
              "</style>\n",
              "\n",
              "    <script>\n",
              "      async function quickchart(key) {\n",
              "        const containerElement = document.querySelector('#' + key);\n",
              "        const charts = await google.colab.kernel.invokeFunction(\n",
              "            'suggestCharts', [key], {});\n",
              "      }\n",
              "    </script>\n",
              "\n",
              "      <script>\n",
              "\n",
              "function displayQuickchartButton(domScope) {\n",
              "  let quickchartButtonEl =\n",
              "    domScope.querySelector('#df-79b65296-7065-4045-b8f5-9eca41859024 button.colab-df-quickchart');\n",
              "  quickchartButtonEl.style.display =\n",
              "    google.colab.kernel.accessAllowed ? 'block' : 'none';\n",
              "}\n",
              "\n",
              "        displayQuickchartButton(document);\n",
              "      </script>\n",
              "      <style>\n",
              "    .colab-df-container {\n",
              "      display:flex;\n",
              "      flex-wrap:wrap;\n",
              "      gap: 12px;\n",
              "    }\n",
              "\n",
              "    .colab-df-convert {\n",
              "      background-color: #E8F0FE;\n",
              "      border: none;\n",
              "      border-radius: 50%;\n",
              "      cursor: pointer;\n",
              "      display: none;\n",
              "      fill: #1967D2;\n",
              "      height: 32px;\n",
              "      padding: 0 0 0 0;\n",
              "      width: 32px;\n",
              "    }\n",
              "\n",
              "    .colab-df-convert:hover {\n",
              "      background-color: #E2EBFA;\n",
              "      box-shadow: 0px 1px 2px rgba(60, 64, 67, 0.3), 0px 1px 3px 1px rgba(60, 64, 67, 0.15);\n",
              "      fill: #174EA6;\n",
              "    }\n",
              "\n",
              "    [theme=dark] .colab-df-convert {\n",
              "      background-color: #3B4455;\n",
              "      fill: #D2E3FC;\n",
              "    }\n",
              "\n",
              "    [theme=dark] .colab-df-convert:hover {\n",
              "      background-color: #434B5C;\n",
              "      box-shadow: 0px 1px 3px 1px rgba(0, 0, 0, 0.15);\n",
              "      filter: drop-shadow(0px 1px 2px rgba(0, 0, 0, 0.3));\n",
              "      fill: #FFFFFF;\n",
              "    }\n",
              "  </style>\n",
              "\n",
              "      <script>\n",
              "        const buttonEl =\n",
              "          document.querySelector('#df-134ac264-5af2-4b70-a71b-756f666cd749 button.colab-df-convert');\n",
              "        buttonEl.style.display =\n",
              "          google.colab.kernel.accessAllowed ? 'block' : 'none';\n",
              "\n",
              "        async function convertToInteractive(key) {\n",
              "          const element = document.querySelector('#df-134ac264-5af2-4b70-a71b-756f666cd749');\n",
              "          const dataTable =\n",
              "            await google.colab.kernel.invokeFunction('convertToInteractive',\n",
              "                                                     [key], {});\n",
              "          if (!dataTable) return;\n",
              "\n",
              "          const docLinkHtml = 'Like what you see? Visit the ' +\n",
              "            '<a target=\"_blank\" href=https://colab.research.google.com/notebooks/data_table.ipynb>data table notebook</a>'\n",
              "            + ' to learn more about interactive tables.';\n",
              "          element.innerHTML = '';\n",
              "          dataTable['output_type'] = 'display_data';\n",
              "          await google.colab.output.renderOutput(dataTable, element);\n",
              "          const docLink = document.createElement('div');\n",
              "          docLink.innerHTML = docLinkHtml;\n",
              "          element.appendChild(docLink);\n",
              "        }\n",
              "      </script>\n",
              "    </div>\n",
              "  </div>\n"
            ]
          },
          "metadata": {},
          "execution_count": 10
        }
      ]
    },
    {
      "cell_type": "code",
      "source": [
        "### Counting the labels\n",
        "anomaly_df[\"labels\"].value_counts()"
      ],
      "metadata": {
        "colab": {
          "base_uri": "https://localhost:8080/"
        },
        "id": "KnTk_K95TmBL",
        "outputId": "3b2f5dcf-9029-4c2d-ebab-66d7b8b3f72a"
      },
      "execution_count": 11,
      "outputs": [
        {
          "output_type": "execute_result",
          "data": {
            "text/plain": [
              "1    355\n",
              "0    284\n",
              "Name: labels, dtype: int64"
            ]
          },
          "metadata": {},
          "execution_count": 11
        }
      ]
    },
    {
      "cell_type": "code",
      "source": [
        "### splitting the dataset\n",
        "anomaly_df = anomaly_df.sample(frac = 1)\n",
        "train_data, test_data = train_test_split(anomaly_df, stratify= anomaly_df[\"labels\"])"
      ],
      "metadata": {
        "id": "-BW1NdvKZei0"
      },
      "execution_count": 12,
      "outputs": []
    },
    {
      "cell_type": "code",
      "source": [
        "print(\"the shape of the training data : \", train_data.shape)\n",
        "print(\"the shape of the testing data : \", test_data.shape)"
      ],
      "metadata": {
        "colab": {
          "base_uri": "https://localhost:8080/"
        },
        "id": "dXq_gARQaBaW",
        "outputId": "f8df658d-20ff-4b0d-920a-19587c7e71f8"
      },
      "execution_count": 13,
      "outputs": [
        {
          "output_type": "stream",
          "name": "stdout",
          "text": [
            "the shape of the training data :  (479, 4)\n",
            "the shape of the testing data :  (160, 4)\n"
          ]
        }
      ]
    },
    {
      "cell_type": "markdown",
      "source": [
        "**Data Generator**"
      ],
      "metadata": {
        "id": "zOhC6-fSwa71"
      }
    },
    {
      "cell_type": "code",
      "source": [
        "def samples_labels(img1_path, img2_path, c):\n",
        "  image1 = tf.io.read_file(img1_path)\n",
        "  image1 = tf.io.decode_png(image1, channels=3)\n",
        "  image1 = tf.keras.preprocessing.image.smart_resize(image1, size = CNF.target_shape)\n",
        "\n",
        "  image2 = tf.io.read_file(img2_path)\n",
        "  image2 = tf.io.decode_png(image2, channels=3)\n",
        "  image2 = tf.keras.preprocessing.image.smart_resize(image2, size = CNF.target_shape)\n",
        "\n",
        "  return (image1/255, image2/255), c\n",
        "\n",
        "\n",
        "### generating the tensorflow data generator.\n",
        "def DataLoader(df):\n",
        "\n",
        "  dataset = tf.data.Dataset.from_tensor_slices((df[\"img1_path\"].values, df[\"img2_path\"].values, df[\"labels\"].values))\n",
        "  dataset = dataset.map(samples_labels)\n",
        "  dataset = dataset.shuffle(CNF.buffer_size)\n",
        "  dataset = dataset.batch(CNF.batch_size)\n",
        "  return dataset\n"
      ],
      "metadata": {
        "id": "NnQ9A6O6uCFZ"
      },
      "execution_count": 14,
      "outputs": []
    },
    {
      "cell_type": "code",
      "source": [],
      "metadata": {
        "id": "N362j9yi5N4v"
      },
      "execution_count": 14,
      "outputs": []
    },
    {
      "cell_type": "markdown",
      "source": [
        "### Few-shot Learning\n",
        "- Building a siamese Network.\n",
        "    - Here we will taking a VGG16 has a twin network."
      ],
      "metadata": {
        "id": "kU7f8Ef36MOb"
      }
    },
    {
      "cell_type": "code",
      "source": [
        "base_model = tf.keras.applications.ResNet50(\n",
        "    include_top=False,\n",
        "    weights=\"imagenet\",\n",
        "    input_shape=(CNF.target_shape[0], CNF.target_shape[1], 3)\n",
        ")\n",
        "base_model.trainable = False\n",
        "\n",
        "x = tf.keras.layers.GlobalAveragePooling2D()(base_model.outputs[0])\n",
        "# x = tf.keras.layers.Dense(units=256, activation=\"relu\")(x)\n",
        "# x = tf.keras.layers.BatchNormalization()(x)\n",
        "output = tf.keras.layers.Dense(units=128, activation=\"relu\")(x)\n",
        "\n",
        "twin_model = tf.keras.Model(base_model.inputs, outputs=output, name= \"Embedding\")\n",
        "\n",
        "\n"
      ],
      "metadata": {
        "id": "Al_zk9IjE-KF"
      },
      "execution_count": 29,
      "outputs": []
    },
    {
      "cell_type": "code",
      "source": [
        "input_shape = (CNF.target_shape[0], CNF.target_shape[0], 3)\n",
        "input1 = tf.keras.layers.Input(input_shape, name = \"image1\")\n",
        "input2 = tf.keras.layers.Input(input_shape, name = \"image2\")"
      ],
      "metadata": {
        "id": "acseunL5EyNE"
      },
      "execution_count": 30,
      "outputs": []
    },
    {
      "cell_type": "code",
      "source": [
        "### Compute similarity layers\n",
        "class Eucidiean_distance(tf.keras.layers.Layer):\n",
        "  def __init__(self,margin=1, **kwargs):\n",
        "    super().__init__(**kwargs)\n",
        "\n",
        "  def call(self, input1, input2):\n",
        "    sum_square = K.sum(K.square(input1 - input2), axis=1, keepdims=True)\n",
        "    d =  K.sqrt(K.maximum(sum_square, K.epsilon()))\n",
        "    return d\n",
        "\n",
        "\n",
        "def euclidean_distance(vects):\n",
        "    x, y = vects\n",
        "    sum_square = K.sum(K.square(x - y), axis=1, keepdims=True)\n",
        "    return K.sqrt(K.maximum(sum_square, K.epsilon()))\n",
        "\n",
        "\n",
        "def eucl_dist_output_shape(shapes):\n",
        "    shape1, shape2 = shapes\n",
        "    return (shape1[0], 1)\n",
        "\n",
        "\n"
      ],
      "metadata": {
        "id": "hWjaB-yRM5NQ"
      },
      "execution_count": 31,
      "outputs": []
    },
    {
      "cell_type": "code",
      "source": [
        "net1 = twin_model(input1)\n",
        "net2 = twin_model(input2)\n",
        "\n",
        "# similarites = Compute_similarity()(net1, net2)\n",
        "# out_distance = tf.keras.layers.Lambda(euclidean_distance, name=\"output_layer\", output_shape=eucl_dist_output_shape)([net1, net2])\n",
        "out_distance = Eucidiean_distance(margin=1)(net1, net2)\n",
        "norm = tf.keras.layers.BatchNormalization()(out_distance)\n",
        "sig_out = tf.keras.layers.Dense(1, activation = \"sigmoid\")(norm)\n"
      ],
      "metadata": {
        "id": "qJd7weS3G_2a"
      },
      "execution_count": 32,
      "outputs": []
    },
    {
      "cell_type": "code",
      "source": [
        "Siemese_Network = tf.keras.Model(inputs = [input1, input2], outputs = sig_out\n",
        "                                 )"
      ],
      "metadata": {
        "id": "JRskZ9tMHB7W"
      },
      "execution_count": 33,
      "outputs": []
    },
    {
      "cell_type": "code",
      "source": [
        "### Summary of the siemese Network\n",
        "Siemese_Network.summary()"
      ],
      "metadata": {
        "colab": {
          "base_uri": "https://localhost:8080/"
        },
        "id": "YI_T_F7oOdz3",
        "outputId": "21e93714-b5ea-45a2-e11a-dbbfa65cb54b"
      },
      "execution_count": 34,
      "outputs": [
        {
          "output_type": "stream",
          "name": "stdout",
          "text": [
            "Model: \"model_1\"\n",
            "__________________________________________________________________________________________________\n",
            " Layer (type)                   Output Shape         Param #     Connected to                     \n",
            "==================================================================================================\n",
            " image1 (InputLayer)            [(None, 224, 224, 3  0           []                               \n",
            "                                )]                                                                \n",
            "                                                                                                  \n",
            " image2 (InputLayer)            [(None, 224, 224, 3  0           []                               \n",
            "                                )]                                                                \n",
            "                                                                                                  \n",
            " Embedding (Functional)         (None, 128)          23849984    ['image1[0][0]',                 \n",
            "                                                                  'image2[0][0]']                 \n",
            "                                                                                                  \n",
            " eucidiean_distance_1 (Eucidiea  (None, 1)           0           ['Embedding[0][0]',              \n",
            " n_distance)                                                      'Embedding[1][0]']              \n",
            "                                                                                                  \n",
            " batch_normalization_1 (BatchNo  (None, 1)           4           ['eucidiean_distance_1[0][0]']   \n",
            " rmalization)                                                                                     \n",
            "                                                                                                  \n",
            " dense_3 (Dense)                (None, 1)            2           ['batch_normalization_1[0][0]']  \n",
            "                                                                                                  \n",
            "==================================================================================================\n",
            "Total params: 23,849,990\n",
            "Trainable params: 262,276\n",
            "Non-trainable params: 23,587,714\n",
            "__________________________________________________________________________________________________\n"
          ]
        }
      ]
    },
    {
      "cell_type": "code",
      "source": [
        "!pip install tensorflow-addons"
      ],
      "metadata": {
        "colab": {
          "base_uri": "https://localhost:8080/"
        },
        "id": "FSupbqutvGW1",
        "outputId": "46c66744-f33a-44db-91f9-9760556adc92"
      },
      "execution_count": 35,
      "outputs": [
        {
          "output_type": "stream",
          "name": "stdout",
          "text": [
            "Requirement already satisfied: tensorflow-addons in /usr/local/lib/python3.10/dist-packages (0.21.0)\n",
            "Requirement already satisfied: packaging in /usr/local/lib/python3.10/dist-packages (from tensorflow-addons) (23.1)\n",
            "Requirement already satisfied: typeguard<3.0.0,>=2.7 in /usr/local/lib/python3.10/dist-packages (from tensorflow-addons) (2.13.3)\n"
          ]
        }
      ]
    },
    {
      "cell_type": "code",
      "source": [
        "import tensorflow_addons as tfa"
      ],
      "metadata": {
        "id": "e5Rye3AIvNOF"
      },
      "execution_count": 36,
      "outputs": []
    },
    {
      "cell_type": "markdown",
      "source": [
        "### Training the Network"
      ],
      "metadata": {
        "id": "70YkX-IGT_4l"
      }
    },
    {
      "cell_type": "code",
      "source": [
        "loss = tf.keras.losses.BinaryCrossentropy()\n",
        "optimizer = tf.keras.optimizers.Adam(learning_rate = 0.00001)\n",
        "metrics = [tf.keras.metrics.Accuracy()]\n",
        "def contrastive_loss(y, preds):\n",
        "  margin = 1\n",
        "  y = tf.cast(y, preds.dtype)\n",
        "  squaredPreds = K.square(preds)\n",
        "  squaredMargin = K.square(K.maximum(margin - preds, 0))\n",
        "  loss = K.mean(y * squaredPreds + (1 - y) * squaredMargin)\n",
        "  return loss\n",
        "\n",
        "\n",
        "\n",
        "### metrics\n",
        "# f1_score = tfa.metrics.F1Score(num_classes=2)\n",
        "precision = tf.keras.metrics.Precision()\n",
        "recall = tf.keras.metrics.Recall()\n",
        "\n",
        "def f1_score(y_true, y_preds):\n",
        "  pre = precision(y_true, y_preds)\n",
        "  rec = recall(y_true, y_preds)\n",
        "\n",
        "  return 2*((pre*rec)/ (pre + rec))\n",
        "\n",
        "\n",
        "\n",
        "## loading the data generators\n",
        "train_datagenerator = DataLoader(train_data)\n",
        "val_datagenerator = DataLoader(test_data)\n"
      ],
      "metadata": {
        "id": "wsiA0NnbT_Ir"
      },
      "execution_count": 37,
      "outputs": []
    },
    {
      "cell_type": "code",
      "source": [
        "Siemese_Network.compile(loss=contrastive_loss, optimizer=optimizer, metrics=[\"accuracy\", f1_score, precision, recall])"
      ],
      "metadata": {
        "id": "LsCkAcbUT_Bt"
      },
      "execution_count": 38,
      "outputs": []
    },
    {
      "cell_type": "code",
      "source": [
        "Siemese_Network.fit(train_datagenerator, epochs = CNF.epochs, validation_data=val_datagenerator)"
      ],
      "metadata": {
        "colab": {
          "base_uri": "https://localhost:8080/"
        },
        "id": "I2ShZG7FT65t",
        "outputId": "2cc33c15-fe28-4557-efc5-bf2c0eaf8db9"
      },
      "execution_count": 39,
      "outputs": [
        {
          "output_type": "stream",
          "name": "stdout",
          "text": [
            "Epoch 1/10\n",
            "15/15 [==============================] - 99s 1s/step - loss: 0.2608 - accuracy: 0.5324 - f1_score: 0.6221 - precision_2: 0.5580 - recall_2: 0.7594 - val_loss: 0.2471 - val_accuracy: 0.3875 - val_f1_score: 0.1313 - val_precision_2: 0.2353 - val_recall_2: 0.0449\n",
            "Epoch 2/10\n",
            "15/15 [==============================] - 39s 976ms/step - loss: 0.2633 - accuracy: 0.5428 - f1_score: 0.6436 - precision_2: 0.5655 - recall_2: 0.7632 - val_loss: 0.2474 - val_accuracy: 0.4187 - val_f1_score: 0.3271 - val_precision_2: 0.4474 - val_recall_2: 0.1910\n",
            "Epoch 3/10\n",
            "15/15 [==============================] - 39s 982ms/step - loss: 0.2596 - accuracy: 0.5282 - f1_score: 0.6296 - precision_2: 0.5546 - recall_2: 0.7632 - val_loss: 0.2477 - val_accuracy: 0.4875 - val_f1_score: 0.4676 - val_precision_2: 0.5522 - val_recall_2: 0.4157\n",
            "Epoch 4/10\n",
            "15/15 [==============================] - 39s 951ms/step - loss: 0.2611 - accuracy: 0.5282 - f1_score: 0.6477 - precision_2: 0.5543 - recall_2: 0.7669 - val_loss: 0.2480 - val_accuracy: 0.4875 - val_f1_score: 0.5033 - val_precision_2: 0.5376 - val_recall_2: 0.5618\n",
            "Epoch 5/10\n",
            "15/15 [==============================] - 38s 945ms/step - loss: 0.2625 - accuracy: 0.5282 - f1_score: 0.6429 - precision_2: 0.5546 - recall_2: 0.7632 - val_loss: 0.2483 - val_accuracy: 0.4688 - val_f1_score: 0.6117 - val_precision_2: 0.5189 - val_recall_2: 0.6180\n",
            "Epoch 6/10\n",
            "15/15 [==============================] - 37s 936ms/step - loss: 0.2626 - accuracy: 0.5240 - f1_score: 0.6357 - precision_2: 0.5531 - recall_2: 0.7444 - val_loss: 0.2486 - val_accuracy: 0.4812 - val_f1_score: 0.5942 - val_precision_2: 0.5268 - val_recall_2: 0.6629\n",
            "Epoch 7/10\n",
            "15/15 [==============================] - 37s 947ms/step - loss: 0.2617 - accuracy: 0.5282 - f1_score: 0.6519 - precision_2: 0.5556 - recall_2: 0.7519 - val_loss: 0.2489 - val_accuracy: 0.5063 - val_f1_score: 0.6050 - val_precision_2: 0.5417 - val_recall_2: 0.7303\n",
            "Epoch 8/10\n",
            "15/15 [==============================] - 37s 924ms/step - loss: 0.2611 - accuracy: 0.5240 - f1_score: 0.6479 - precision_2: 0.5525 - recall_2: 0.7519 - val_loss: 0.2492 - val_accuracy: 0.5000 - val_f1_score: 0.6254 - val_precision_2: 0.5372 - val_recall_2: 0.7303\n",
            "Epoch 9/10\n",
            "15/15 [==============================] - 37s 937ms/step - loss: 0.2604 - accuracy: 0.5261 - f1_score: 0.6277 - precision_2: 0.5531 - recall_2: 0.7632 - val_loss: 0.2495 - val_accuracy: 0.5063 - val_f1_score: 0.6485 - val_precision_2: 0.5410 - val_recall_2: 0.7416\n",
            "Epoch 10/10\n",
            "15/15 [==============================] - 37s 939ms/step - loss: 0.2614 - accuracy: 0.5282 - f1_score: 0.6378 - precision_2: 0.5562 - recall_2: 0.7444 - val_loss: 0.2497 - val_accuracy: 0.5063 - val_f1_score: 0.6858 - val_precision_2: 0.5397 - val_recall_2: 0.7640\n"
          ]
        },
        {
          "output_type": "execute_result",
          "data": {
            "text/plain": [
              "<keras.callbacks.History at 0x7998bf63ae30>"
            ]
          },
          "metadata": {},
          "execution_count": 39
        }
      ]
    },
    {
      "cell_type": "markdown",
      "source": [
        "**Preparing the testing data**"
      ],
      "metadata": {
        "id": "S032Uqo6bLTE"
      }
    },
    {
      "cell_type": "code",
      "source": [
        "dataframes = []\n",
        "for class_ in CNF.classes:\n",
        "  dir_class = os.path.join(CNF.data_folder, class_,)\n",
        "  train_normal_paths = glob.glob(os.path.join(dir_class, \"train\", \"good\",\"*.png\"))[:1]\n",
        "\n",
        "  test_abnormal_paths = []\n",
        "  test_normal_paths = []\n",
        "  for i in os.listdir(os.path.join(dir_class, \"test\")):\n",
        "    dir_path = os.path.join(dir_class, \"test\", i)\n",
        "    if(os.path.isdir(dir_path)):\n",
        "      if(i ==\"good\"):\n",
        "        test_normal_paths += glob.glob(os.path.join(dir_path, \"*.png\"))\n",
        "      else:\n",
        "        test_abnormal_paths += glob.glob(os.path.join(dir_path, \"*.png\"))\n",
        "\n",
        "\n",
        "  ### getting pairs for the training the deep learning models.\n",
        "  test_normal_normal = []\n",
        "  for i in range(len(train_normal_paths)):\n",
        "    for j in range(len(test_normal_paths)):\n",
        "      nn = [train_normal_paths[i], test_normal_paths[j]]\n",
        "      test_normal_normal.append(nn)\n",
        "\n",
        "  test_normal_abnormal = []\n",
        "  for i in range(len(train_normal_paths)):\n",
        "    for j in range(len(test_abnormal_paths)):\n",
        "      nn = [train_normal_paths[i], test_abnormal_paths[j]]\n",
        "      test_normal_abnormal.append(nn)\n",
        "\n",
        "\n",
        "  ## defining the labels\n",
        "  test_normal_normal_label = [0]*len(test_normal_normal)\n",
        "\n",
        "  test_normal_abnormal_label = [1]*len(test_normal_abnormal)\n",
        "\n",
        "  image_samples = test_normal_normal + test_normal_abnormal\n",
        "  labels = test_normal_normal_label + test_normal_abnormal_label\n",
        "  classes = [class_]*len(labels)\n",
        "  ### preparing the dataset from the pairs of dataset.\n",
        "  df = pd.DataFrame(image_samples, columns=[\"img1_path\", \"img2_path\"])\n",
        "  df[\"labels\"] = labels\n",
        "  df[\"classes\"] = classes\n",
        "  dataframes.append(df)"
      ],
      "metadata": {
        "id": "IBlht3MBbLBK"
      },
      "execution_count": 40,
      "outputs": []
    },
    {
      "cell_type": "code",
      "source": [
        "test_df =pd.concat(dataframes)"
      ],
      "metadata": {
        "id": "lKjFSwPLbK41"
      },
      "execution_count": 41,
      "outputs": []
    },
    {
      "cell_type": "code",
      "source": [
        "test_df.head()"
      ],
      "metadata": {
        "colab": {
          "base_uri": "https://localhost:8080/",
          "height": 206
        },
        "id": "Hy22fut_PjOn",
        "outputId": "e277dcd8-6c5a-4031-dd3a-295570debac6"
      },
      "execution_count": 42,
      "outputs": [
        {
          "output_type": "execute_result",
          "data": {
            "text/plain": [
              "                                 img1_path  \\\n",
              "0  /content/data/carpet/train/good/082.png   \n",
              "1  /content/data/carpet/train/good/082.png   \n",
              "2  /content/data/carpet/train/good/082.png   \n",
              "3  /content/data/carpet/train/good/082.png   \n",
              "4  /content/data/carpet/train/good/082.png   \n",
              "\n",
              "                                img2_path  labels classes  \n",
              "0  /content/data/carpet/test/good/026.png       0  carpet  \n",
              "1  /content/data/carpet/test/good/012.png       0  carpet  \n",
              "2  /content/data/carpet/test/good/024.png       0  carpet  \n",
              "3  /content/data/carpet/test/good/011.png       0  carpet  \n",
              "4  /content/data/carpet/test/good/014.png       0  carpet  "
            ],
            "text/html": [
              "\n",
              "\n",
              "  <div id=\"df-04a3a6ac-4b6c-4d79-92c2-1265dca1710a\">\n",
              "    <div class=\"colab-df-container\">\n",
              "      <div>\n",
              "<style scoped>\n",
              "    .dataframe tbody tr th:only-of-type {\n",
              "        vertical-align: middle;\n",
              "    }\n",
              "\n",
              "    .dataframe tbody tr th {\n",
              "        vertical-align: top;\n",
              "    }\n",
              "\n",
              "    .dataframe thead th {\n",
              "        text-align: right;\n",
              "    }\n",
              "</style>\n",
              "<table border=\"1\" class=\"dataframe\">\n",
              "  <thead>\n",
              "    <tr style=\"text-align: right;\">\n",
              "      <th></th>\n",
              "      <th>img1_path</th>\n",
              "      <th>img2_path</th>\n",
              "      <th>labels</th>\n",
              "      <th>classes</th>\n",
              "    </tr>\n",
              "  </thead>\n",
              "  <tbody>\n",
              "    <tr>\n",
              "      <th>0</th>\n",
              "      <td>/content/data/carpet/train/good/082.png</td>\n",
              "      <td>/content/data/carpet/test/good/026.png</td>\n",
              "      <td>0</td>\n",
              "      <td>carpet</td>\n",
              "    </tr>\n",
              "    <tr>\n",
              "      <th>1</th>\n",
              "      <td>/content/data/carpet/train/good/082.png</td>\n",
              "      <td>/content/data/carpet/test/good/012.png</td>\n",
              "      <td>0</td>\n",
              "      <td>carpet</td>\n",
              "    </tr>\n",
              "    <tr>\n",
              "      <th>2</th>\n",
              "      <td>/content/data/carpet/train/good/082.png</td>\n",
              "      <td>/content/data/carpet/test/good/024.png</td>\n",
              "      <td>0</td>\n",
              "      <td>carpet</td>\n",
              "    </tr>\n",
              "    <tr>\n",
              "      <th>3</th>\n",
              "      <td>/content/data/carpet/train/good/082.png</td>\n",
              "      <td>/content/data/carpet/test/good/011.png</td>\n",
              "      <td>0</td>\n",
              "      <td>carpet</td>\n",
              "    </tr>\n",
              "    <tr>\n",
              "      <th>4</th>\n",
              "      <td>/content/data/carpet/train/good/082.png</td>\n",
              "      <td>/content/data/carpet/test/good/014.png</td>\n",
              "      <td>0</td>\n",
              "      <td>carpet</td>\n",
              "    </tr>\n",
              "  </tbody>\n",
              "</table>\n",
              "</div>\n",
              "      <button class=\"colab-df-convert\" onclick=\"convertToInteractive('df-04a3a6ac-4b6c-4d79-92c2-1265dca1710a')\"\n",
              "              title=\"Convert this dataframe to an interactive table.\"\n",
              "              style=\"display:none;\">\n",
              "\n",
              "  <svg xmlns=\"http://www.w3.org/2000/svg\" height=\"24px\"viewBox=\"0 0 24 24\"\n",
              "       width=\"24px\">\n",
              "    <path d=\"M0 0h24v24H0V0z\" fill=\"none\"/>\n",
              "    <path d=\"M18.56 5.44l.94 2.06.94-2.06 2.06-.94-2.06-.94-.94-2.06-.94 2.06-2.06.94zm-11 1L8.5 8.5l.94-2.06 2.06-.94-2.06-.94L8.5 2.5l-.94 2.06-2.06.94zm10 10l.94 2.06.94-2.06 2.06-.94-2.06-.94-.94-2.06-.94 2.06-2.06.94z\"/><path d=\"M17.41 7.96l-1.37-1.37c-.4-.4-.92-.59-1.43-.59-.52 0-1.04.2-1.43.59L10.3 9.45l-7.72 7.72c-.78.78-.78 2.05 0 2.83L4 21.41c.39.39.9.59 1.41.59.51 0 1.02-.2 1.41-.59l7.78-7.78 2.81-2.81c.8-.78.8-2.07 0-2.86zM5.41 20L4 18.59l7.72-7.72 1.47 1.35L5.41 20z\"/>\n",
              "  </svg>\n",
              "      </button>\n",
              "\n",
              "\n",
              "\n",
              "    <div id=\"df-320c4665-8988-4962-8989-9f872ea9c51b\">\n",
              "      <button class=\"colab-df-quickchart\" onclick=\"quickchart('df-320c4665-8988-4962-8989-9f872ea9c51b')\"\n",
              "              title=\"Suggest charts.\"\n",
              "              style=\"display:none;\">\n",
              "\n",
              "<svg xmlns=\"http://www.w3.org/2000/svg\" height=\"24px\"viewBox=\"0 0 24 24\"\n",
              "     width=\"24px\">\n",
              "    <g>\n",
              "        <path d=\"M19 3H5c-1.1 0-2 .9-2 2v14c0 1.1.9 2 2 2h14c1.1 0 2-.9 2-2V5c0-1.1-.9-2-2-2zM9 17H7v-7h2v7zm4 0h-2V7h2v10zm4 0h-2v-4h2v4z\"/>\n",
              "    </g>\n",
              "</svg>\n",
              "      </button>\n",
              "    </div>\n",
              "\n",
              "<style>\n",
              "  .colab-df-quickchart {\n",
              "    background-color: #E8F0FE;\n",
              "    border: none;\n",
              "    border-radius: 50%;\n",
              "    cursor: pointer;\n",
              "    display: none;\n",
              "    fill: #1967D2;\n",
              "    height: 32px;\n",
              "    padding: 0 0 0 0;\n",
              "    width: 32px;\n",
              "  }\n",
              "\n",
              "  .colab-df-quickchart:hover {\n",
              "    background-color: #E2EBFA;\n",
              "    box-shadow: 0px 1px 2px rgba(60, 64, 67, 0.3), 0px 1px 3px 1px rgba(60, 64, 67, 0.15);\n",
              "    fill: #174EA6;\n",
              "  }\n",
              "\n",
              "  [theme=dark] .colab-df-quickchart {\n",
              "    background-color: #3B4455;\n",
              "    fill: #D2E3FC;\n",
              "  }\n",
              "\n",
              "  [theme=dark] .colab-df-quickchart:hover {\n",
              "    background-color: #434B5C;\n",
              "    box-shadow: 0px 1px 3px 1px rgba(0, 0, 0, 0.15);\n",
              "    filter: drop-shadow(0px 1px 2px rgba(0, 0, 0, 0.3));\n",
              "    fill: #FFFFFF;\n",
              "  }\n",
              "</style>\n",
              "\n",
              "    <script>\n",
              "      async function quickchart(key) {\n",
              "        const containerElement = document.querySelector('#' + key);\n",
              "        const charts = await google.colab.kernel.invokeFunction(\n",
              "            'suggestCharts', [key], {});\n",
              "      }\n",
              "    </script>\n",
              "\n",
              "      <script>\n",
              "\n",
              "function displayQuickchartButton(domScope) {\n",
              "  let quickchartButtonEl =\n",
              "    domScope.querySelector('#df-320c4665-8988-4962-8989-9f872ea9c51b button.colab-df-quickchart');\n",
              "  quickchartButtonEl.style.display =\n",
              "    google.colab.kernel.accessAllowed ? 'block' : 'none';\n",
              "}\n",
              "\n",
              "        displayQuickchartButton(document);\n",
              "      </script>\n",
              "      <style>\n",
              "    .colab-df-container {\n",
              "      display:flex;\n",
              "      flex-wrap:wrap;\n",
              "      gap: 12px;\n",
              "    }\n",
              "\n",
              "    .colab-df-convert {\n",
              "      background-color: #E8F0FE;\n",
              "      border: none;\n",
              "      border-radius: 50%;\n",
              "      cursor: pointer;\n",
              "      display: none;\n",
              "      fill: #1967D2;\n",
              "      height: 32px;\n",
              "      padding: 0 0 0 0;\n",
              "      width: 32px;\n",
              "    }\n",
              "\n",
              "    .colab-df-convert:hover {\n",
              "      background-color: #E2EBFA;\n",
              "      box-shadow: 0px 1px 2px rgba(60, 64, 67, 0.3), 0px 1px 3px 1px rgba(60, 64, 67, 0.15);\n",
              "      fill: #174EA6;\n",
              "    }\n",
              "\n",
              "    [theme=dark] .colab-df-convert {\n",
              "      background-color: #3B4455;\n",
              "      fill: #D2E3FC;\n",
              "    }\n",
              "\n",
              "    [theme=dark] .colab-df-convert:hover {\n",
              "      background-color: #434B5C;\n",
              "      box-shadow: 0px 1px 3px 1px rgba(0, 0, 0, 0.15);\n",
              "      filter: drop-shadow(0px 1px 2px rgba(0, 0, 0, 0.3));\n",
              "      fill: #FFFFFF;\n",
              "    }\n",
              "  </style>\n",
              "\n",
              "      <script>\n",
              "        const buttonEl =\n",
              "          document.querySelector('#df-04a3a6ac-4b6c-4d79-92c2-1265dca1710a button.colab-df-convert');\n",
              "        buttonEl.style.display =\n",
              "          google.colab.kernel.accessAllowed ? 'block' : 'none';\n",
              "\n",
              "        async function convertToInteractive(key) {\n",
              "          const element = document.querySelector('#df-04a3a6ac-4b6c-4d79-92c2-1265dca1710a');\n",
              "          const dataTable =\n",
              "            await google.colab.kernel.invokeFunction('convertToInteractive',\n",
              "                                                     [key], {});\n",
              "          if (!dataTable) return;\n",
              "\n",
              "          const docLinkHtml = 'Like what you see? Visit the ' +\n",
              "            '<a target=\"_blank\" href=https://colab.research.google.com/notebooks/data_table.ipynb>data table notebook</a>'\n",
              "            + ' to learn more about interactive tables.';\n",
              "          element.innerHTML = '';\n",
              "          dataTable['output_type'] = 'display_data';\n",
              "          await google.colab.output.renderOutput(dataTable, element);\n",
              "          const docLink = document.createElement('div');\n",
              "          docLink.innerHTML = docLinkHtml;\n",
              "          element.appendChild(docLink);\n",
              "        }\n",
              "      </script>\n",
              "    </div>\n",
              "  </div>\n"
            ]
          },
          "metadata": {},
          "execution_count": 42
        }
      ]
    },
    {
      "cell_type": "code",
      "source": [
        "eval_class = []\n",
        "eval_accuracy =  []\n",
        "eval_f1score = []\n",
        "eval_precision = []\n",
        "eval_recall = []\n",
        "\n",
        "for c in CNF.classes:\n",
        "  temp = test_df.loc[test_df[\"classes\"]==c]\n",
        "  test_load = DataLoader(temp)\n",
        "  hist = Siemese_Network.evaluate(test_load)\n",
        "  eval_class.append(c)\n",
        "  eval_accuracy.append(hist[1])\n",
        "  eval_f1score.append(hist[2])\n",
        "  eval_precision.append(hist[3])\n",
        "  eval_recall.append(hist[4])\n"
      ],
      "metadata": {
        "colab": {
          "base_uri": "https://localhost:8080/"
        },
        "id": "WvoP7swwipg_",
        "outputId": "ea0d1c74-7f43-45b5-cbc0-062c3d2c4a72"
      },
      "execution_count": 43,
      "outputs": [
        {
          "output_type": "stream",
          "name": "stdout",
          "text": [
            "4/4 [==============================] - 11s 503ms/step - loss: 0.2626 - accuracy: 0.7607 - f1_score: 0.8663 - precision_2: 0.7607 - recall_2: 1.0000\n",
            "4/4 [==============================] - 6s 462ms/step - loss: 0.2558 - accuracy: 0.6696 - f1_score: 0.7851 - precision_2: 0.8986 - recall_2: 0.6667\n",
            "4/4 [==============================] - 9s 689ms/step - loss: 0.2516 - accuracy: 0.5273 - f1_score: 0.7118 - precision_2: 0.5918 - recall_2: 0.8286\n",
            "5/5 [==============================] - 10s 298ms/step - loss: 0.2711 - accuracy: 0.8258 - f1_score: 0.8912 - precision_2: 0.8258 - recall_2: 1.0000\n",
            "2/2 [==============================] - 4s 803ms/step - loss: 0.2522 - accuracy: 0.6190 - f1_score: 0.8056 - precision_2: 0.7333 - recall_2: 0.7333\n",
            "6/6 [==============================] - 9s 421ms/step - loss: 0.2690 - accuracy: 0.8443 - f1_score: 0.9330 - precision_2: 0.8443 - recall_2: 1.0000\n",
            "3/3 [==============================] - 4s 165ms/step - loss: 0.2040 - accuracy: 0.2692 - f1_score: nan - precision_2: 0.0000e+00 - recall_2: 0.0000e+00\n",
            "3/3 [==============================] - 4s 171ms/step - loss: 0.2572 - accuracy: 0.7349 - f1_score: 0.8716 - precision_2: 0.7531 - recall_2: 0.9683\n",
            "5/5 [==============================] - 13s 670ms/step - loss: 0.2471 - accuracy: 0.3800 - f1_score: nan - precision_2: 0.4286 - recall_2: 0.0326\n",
            "4/4 [==============================] - 9s 580ms/step - loss: 0.2650 - accuracy: 0.7419 - f1_score: 0.8271 - precision_2: 0.7419 - recall_2: 1.0000\n",
            "4/4 [==============================] - 6s 188ms/step - loss: 0.2499 - accuracy: 0.5214 - f1_score: 0.6085 - precision_2: 0.6667 - recall_2: 0.6667\n",
            "4/4 [==============================] - 7s 153ms/step - loss: 0.2458 - accuracy: 0.3200 - f1_score: 0.4484 - precision_2: 0.3158 - recall_2: 0.6000\n",
            "5/5 [==============================] - 8s 688ms/step - loss: 0.2483 - accuracy: 0.4636 - f1_score: 0.5701 - precision_2: 0.8065 - recall_2: 0.4202\n",
            "3/3 [==============================] - 8s 965ms/step - loss: 0.2629 - accuracy: 0.7595 - f1_score: 0.8925 - precision_2: 0.7595 - recall_2: 1.0000\n",
            "5/5 [==============================] - 5s 211ms/step - loss: 0.2583 - accuracy: 0.7437 - f1_score: 0.8430 - precision_2: 0.7437 - recall_2: 1.0000\n"
          ]
        }
      ]
    },
    {
      "cell_type": "code",
      "source": [
        "#### evaluations\n",
        "evals = pd.DataFrame()\n",
        "evals[\"class\"] = eval_class\n",
        "evals[\"accuracy\"] = eval_accuracy\n",
        "evals[\"f1_score\"] = eval_f1score\n",
        "evals[\"precision\"] = eval_precision\n",
        "evals[\"recall\"] = eval_recall"
      ],
      "metadata": {
        "id": "wiG7-66kivux"
      },
      "execution_count": 46,
      "outputs": []
    },
    {
      "cell_type": "code",
      "source": [
        "evals"
      ],
      "metadata": {
        "id": "EKugs7dEkym1",
        "colab": {
          "base_uri": "https://localhost:8080/",
          "height": 520
        },
        "outputId": "bf0426d4-1677-4326-9ea7-1458364b97cc"
      },
      "execution_count": 47,
      "outputs": [
        {
          "output_type": "execute_result",
          "data": {
            "text/plain": [
              "         class  accuracy  f1_score  precision    recall\n",
              "0       carpet  0.760684  0.866301   0.760684  1.000000\n",
              "1    metal_nut  0.669565  0.785053   0.898551  0.666667\n",
              "2     hazelnut  0.527273  0.711826   0.591837  0.828571\n",
              "3      capsule  0.825758  0.891173   0.825758  1.000000\n",
              "4   toothbrush  0.619048  0.805556   0.733333  0.733333\n",
              "5         pill  0.844311  0.933003   0.844311  1.000000\n",
              "6         grid  0.269231       NaN   0.000000  0.000000\n",
              "7       bottle  0.734940  0.871617   0.753086  0.968254\n",
              "8        cable  0.380000       NaN   0.428571  0.032609\n",
              "9      leather  0.741935  0.827076   0.741935  1.000000\n",
              "10        tile  0.521368  0.608501   0.666667  0.666667\n",
              "11  transistor  0.320000  0.448379   0.315789  0.600000\n",
              "12      zipper  0.463576  0.570109   0.806452  0.420168\n",
              "13        wood  0.759494  0.892537   0.759494  1.000000\n",
              "14       screw  0.743750  0.842976   0.743750  1.000000"
            ],
            "text/html": [
              "\n",
              "\n",
              "  <div id=\"df-8d5bcb36-69fd-4741-87ac-c30499982a33\">\n",
              "    <div class=\"colab-df-container\">\n",
              "      <div>\n",
              "<style scoped>\n",
              "    .dataframe tbody tr th:only-of-type {\n",
              "        vertical-align: middle;\n",
              "    }\n",
              "\n",
              "    .dataframe tbody tr th {\n",
              "        vertical-align: top;\n",
              "    }\n",
              "\n",
              "    .dataframe thead th {\n",
              "        text-align: right;\n",
              "    }\n",
              "</style>\n",
              "<table border=\"1\" class=\"dataframe\">\n",
              "  <thead>\n",
              "    <tr style=\"text-align: right;\">\n",
              "      <th></th>\n",
              "      <th>class</th>\n",
              "      <th>accuracy</th>\n",
              "      <th>f1_score</th>\n",
              "      <th>precision</th>\n",
              "      <th>recall</th>\n",
              "    </tr>\n",
              "  </thead>\n",
              "  <tbody>\n",
              "    <tr>\n",
              "      <th>0</th>\n",
              "      <td>carpet</td>\n",
              "      <td>0.760684</td>\n",
              "      <td>0.866301</td>\n",
              "      <td>0.760684</td>\n",
              "      <td>1.000000</td>\n",
              "    </tr>\n",
              "    <tr>\n",
              "      <th>1</th>\n",
              "      <td>metal_nut</td>\n",
              "      <td>0.669565</td>\n",
              "      <td>0.785053</td>\n",
              "      <td>0.898551</td>\n",
              "      <td>0.666667</td>\n",
              "    </tr>\n",
              "    <tr>\n",
              "      <th>2</th>\n",
              "      <td>hazelnut</td>\n",
              "      <td>0.527273</td>\n",
              "      <td>0.711826</td>\n",
              "      <td>0.591837</td>\n",
              "      <td>0.828571</td>\n",
              "    </tr>\n",
              "    <tr>\n",
              "      <th>3</th>\n",
              "      <td>capsule</td>\n",
              "      <td>0.825758</td>\n",
              "      <td>0.891173</td>\n",
              "      <td>0.825758</td>\n",
              "      <td>1.000000</td>\n",
              "    </tr>\n",
              "    <tr>\n",
              "      <th>4</th>\n",
              "      <td>toothbrush</td>\n",
              "      <td>0.619048</td>\n",
              "      <td>0.805556</td>\n",
              "      <td>0.733333</td>\n",
              "      <td>0.733333</td>\n",
              "    </tr>\n",
              "    <tr>\n",
              "      <th>5</th>\n",
              "      <td>pill</td>\n",
              "      <td>0.844311</td>\n",
              "      <td>0.933003</td>\n",
              "      <td>0.844311</td>\n",
              "      <td>1.000000</td>\n",
              "    </tr>\n",
              "    <tr>\n",
              "      <th>6</th>\n",
              "      <td>grid</td>\n",
              "      <td>0.269231</td>\n",
              "      <td>NaN</td>\n",
              "      <td>0.000000</td>\n",
              "      <td>0.000000</td>\n",
              "    </tr>\n",
              "    <tr>\n",
              "      <th>7</th>\n",
              "      <td>bottle</td>\n",
              "      <td>0.734940</td>\n",
              "      <td>0.871617</td>\n",
              "      <td>0.753086</td>\n",
              "      <td>0.968254</td>\n",
              "    </tr>\n",
              "    <tr>\n",
              "      <th>8</th>\n",
              "      <td>cable</td>\n",
              "      <td>0.380000</td>\n",
              "      <td>NaN</td>\n",
              "      <td>0.428571</td>\n",
              "      <td>0.032609</td>\n",
              "    </tr>\n",
              "    <tr>\n",
              "      <th>9</th>\n",
              "      <td>leather</td>\n",
              "      <td>0.741935</td>\n",
              "      <td>0.827076</td>\n",
              "      <td>0.741935</td>\n",
              "      <td>1.000000</td>\n",
              "    </tr>\n",
              "    <tr>\n",
              "      <th>10</th>\n",
              "      <td>tile</td>\n",
              "      <td>0.521368</td>\n",
              "      <td>0.608501</td>\n",
              "      <td>0.666667</td>\n",
              "      <td>0.666667</td>\n",
              "    </tr>\n",
              "    <tr>\n",
              "      <th>11</th>\n",
              "      <td>transistor</td>\n",
              "      <td>0.320000</td>\n",
              "      <td>0.448379</td>\n",
              "      <td>0.315789</td>\n",
              "      <td>0.600000</td>\n",
              "    </tr>\n",
              "    <tr>\n",
              "      <th>12</th>\n",
              "      <td>zipper</td>\n",
              "      <td>0.463576</td>\n",
              "      <td>0.570109</td>\n",
              "      <td>0.806452</td>\n",
              "      <td>0.420168</td>\n",
              "    </tr>\n",
              "    <tr>\n",
              "      <th>13</th>\n",
              "      <td>wood</td>\n",
              "      <td>0.759494</td>\n",
              "      <td>0.892537</td>\n",
              "      <td>0.759494</td>\n",
              "      <td>1.000000</td>\n",
              "    </tr>\n",
              "    <tr>\n",
              "      <th>14</th>\n",
              "      <td>screw</td>\n",
              "      <td>0.743750</td>\n",
              "      <td>0.842976</td>\n",
              "      <td>0.743750</td>\n",
              "      <td>1.000000</td>\n",
              "    </tr>\n",
              "  </tbody>\n",
              "</table>\n",
              "</div>\n",
              "      <button class=\"colab-df-convert\" onclick=\"convertToInteractive('df-8d5bcb36-69fd-4741-87ac-c30499982a33')\"\n",
              "              title=\"Convert this dataframe to an interactive table.\"\n",
              "              style=\"display:none;\">\n",
              "\n",
              "  <svg xmlns=\"http://www.w3.org/2000/svg\" height=\"24px\"viewBox=\"0 0 24 24\"\n",
              "       width=\"24px\">\n",
              "    <path d=\"M0 0h24v24H0V0z\" fill=\"none\"/>\n",
              "    <path d=\"M18.56 5.44l.94 2.06.94-2.06 2.06-.94-2.06-.94-.94-2.06-.94 2.06-2.06.94zm-11 1L8.5 8.5l.94-2.06 2.06-.94-2.06-.94L8.5 2.5l-.94 2.06-2.06.94zm10 10l.94 2.06.94-2.06 2.06-.94-2.06-.94-.94-2.06-.94 2.06-2.06.94z\"/><path d=\"M17.41 7.96l-1.37-1.37c-.4-.4-.92-.59-1.43-.59-.52 0-1.04.2-1.43.59L10.3 9.45l-7.72 7.72c-.78.78-.78 2.05 0 2.83L4 21.41c.39.39.9.59 1.41.59.51 0 1.02-.2 1.41-.59l7.78-7.78 2.81-2.81c.8-.78.8-2.07 0-2.86zM5.41 20L4 18.59l7.72-7.72 1.47 1.35L5.41 20z\"/>\n",
              "  </svg>\n",
              "      </button>\n",
              "\n",
              "\n",
              "\n",
              "    <div id=\"df-baf6831c-2acd-4694-ae8b-af0e5ac8a2da\">\n",
              "      <button class=\"colab-df-quickchart\" onclick=\"quickchart('df-baf6831c-2acd-4694-ae8b-af0e5ac8a2da')\"\n",
              "              title=\"Suggest charts.\"\n",
              "              style=\"display:none;\">\n",
              "\n",
              "<svg xmlns=\"http://www.w3.org/2000/svg\" height=\"24px\"viewBox=\"0 0 24 24\"\n",
              "     width=\"24px\">\n",
              "    <g>\n",
              "        <path d=\"M19 3H5c-1.1 0-2 .9-2 2v14c0 1.1.9 2 2 2h14c1.1 0 2-.9 2-2V5c0-1.1-.9-2-2-2zM9 17H7v-7h2v7zm4 0h-2V7h2v10zm4 0h-2v-4h2v4z\"/>\n",
              "    </g>\n",
              "</svg>\n",
              "      </button>\n",
              "    </div>\n",
              "\n",
              "<style>\n",
              "  .colab-df-quickchart {\n",
              "    background-color: #E8F0FE;\n",
              "    border: none;\n",
              "    border-radius: 50%;\n",
              "    cursor: pointer;\n",
              "    display: none;\n",
              "    fill: #1967D2;\n",
              "    height: 32px;\n",
              "    padding: 0 0 0 0;\n",
              "    width: 32px;\n",
              "  }\n",
              "\n",
              "  .colab-df-quickchart:hover {\n",
              "    background-color: #E2EBFA;\n",
              "    box-shadow: 0px 1px 2px rgba(60, 64, 67, 0.3), 0px 1px 3px 1px rgba(60, 64, 67, 0.15);\n",
              "    fill: #174EA6;\n",
              "  }\n",
              "\n",
              "  [theme=dark] .colab-df-quickchart {\n",
              "    background-color: #3B4455;\n",
              "    fill: #D2E3FC;\n",
              "  }\n",
              "\n",
              "  [theme=dark] .colab-df-quickchart:hover {\n",
              "    background-color: #434B5C;\n",
              "    box-shadow: 0px 1px 3px 1px rgba(0, 0, 0, 0.15);\n",
              "    filter: drop-shadow(0px 1px 2px rgba(0, 0, 0, 0.3));\n",
              "    fill: #FFFFFF;\n",
              "  }\n",
              "</style>\n",
              "\n",
              "    <script>\n",
              "      async function quickchart(key) {\n",
              "        const containerElement = document.querySelector('#' + key);\n",
              "        const charts = await google.colab.kernel.invokeFunction(\n",
              "            'suggestCharts', [key], {});\n",
              "      }\n",
              "    </script>\n",
              "\n",
              "      <script>\n",
              "\n",
              "function displayQuickchartButton(domScope) {\n",
              "  let quickchartButtonEl =\n",
              "    domScope.querySelector('#df-baf6831c-2acd-4694-ae8b-af0e5ac8a2da button.colab-df-quickchart');\n",
              "  quickchartButtonEl.style.display =\n",
              "    google.colab.kernel.accessAllowed ? 'block' : 'none';\n",
              "}\n",
              "\n",
              "        displayQuickchartButton(document);\n",
              "      </script>\n",
              "      <style>\n",
              "    .colab-df-container {\n",
              "      display:flex;\n",
              "      flex-wrap:wrap;\n",
              "      gap: 12px;\n",
              "    }\n",
              "\n",
              "    .colab-df-convert {\n",
              "      background-color: #E8F0FE;\n",
              "      border: none;\n",
              "      border-radius: 50%;\n",
              "      cursor: pointer;\n",
              "      display: none;\n",
              "      fill: #1967D2;\n",
              "      height: 32px;\n",
              "      padding: 0 0 0 0;\n",
              "      width: 32px;\n",
              "    }\n",
              "\n",
              "    .colab-df-convert:hover {\n",
              "      background-color: #E2EBFA;\n",
              "      box-shadow: 0px 1px 2px rgba(60, 64, 67, 0.3), 0px 1px 3px 1px rgba(60, 64, 67, 0.15);\n",
              "      fill: #174EA6;\n",
              "    }\n",
              "\n",
              "    [theme=dark] .colab-df-convert {\n",
              "      background-color: #3B4455;\n",
              "      fill: #D2E3FC;\n",
              "    }\n",
              "\n",
              "    [theme=dark] .colab-df-convert:hover {\n",
              "      background-color: #434B5C;\n",
              "      box-shadow: 0px 1px 3px 1px rgba(0, 0, 0, 0.15);\n",
              "      filter: drop-shadow(0px 1px 2px rgba(0, 0, 0, 0.3));\n",
              "      fill: #FFFFFF;\n",
              "    }\n",
              "  </style>\n",
              "\n",
              "      <script>\n",
              "        const buttonEl =\n",
              "          document.querySelector('#df-8d5bcb36-69fd-4741-87ac-c30499982a33 button.colab-df-convert');\n",
              "        buttonEl.style.display =\n",
              "          google.colab.kernel.accessAllowed ? 'block' : 'none';\n",
              "\n",
              "        async function convertToInteractive(key) {\n",
              "          const element = document.querySelector('#df-8d5bcb36-69fd-4741-87ac-c30499982a33');\n",
              "          const dataTable =\n",
              "            await google.colab.kernel.invokeFunction('convertToInteractive',\n",
              "                                                     [key], {});\n",
              "          if (!dataTable) return;\n",
              "\n",
              "          const docLinkHtml = 'Like what you see? Visit the ' +\n",
              "            '<a target=\"_blank\" href=https://colab.research.google.com/notebooks/data_table.ipynb>data table notebook</a>'\n",
              "            + ' to learn more about interactive tables.';\n",
              "          element.innerHTML = '';\n",
              "          dataTable['output_type'] = 'display_data';\n",
              "          await google.colab.output.renderOutput(dataTable, element);\n",
              "          const docLink = document.createElement('div');\n",
              "          docLink.innerHTML = docLinkHtml;\n",
              "          element.appendChild(docLink);\n",
              "        }\n",
              "      </script>\n",
              "    </div>\n",
              "  </div>\n"
            ]
          },
          "metadata": {},
          "execution_count": 47
        }
      ]
    },
    {
      "cell_type": "code",
      "source": [],
      "metadata": {
        "id": "NNNZ9x-QpkEQ"
      },
      "execution_count": null,
      "outputs": []
    }
  ]
}