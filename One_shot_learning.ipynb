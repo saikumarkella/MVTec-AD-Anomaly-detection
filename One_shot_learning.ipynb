{
  "nbformat": 4,
  "nbformat_minor": 0,
  "metadata": {
    "colab": {
      "provenance": [],
      "gpuType": "T4"
    },
    "kernelspec": {
      "name": "python3",
      "display_name": "Python 3"
    },
    "language_info": {
      "name": "python"
    },
    "accelerator": "GPU"
  },
  "cells": [
    {
      "cell_type": "code",
      "execution_count": 1,
      "metadata": {
        "colab": {
          "base_uri": "https://localhost:8080/"
        },
        "id": "btHdJ0FXSkRb",
        "outputId": "c7153da3-d9a5-4a04-8cb6-c773b8518feb"
      },
      "outputs": [
        {
          "output_type": "stream",
          "name": "stdout",
          "text": [
            "--2023-07-15 05:23:08--  https://www.mydrive.ch/shares/38536/3830184030e49fe74747669442f0f282/download/420938113-1629952094/mvtec_anomaly_detection.tar.xz\n",
            "Resolving www.mydrive.ch (www.mydrive.ch)... 91.214.169.64\n",
            "Connecting to www.mydrive.ch (www.mydrive.ch)|91.214.169.64|:443... connected.\n",
            "HTTP request sent, awaiting response... 200 OK\n",
            "Length: 5264982680 (4.9G) [application/x-xz]\n",
            "Saving to: ‘mvtec_anomaly_detection.tar.xz’\n",
            "\n",
            "mvtec_anomaly_detec 100%[===================>]   4.90G  18.1MB/s    in 4m 51s  \n",
            "\n",
            "2023-07-15 05:28:00 (17.3 MB/s) - ‘mvtec_anomaly_detection.tar.xz’ saved [5264982680/5264982680]\n",
            "\n"
          ]
        }
      ],
      "source": [
        "## downloading the dataset\n",
        "!wget https://www.mydrive.ch/shares/38536/3830184030e49fe74747669442f0f282/download/420938113-1629952094/mvtec_anomaly_detection.tar.xz"
      ]
    },
    {
      "cell_type": "code",
      "source": [
        "!mkdir /content/data"
      ],
      "metadata": {
        "id": "FvAxW4mCBmKQ"
      },
      "execution_count": 5,
      "outputs": []
    },
    {
      "cell_type": "code",
      "source": [
        "## uncompressing the tar files\n",
        "!tar xf /content/mvtec_anomaly_detection.tar.xz -C /content/data"
      ],
      "metadata": {
        "id": "MFswjOYBXkYz"
      },
      "execution_count": 6,
      "outputs": []
    },
    {
      "cell_type": "code",
      "source": [
        "'''\n",
        "    Zero_shot_learning\n",
        "    ------------------\n",
        "    > Here we have a anomaly dataset.\n",
        "        > classes are defects and non-detects dataset.\n",
        "\n",
        "    > Here we will use the pretrained models\n",
        "'''\n",
        "## importing the modules\n",
        "import pandas as pd\n",
        "import numpy as np\n",
        "import tensorflow as tf\n",
        "from tqdm import tqdm\n",
        "import os\n",
        "from glob import glob\n",
        "import matplotlib.pyplot as plt\n",
        "import seaborn as sbn\n",
        "import cv2\n",
        "import keras\n",
        "import random\n"
      ],
      "metadata": {
        "id": "yRrLZys7XzzZ"
      },
      "execution_count": 7,
      "outputs": []
    },
    {
      "cell_type": "code",
      "source": [
        "\n",
        "\n",
        "\n",
        "## Configurations\n",
        "class CNF:\n",
        "    seed = 42\n",
        "    data_folder = \"/content/data\"  ### replace with your training data folder\n",
        "    target_shape = (224, 224)\n",
        "    labels = True # using labels or not.\n",
        "\n",
        "\n",
        "    ### dataset configs\n",
        "    buffer_size = 1024\n",
        "    batch_size = 32\n",
        "    validation_size = 0.2 ## 20% of data from the training dataset.\n",
        "\n",
        "    ### training hyperparameters\n",
        "    learning_rate = 0.00001\n",
        "\n",
        "### setting the reproducability\n",
        "def seeding():\n",
        "    np.random.seed = CNF.seed\n",
        "    tf.random.set_seed(CNF.seed)\n",
        "\n",
        "    print(\"| Seeding Done.\")\n",
        "\n",
        "### reproduciblity\n",
        "seeding()\n",
        "CNF.classes = [d for d in os.listdir(CNF.data_folder) if os.path.isdir(os.path.join(CNF.data_folder, d))]\n",
        "char_int = dict((k,v) for v,k in enumerate(CNF.classes))\n",
        "int_char = dict((v,k) for v,k in enumerate(CNF.classes))\n",
        "\n",
        "# build a lookup table\n",
        "table_char_int = tf.lookup.StaticHashTable(\n",
        "    initializer=tf.lookup.KeyValueTensorInitializer(\n",
        "        keys=tf.constant(list(char_int.keys())),\n",
        "        values=tf.constant(list(char_int.values())),\n",
        "    ),\n",
        "    default_value=tf.constant(-1),\n",
        "    name=\"classes\"\n",
        ")\n",
        "\n",
        "\n",
        "### Detecting the GPU and Setting distribution strategy based on the GPU or CPU.\n",
        "gpus = tf.config.experimental.list_logical_devices('GPU')\n",
        "if(len(gpus)>0):\n",
        "    CNF.device = \"GPU\"\n",
        "    strategy = tf.distribute.MirroredStrategy(devices=gpus)\n",
        "    print(\"> Running on {} | Number of devices {}\".format(CNF.device, len(gpus)))\n",
        "\n",
        "else:\n",
        "    CNF.device = \"CPU\"\n",
        "    strategy = tf.distribute.get_strategy() ## here we are getting the default strategy.\n",
        "    print(\"> Running on {}\".format(CNF.device))\n",
        "\n",
        "print(\"> Number of replicas : \", strategy.num_replicas_in_sync)\n",
        "\n",
        "\n",
        "## preparing the dataset\n",
        "class Prepare_dataset:\n",
        "\n",
        "  '''\n",
        "      Here we will prepare the dataset using\n",
        "      > Here we will create a data loaders\n",
        "      > and data generator.\n",
        "      > we will also apply data augmentation too\n",
        "  '''\n",
        "  def __init__(self):\n",
        "    self.training_data_paths = None\n",
        "    self.evaluation_data_paths = None\n",
        "    self.classes = None\n",
        "\n",
        "  def get_training_data_paths(self):\n",
        "    paths = glob(os.path.join(CNF.data_folder,\"**\",\"train\", \"good\",\"**.png\"))\n",
        "    self.training_data_paths = paths\n",
        "\n",
        "  def get_evaluation_data_paths(self):\n",
        "    paths = glob(os.path.join(CNF.data_folder, \"**\", \"test\", \"*\",\"**.png\"))\n",
        "    self.evaluation_data_paths = paths\n",
        "\n",
        "\n",
        "\n",
        "  def data_generator(self, train_paths):\n",
        "\n",
        "    def load_preprocess(path):\n",
        "        image=tf.io.read_file(path)\n",
        "        image = tf.io.decode_png(image, channels=3)\n",
        "        image = tf.keras.preprocessing.image.smart_resize(image, size = CNF.target_shape)\n",
        "        # print(image.shape)\n",
        "        return image/255\n",
        "\n",
        "    def get_label(path):\n",
        "        # print(path.numpy())\n",
        "        parts = tf.strings.split(path, os.path.sep)\n",
        "        label = parts[-4]\n",
        "        # print(label)\n",
        "        ### convert it into the hard label using char to int dictonary\n",
        "        out = table_char_int.lookup(label)\n",
        "        return tf.one_hot(out, depth=len(CNF.classes))\n",
        "\n",
        "\n",
        "    if(CNF.labels):\n",
        "      image = load_preprocess(train_paths)\n",
        "      label = get_label(train_paths)\n",
        "      return image, label\n",
        "\n",
        "    else:\n",
        "      image= load_preprocess(train_paths)\n",
        "      return image\n",
        "\n",
        "\n",
        "\n",
        "  def train_val_data_loader(self):\n",
        "    data_paths = random.sample(self.training_data_paths, len(self.training_data_paths))\n",
        "    train_data_paths = data_paths[:int(len(self.training_data_paths)*(1- CNF.validation_size))]\n",
        "    val_data_paths = data_paths[int(len(self.training_data_paths)*(1- CNF.validation_size)):]\n",
        "\n",
        "    ### training data loaders\n",
        "    dataset = tf.data.Dataset.from_tensor_slices(train_data_paths)\n",
        "    dataset = dataset.map(self.data_generator)\n",
        "    dataset = dataset.shuffle(CNF.buffer_size)\n",
        "    dataset = dataset.batch(CNF.batch_size)\n",
        "\n",
        "    ### validation data loaders\n",
        "    val_dataset = tf.data.Dataset.from_tensor_slices(val_data_paths)\n",
        "    val_dataset = val_dataset.map(self.data_generator)\n",
        "    val_dataset = val_dataset.shuffle(CNF.buffer_size)\n",
        "    val_dataset = val_dataset.batch(CNF.batch_size)\n",
        "\n",
        "    return dataset, val_dataset\n",
        "\n",
        "\n",
        "#### Sanity check\n",
        "\n",
        "if __name__ == \"__main__\":\n",
        "\n",
        "    ppd = Prepare_dataset()\n",
        "    ppd.get_training_data_paths()\n",
        "    ppd.get_evaluation_data_paths()\n",
        "\n",
        "    # img, label = ppd.data_generator(ppd.training_data_paths[0])\n",
        "\n",
        "    dataset, val_dataset = ppd.train_val_data_loader()\n",
        "\n"
      ],
      "metadata": {
        "id": "-1Sq2nU9awcu",
        "colab": {
          "base_uri": "https://localhost:8080/"
        },
        "outputId": "95534b08-202a-45ae-8cf5-26bb6cdd1e6f"
      },
      "execution_count": 8,
      "outputs": [
        {
          "output_type": "stream",
          "name": "stdout",
          "text": [
            "| Seeding Done.\n",
            "> Running on GPU | Number of devices 1\n",
            "> Number of replicas :  1\n"
          ]
        }
      ]
    },
    {
      "cell_type": "code",
      "source": [
        "### sanity-check data loaders\n",
        "k = iter(dataset)\n",
        "kk = next(k)"
      ],
      "metadata": {
        "id": "5AyI8QfcuB3X"
      },
      "execution_count": 9,
      "outputs": []
    },
    {
      "cell_type": "markdown",
      "source": [
        "### One-shot Learnining\n",
        "> Using a pretrained model as a Base Network.\n",
        "\n",
        "Steps for achieving a contrastive Learning:\n",
        "___\n",
        "1. Finetuning a pretrained network for achieving the multi classification problem.\n",
        "2. Using some similarity metric detecting defects and non-defects."
      ],
      "metadata": {
        "id": "-8Xs79SrPibX"
      }
    },
    {
      "cell_type": "code",
      "source": [
        "### getting the ResNet Model\n",
        "base_model = tf.keras.applications.MobileNetV2(\n",
        "    include_top=False,\n",
        "    weights=\"imagenet\",\n",
        "    input_shape=(CNF.target_shape[0], CNF.target_shape[1], 3)\n",
        ")\n",
        "\n",
        "## freezing the network.\n",
        "base_model.trainable = False"
      ],
      "metadata": {
        "id": "427teeZ_NNSf",
        "colab": {
          "base_uri": "https://localhost:8080/"
        },
        "outputId": "bfebeaed-49d2-4016-e955-8e33fb1035bd"
      },
      "execution_count": 10,
      "outputs": [
        {
          "output_type": "stream",
          "name": "stdout",
          "text": [
            "Downloading data from https://storage.googleapis.com/tensorflow/keras-applications/mobilenet_v2/mobilenet_v2_weights_tf_dim_ordering_tf_kernels_1.0_224_no_top.h5\n",
            "9406464/9406464 [==============================] - 0s 0us/step\n"
          ]
        }
      ]
    },
    {
      "cell_type": "code",
      "source": [
        "Model_nets = tf.keras.Sequential([\n",
        "    base_model,\n",
        "    tf.keras.layers.GlobalAveragePooling2D(),\n",
        "    tf.keras.layers.Dense(units = 128, activation=\"relu\", name = \"embed_layer\"),\n",
        "    tf.keras.layers.Dense(units = 15, activation = \"softmax\")\n",
        "])"
      ],
      "metadata": {
        "id": "YA8WHtegbh9q"
      },
      "execution_count": 11,
      "outputs": []
    },
    {
      "cell_type": "code",
      "source": [
        "Model_nets.summary()"
      ],
      "metadata": {
        "colab": {
          "base_uri": "https://localhost:8080/"
        },
        "id": "w2MAhuIEfC7w",
        "outputId": "78091a87-1566-4e20-87ce-2abc357e5626"
      },
      "execution_count": 12,
      "outputs": [
        {
          "output_type": "stream",
          "name": "stdout",
          "text": [
            "Model: \"sequential\"\n",
            "_________________________________________________________________\n",
            " Layer (type)                Output Shape              Param #   \n",
            "=================================================================\n",
            " mobilenetv2_1.00_224 (Funct  (None, 7, 7, 1280)       2257984   \n",
            " ional)                                                          \n",
            "                                                                 \n",
            " global_average_pooling2d (G  (None, 1280)             0         \n",
            " lobalAveragePooling2D)                                          \n",
            "                                                                 \n",
            " embed_layer (Dense)         (None, 128)               163968    \n",
            "                                                                 \n",
            " dense (Dense)               (None, 15)                1935      \n",
            "                                                                 \n",
            "=================================================================\n",
            "Total params: 2,423,887\n",
            "Trainable params: 165,903\n",
            "Non-trainable params: 2,257,984\n",
            "_________________________________________________________________\n"
          ]
        }
      ]
    },
    {
      "cell_type": "code",
      "source": [
        "## Training the Model in Multi-classification way.\n",
        "## compiling the model\n",
        "optimizer = tf.keras.optimizers.Adam(learning_rate=CNF.learning_rate)\n",
        "loss = tf.keras.losses.CategoricalCrossentropy(from_logits=False)\n",
        "metrics = tf.keras.metrics.CategoricalAccuracy()\n",
        "\n",
        "Model_nets.compile(loss=loss, optimizer=optimizer, metrics=[metrics])"
      ],
      "metadata": {
        "id": "QO7I6hkPfKqQ"
      },
      "execution_count": 13,
      "outputs": []
    },
    {
      "cell_type": "code",
      "source": [
        "Model_nets.fit(dataset, epochs=6, validation_data=val_dataset)"
      ],
      "metadata": {
        "colab": {
          "base_uri": "https://localhost:8080/"
        },
        "id": "IE1Xtn9Hhqm7",
        "outputId": "85025056-efc4-46ee-99e9-1e2a6d41f27e"
      },
      "execution_count": 15,
      "outputs": [
        {
          "output_type": "stream",
          "name": "stdout",
          "text": [
            "Epoch 1/6\n",
            "91/91 [==============================] - 144s 1s/step - loss: 2.8433 - categorical_accuracy: 0.0982 - val_loss: 2.4703 - val_categorical_accuracy: 0.2686\n",
            "Epoch 2/6\n",
            "91/91 [==============================] - 147s 1s/step - loss: 2.0380 - categorical_accuracy: 0.4754 - val_loss: 1.7331 - val_categorical_accuracy: 0.6377\n",
            "Epoch 3/6\n",
            "91/91 [==============================] - 135s 1s/step - loss: 1.3926 - categorical_accuracy: 0.7754 - val_loss: 1.1654 - val_categorical_accuracy: 0.8416\n",
            "Epoch 4/6\n",
            "91/91 [==============================] - 139s 1s/step - loss: 0.9204 - categorical_accuracy: 0.9125 - val_loss: 0.7701 - val_categorical_accuracy: 0.9050\n",
            "Epoch 5/6\n",
            "91/91 [==============================] - 127s 1s/step - loss: 0.6070 - categorical_accuracy: 0.9476 - val_loss: 0.5121 - val_categorical_accuracy: 0.9793\n",
            "Epoch 6/6\n",
            "91/91 [==============================] - 125s 999ms/step - loss: 0.4100 - categorical_accuracy: 0.9969 - val_loss: 0.3500 - val_categorical_accuracy: 1.0000\n"
          ]
        },
        {
          "output_type": "execute_result",
          "data": {
            "text/plain": [
              "<keras.callbacks.History at 0x7cd450123f70>"
            ]
          },
          "metadata": {},
          "execution_count": 15
        }
      ]
    },
    {
      "cell_type": "markdown",
      "source": [
        "### One-shot learning to detect defets by the similarity Metric:\n",
        "\n",
        "Step 1: Building the Embedded store.\n",
        "\n",
        "    - Embedded model , get the embedding of training data and store as a key points.\n",
        "  \n",
        "Step 2: Classify and detect defects of the testing dataset.\n",
        "\n",
        "    - Classify the Image of test data\n",
        "    - Get the Embeddings of the test image.\n",
        "    - Calculate the similarity distance with the embeddings of classified class."
      ],
      "metadata": {
        "id": "5epVgCtqqZY8"
      }
    },
    {
      "cell_type": "markdown",
      "source": [
        "**Step 1.1 : Embedding Model**"
      ],
      "metadata": {
        "id": "ip0PeySfyhzP"
      }
    },
    {
      "cell_type": "code",
      "source": [
        "## Embedding Network\n",
        "Embed_model = tf.keras.Model(inputs= Model_nets.inputs, outputs = Model_nets.get_layer(\"embed_layer\").output)\n",
        "Embed_model.trainable = False\n",
        "Embed_model.summary()"
      ],
      "metadata": {
        "colab": {
          "base_uri": "https://localhost:8080/"
        },
        "id": "y14iXPqrlr3f",
        "outputId": "c2efc788-a173-4965-fca4-00cf49be6536"
      },
      "execution_count": 16,
      "outputs": [
        {
          "output_type": "stream",
          "name": "stdout",
          "text": [
            "Model: \"model\"\n",
            "_________________________________________________________________\n",
            " Layer (type)                Output Shape              Param #   \n",
            "=================================================================\n",
            " mobilenetv2_1.00_224_input   [(None, 224, 224, 3)]    0         \n",
            " (InputLayer)                                                    \n",
            "                                                                 \n",
            " mobilenetv2_1.00_224 (Funct  (None, 7, 7, 1280)       2257984   \n",
            " ional)                                                          \n",
            "                                                                 \n",
            " global_average_pooling2d (G  (None, 1280)             0         \n",
            " lobalAveragePooling2D)                                          \n",
            "                                                                 \n",
            " embed_layer (Dense)         (None, 128)               163968    \n",
            "                                                                 \n",
            "=================================================================\n",
            "Total params: 2,421,952\n",
            "Trainable params: 0\n",
            "Non-trainable params: 2,421,952\n",
            "_________________________________________________________________\n"
          ]
        }
      ]
    },
    {
      "cell_type": "code",
      "source": [
        "### getting the training sample from each class, get the embeddings from those classes\n",
        "train_embed_samples = []\n",
        "for c in CNF.classes:\n",
        "  paths = random.sample(glob(os.path.join(CNF.data_folder , c, \"train\", \"good\", \"*.png\")),1)\n",
        "  train_embed_samples.append(paths[0])\n",
        "\n"
      ],
      "metadata": {
        "id": "UmTIv5fBxwUY"
      },
      "execution_count": 17,
      "outputs": []
    },
    {
      "cell_type": "code",
      "source": [
        "## training samples for base embeddings.\n",
        "train_embed_samples\n",
        "\n",
        "### Embedded Store\n",
        "train_embeds = {}\n",
        "\n",
        "\n",
        "for p in train_embed_samples:\n",
        "  x,y = ppd.data_generator(p)\n",
        "  x = np.expand_dims(x.numpy(), axis = 0)\n",
        "  y = np.argmax(y.numpy())\n",
        "  train_embeds[y]= Embed_model.predict(x)[0]\n"
      ],
      "metadata": {
        "colab": {
          "base_uri": "https://localhost:8080/"
        },
        "id": "PVVZGCKYx6ZO",
        "outputId": "1f2a6ee3-05b7-4547-9460-1f918151fc5f"
      },
      "execution_count": 18,
      "outputs": [
        {
          "output_type": "stream",
          "name": "stdout",
          "text": [
            "1/1 [==============================] - 3s 3s/step\n",
            "1/1 [==============================] - 0s 51ms/step\n",
            "1/1 [==============================] - 0s 129ms/step\n",
            "1/1 [==============================] - 0s 177ms/step\n",
            "1/1 [==============================] - 0s 125ms/step\n",
            "1/1 [==============================] - 0s 149ms/step\n",
            "1/1 [==============================] - 0s 180ms/step\n",
            "1/1 [==============================] - 0s 103ms/step\n",
            "1/1 [==============================] - 0s 61ms/step\n",
            "1/1 [==============================] - 0s 45ms/step\n",
            "1/1 [==============================] - 0s 41ms/step\n",
            "1/1 [==============================] - 0s 58ms/step\n",
            "1/1 [==============================] - 0s 85ms/step\n",
            "1/1 [==============================] - 0s 42ms/step\n",
            "1/1 [==============================] - 0s 38ms/step\n"
          ]
        }
      ]
    },
    {
      "cell_type": "code",
      "source": [
        "train_embeds[0].shape"
      ],
      "metadata": {
        "colab": {
          "base_uri": "https://localhost:8080/"
        },
        "id": "uLerF1QG0-Ql",
        "outputId": "77d46466-c53f-49f3-a255-4cc0a30b139b"
      },
      "execution_count": 19,
      "outputs": [
        {
          "output_type": "execute_result",
          "data": {
            "text/plain": [
              "(128,)"
            ]
          },
          "metadata": {},
          "execution_count": 19
        }
      ]
    },
    {
      "cell_type": "markdown",
      "source": [
        "**Step 2.1: Preparing the test dataset**"
      ],
      "metadata": {
        "id": "_8GddAkC5jVC"
      }
    },
    {
      "cell_type": "code",
      "source": [
        "## here we are preparing the data frames\n",
        "\n",
        "class_labels = []\n",
        "anomaly_labels = []\n",
        "\n",
        "for path in ppd.evaluation_data_paths:\n",
        "  chuncks = path.split(\"/\")\n",
        "  if(chuncks[-2] !=\"good\"):\n",
        "    anomaly_labels.append(\"defect\")\n",
        "  else:\n",
        "    anomaly_labels.append(\"not_defect\")\n",
        "\n",
        "  class_labels.append(chuncks[-4])\n",
        "\n",
        "test_df = pd.DataFrame()\n",
        "test_df[\"paths\"] = ppd.evaluation_data_paths\n",
        "test_df[\"class_labels\"] = class_labels\n",
        "test_df[\"anomaly_labels\"] =  anomaly_labels"
      ],
      "metadata": {
        "id": "IIQC8NhQ4THF"
      },
      "execution_count": 20,
      "outputs": []
    },
    {
      "cell_type": "code",
      "source": [],
      "metadata": {
        "id": "5OaSKraw7V1I"
      },
      "execution_count": null,
      "outputs": []
    },
    {
      "cell_type": "markdown",
      "source": [
        "**Step 2.2: Classify the test images**"
      ],
      "metadata": {
        "id": "VXM2Pea89hd3"
      }
    },
    {
      "cell_type": "code",
      "source": [
        "## Read the images from tthe test files\n",
        "test_images = []\n",
        "for img_path  in tqdm(test_df[\"paths\"]):\n",
        "  x,y = ppd.data_generator(img_path)\n",
        "  test_images.append(x)\n"
      ],
      "metadata": {
        "colab": {
          "base_uri": "https://localhost:8080/"
        },
        "id": "4bCoCD-p8BQN",
        "outputId": "301f8ec6-2d87-465b-8073-7eb933b0b6f6"
      },
      "execution_count": 21,
      "outputs": [
        {
          "output_type": "stream",
          "name": "stderr",
          "text": [
            "100%|██████████| 1725/1725 [01:45<00:00, 16.28it/s]\n"
          ]
        }
      ]
    },
    {
      "cell_type": "code",
      "source": [
        "test_images = np.array(test_images)"
      ],
      "metadata": {
        "id": "AvDxiVgyAKqz"
      },
      "execution_count": 22,
      "outputs": []
    },
    {
      "cell_type": "code",
      "source": [
        "### Predicting the classes from the images\n",
        "predict_class = Model_nets.predict(test_images)\n",
        "predict_class = np.argmax(predict_class, axis=1)"
      ],
      "metadata": {
        "colab": {
          "base_uri": "https://localhost:8080/"
        },
        "id": "AL6SYXgaA78Z",
        "outputId": "89db98fb-38da-46f0-caa2-f420a372d528"
      },
      "execution_count": 23,
      "outputs": [
        {
          "output_type": "stream",
          "name": "stdout",
          "text": [
            "54/54 [==============================] - 4s 53ms/step\n"
          ]
        }
      ]
    },
    {
      "cell_type": "code",
      "source": [
        "predict_class"
      ],
      "metadata": {
        "colab": {
          "base_uri": "https://localhost:8080/"
        },
        "id": "TqGknmlBZ3Pg",
        "outputId": "71bbd4a3-45a1-4ccc-8b2e-d41695b4be00"
      },
      "execution_count": 24,
      "outputs": [
        {
          "output_type": "execute_result",
          "data": {
            "text/plain": [
              "array([ 0,  0,  0, ..., 14, 14, 14])"
            ]
          },
          "metadata": {},
          "execution_count": 24
        }
      ]
    },
    {
      "cell_type": "markdown",
      "source": [
        "**Step 2.3: Get the Emeddings for the test images**"
      ],
      "metadata": {
        "id": "T6pwk0HkCEvq"
      }
    },
    {
      "cell_type": "code",
      "source": [
        "predict_embeds = Embed_model.predict(test_images)"
      ],
      "metadata": {
        "colab": {
          "base_uri": "https://localhost:8080/"
        },
        "id": "uU4e3YuHA-ap",
        "outputId": "7792022a-a204-4f0d-9b66-7c8c6327fde0"
      },
      "execution_count": 25,
      "outputs": [
        {
          "output_type": "stream",
          "name": "stdout",
          "text": [
            "54/54 [==============================] - 2s 32ms/step\n"
          ]
        }
      ]
    },
    {
      "cell_type": "markdown",
      "source": [
        "**Step 2.4: Getting in a single DataFrame**"
      ],
      "metadata": {
        "id": "ueGiJGm2CP_D"
      }
    },
    {
      "cell_type": "code",
      "source": [],
      "metadata": {
        "id": "CxB_quNvaLbc"
      },
      "execution_count": null,
      "outputs": []
    },
    {
      "cell_type": "code",
      "source": [
        "test_df[\"classes_predicted\"] = predict_class.tolist()\n",
        "test_df[\"test_embeddings\"] = predict_embeds.tolist()\n",
        "test_df[\"class_labels\"]  = test_df[\"class_labels\"].map(char_int)\n",
        "test_df[\"actual_train_embeddings\"] = test_df[\"class_labels\"].map(train_embeds)\n",
        "test_df[\"predicted_train_embeddings\"] = test_df[\"classes_predicted\"].map(train_embeds)\n"
      ],
      "metadata": {
        "id": "5c6lWu8FCuxk"
      },
      "execution_count": 26,
      "outputs": []
    },
    {
      "cell_type": "code",
      "source": [
        "test_df.head()"
      ],
      "metadata": {
        "colab": {
          "base_uri": "https://localhost:8080/",
          "height": 206
        },
        "id": "YtFgjoV9GwiF",
        "outputId": "583c64c6-c096-465b-a670-a0a1fde10ea2"
      },
      "execution_count": 27,
      "outputs": [
        {
          "output_type": "execute_result",
          "data": {
            "text/plain": [
              "                                   paths  class_labels anomaly_labels  \\\n",
              "0  /content/data/carpet/test/cut/012.png             0         defect   \n",
              "1  /content/data/carpet/test/cut/011.png             0         defect   \n",
              "2  /content/data/carpet/test/cut/014.png             0         defect   \n",
              "3  /content/data/carpet/test/cut/006.png             0         defect   \n",
              "4  /content/data/carpet/test/cut/001.png             0         defect   \n",
              "\n",
              "   classes_predicted                                    test_embeddings  \\\n",
              "0                  0  [2.5949559211730957, 1.819455623626709, 0.0, 0...   \n",
              "1                  0  [2.689892053604126, 1.3807616233825684, 0.0, 0...   \n",
              "2                  0  [2.5651955604553223, 0.9619268774986267, 0.0, ...   \n",
              "3                  0  [3.023603916168213, 2.4668610095977783, 0.0, 0...   \n",
              "4                  0  [2.7726571559906006, 2.0108351707458496, 0.0, ...   \n",
              "\n",
              "                             actual_train_embeddings  \\\n",
              "0  [2.4916694, 0.93609565, 0.0, 0.0, 0.0, 0.0, 0....   \n",
              "1  [2.4916694, 0.93609565, 0.0, 0.0, 0.0, 0.0, 0....   \n",
              "2  [2.4916694, 0.93609565, 0.0, 0.0, 0.0, 0.0, 0....   \n",
              "3  [2.4916694, 0.93609565, 0.0, 0.0, 0.0, 0.0, 0....   \n",
              "4  [2.4916694, 0.93609565, 0.0, 0.0, 0.0, 0.0, 0....   \n",
              "\n",
              "                          predicted_train_embeddings  \n",
              "0  [2.4916694, 0.93609565, 0.0, 0.0, 0.0, 0.0, 0....  \n",
              "1  [2.4916694, 0.93609565, 0.0, 0.0, 0.0, 0.0, 0....  \n",
              "2  [2.4916694, 0.93609565, 0.0, 0.0, 0.0, 0.0, 0....  \n",
              "3  [2.4916694, 0.93609565, 0.0, 0.0, 0.0, 0.0, 0....  \n",
              "4  [2.4916694, 0.93609565, 0.0, 0.0, 0.0, 0.0, 0....  "
            ],
            "text/html": [
              "\n",
              "\n",
              "  <div id=\"df-18e25bab-9b82-4c9b-8382-5365c22dee72\">\n",
              "    <div class=\"colab-df-container\">\n",
              "      <div>\n",
              "<style scoped>\n",
              "    .dataframe tbody tr th:only-of-type {\n",
              "        vertical-align: middle;\n",
              "    }\n",
              "\n",
              "    .dataframe tbody tr th {\n",
              "        vertical-align: top;\n",
              "    }\n",
              "\n",
              "    .dataframe thead th {\n",
              "        text-align: right;\n",
              "    }\n",
              "</style>\n",
              "<table border=\"1\" class=\"dataframe\">\n",
              "  <thead>\n",
              "    <tr style=\"text-align: right;\">\n",
              "      <th></th>\n",
              "      <th>paths</th>\n",
              "      <th>class_labels</th>\n",
              "      <th>anomaly_labels</th>\n",
              "      <th>classes_predicted</th>\n",
              "      <th>test_embeddings</th>\n",
              "      <th>actual_train_embeddings</th>\n",
              "      <th>predicted_train_embeddings</th>\n",
              "    </tr>\n",
              "  </thead>\n",
              "  <tbody>\n",
              "    <tr>\n",
              "      <th>0</th>\n",
              "      <td>/content/data/carpet/test/cut/012.png</td>\n",
              "      <td>0</td>\n",
              "      <td>defect</td>\n",
              "      <td>0</td>\n",
              "      <td>[2.5949559211730957, 1.819455623626709, 0.0, 0...</td>\n",
              "      <td>[2.4916694, 0.93609565, 0.0, 0.0, 0.0, 0.0, 0....</td>\n",
              "      <td>[2.4916694, 0.93609565, 0.0, 0.0, 0.0, 0.0, 0....</td>\n",
              "    </tr>\n",
              "    <tr>\n",
              "      <th>1</th>\n",
              "      <td>/content/data/carpet/test/cut/011.png</td>\n",
              "      <td>0</td>\n",
              "      <td>defect</td>\n",
              "      <td>0</td>\n",
              "      <td>[2.689892053604126, 1.3807616233825684, 0.0, 0...</td>\n",
              "      <td>[2.4916694, 0.93609565, 0.0, 0.0, 0.0, 0.0, 0....</td>\n",
              "      <td>[2.4916694, 0.93609565, 0.0, 0.0, 0.0, 0.0, 0....</td>\n",
              "    </tr>\n",
              "    <tr>\n",
              "      <th>2</th>\n",
              "      <td>/content/data/carpet/test/cut/014.png</td>\n",
              "      <td>0</td>\n",
              "      <td>defect</td>\n",
              "      <td>0</td>\n",
              "      <td>[2.5651955604553223, 0.9619268774986267, 0.0, ...</td>\n",
              "      <td>[2.4916694, 0.93609565, 0.0, 0.0, 0.0, 0.0, 0....</td>\n",
              "      <td>[2.4916694, 0.93609565, 0.0, 0.0, 0.0, 0.0, 0....</td>\n",
              "    </tr>\n",
              "    <tr>\n",
              "      <th>3</th>\n",
              "      <td>/content/data/carpet/test/cut/006.png</td>\n",
              "      <td>0</td>\n",
              "      <td>defect</td>\n",
              "      <td>0</td>\n",
              "      <td>[3.023603916168213, 2.4668610095977783, 0.0, 0...</td>\n",
              "      <td>[2.4916694, 0.93609565, 0.0, 0.0, 0.0, 0.0, 0....</td>\n",
              "      <td>[2.4916694, 0.93609565, 0.0, 0.0, 0.0, 0.0, 0....</td>\n",
              "    </tr>\n",
              "    <tr>\n",
              "      <th>4</th>\n",
              "      <td>/content/data/carpet/test/cut/001.png</td>\n",
              "      <td>0</td>\n",
              "      <td>defect</td>\n",
              "      <td>0</td>\n",
              "      <td>[2.7726571559906006, 2.0108351707458496, 0.0, ...</td>\n",
              "      <td>[2.4916694, 0.93609565, 0.0, 0.0, 0.0, 0.0, 0....</td>\n",
              "      <td>[2.4916694, 0.93609565, 0.0, 0.0, 0.0, 0.0, 0....</td>\n",
              "    </tr>\n",
              "  </tbody>\n",
              "</table>\n",
              "</div>\n",
              "      <button class=\"colab-df-convert\" onclick=\"convertToInteractive('df-18e25bab-9b82-4c9b-8382-5365c22dee72')\"\n",
              "              title=\"Convert this dataframe to an interactive table.\"\n",
              "              style=\"display:none;\">\n",
              "\n",
              "  <svg xmlns=\"http://www.w3.org/2000/svg\" height=\"24px\"viewBox=\"0 0 24 24\"\n",
              "       width=\"24px\">\n",
              "    <path d=\"M0 0h24v24H0V0z\" fill=\"none\"/>\n",
              "    <path d=\"M18.56 5.44l.94 2.06.94-2.06 2.06-.94-2.06-.94-.94-2.06-.94 2.06-2.06.94zm-11 1L8.5 8.5l.94-2.06 2.06-.94-2.06-.94L8.5 2.5l-.94 2.06-2.06.94zm10 10l.94 2.06.94-2.06 2.06-.94-2.06-.94-.94-2.06-.94 2.06-2.06.94z\"/><path d=\"M17.41 7.96l-1.37-1.37c-.4-.4-.92-.59-1.43-.59-.52 0-1.04.2-1.43.59L10.3 9.45l-7.72 7.72c-.78.78-.78 2.05 0 2.83L4 21.41c.39.39.9.59 1.41.59.51 0 1.02-.2 1.41-.59l7.78-7.78 2.81-2.81c.8-.78.8-2.07 0-2.86zM5.41 20L4 18.59l7.72-7.72 1.47 1.35L5.41 20z\"/>\n",
              "  </svg>\n",
              "      </button>\n",
              "\n",
              "\n",
              "\n",
              "    <div id=\"df-f7ea34e8-23cd-4946-be02-af576148c987\">\n",
              "      <button class=\"colab-df-quickchart\" onclick=\"quickchart('df-f7ea34e8-23cd-4946-be02-af576148c987')\"\n",
              "              title=\"Suggest charts.\"\n",
              "              style=\"display:none;\">\n",
              "\n",
              "<svg xmlns=\"http://www.w3.org/2000/svg\" height=\"24px\"viewBox=\"0 0 24 24\"\n",
              "     width=\"24px\">\n",
              "    <g>\n",
              "        <path d=\"M19 3H5c-1.1 0-2 .9-2 2v14c0 1.1.9 2 2 2h14c1.1 0 2-.9 2-2V5c0-1.1-.9-2-2-2zM9 17H7v-7h2v7zm4 0h-2V7h2v10zm4 0h-2v-4h2v4z\"/>\n",
              "    </g>\n",
              "</svg>\n",
              "      </button>\n",
              "    </div>\n",
              "\n",
              "<style>\n",
              "  .colab-df-quickchart {\n",
              "    background-color: #E8F0FE;\n",
              "    border: none;\n",
              "    border-radius: 50%;\n",
              "    cursor: pointer;\n",
              "    display: none;\n",
              "    fill: #1967D2;\n",
              "    height: 32px;\n",
              "    padding: 0 0 0 0;\n",
              "    width: 32px;\n",
              "  }\n",
              "\n",
              "  .colab-df-quickchart:hover {\n",
              "    background-color: #E2EBFA;\n",
              "    box-shadow: 0px 1px 2px rgba(60, 64, 67, 0.3), 0px 1px 3px 1px rgba(60, 64, 67, 0.15);\n",
              "    fill: #174EA6;\n",
              "  }\n",
              "\n",
              "  [theme=dark] .colab-df-quickchart {\n",
              "    background-color: #3B4455;\n",
              "    fill: #D2E3FC;\n",
              "  }\n",
              "\n",
              "  [theme=dark] .colab-df-quickchart:hover {\n",
              "    background-color: #434B5C;\n",
              "    box-shadow: 0px 1px 3px 1px rgba(0, 0, 0, 0.15);\n",
              "    filter: drop-shadow(0px 1px 2px rgba(0, 0, 0, 0.3));\n",
              "    fill: #FFFFFF;\n",
              "  }\n",
              "</style>\n",
              "\n",
              "    <script>\n",
              "      async function quickchart(key) {\n",
              "        const containerElement = document.querySelector('#' + key);\n",
              "        const charts = await google.colab.kernel.invokeFunction(\n",
              "            'suggestCharts', [key], {});\n",
              "      }\n",
              "    </script>\n",
              "\n",
              "      <script>\n",
              "\n",
              "function displayQuickchartButton(domScope) {\n",
              "  let quickchartButtonEl =\n",
              "    domScope.querySelector('#df-f7ea34e8-23cd-4946-be02-af576148c987 button.colab-df-quickchart');\n",
              "  quickchartButtonEl.style.display =\n",
              "    google.colab.kernel.accessAllowed ? 'block' : 'none';\n",
              "}\n",
              "\n",
              "        displayQuickchartButton(document);\n",
              "      </script>\n",
              "      <style>\n",
              "    .colab-df-container {\n",
              "      display:flex;\n",
              "      flex-wrap:wrap;\n",
              "      gap: 12px;\n",
              "    }\n",
              "\n",
              "    .colab-df-convert {\n",
              "      background-color: #E8F0FE;\n",
              "      border: none;\n",
              "      border-radius: 50%;\n",
              "      cursor: pointer;\n",
              "      display: none;\n",
              "      fill: #1967D2;\n",
              "      height: 32px;\n",
              "      padding: 0 0 0 0;\n",
              "      width: 32px;\n",
              "    }\n",
              "\n",
              "    .colab-df-convert:hover {\n",
              "      background-color: #E2EBFA;\n",
              "      box-shadow: 0px 1px 2px rgba(60, 64, 67, 0.3), 0px 1px 3px 1px rgba(60, 64, 67, 0.15);\n",
              "      fill: #174EA6;\n",
              "    }\n",
              "\n",
              "    [theme=dark] .colab-df-convert {\n",
              "      background-color: #3B4455;\n",
              "      fill: #D2E3FC;\n",
              "    }\n",
              "\n",
              "    [theme=dark] .colab-df-convert:hover {\n",
              "      background-color: #434B5C;\n",
              "      box-shadow: 0px 1px 3px 1px rgba(0, 0, 0, 0.15);\n",
              "      filter: drop-shadow(0px 1px 2px rgba(0, 0, 0, 0.3));\n",
              "      fill: #FFFFFF;\n",
              "    }\n",
              "  </style>\n",
              "\n",
              "      <script>\n",
              "        const buttonEl =\n",
              "          document.querySelector('#df-18e25bab-9b82-4c9b-8382-5365c22dee72 button.colab-df-convert');\n",
              "        buttonEl.style.display =\n",
              "          google.colab.kernel.accessAllowed ? 'block' : 'none';\n",
              "\n",
              "        async function convertToInteractive(key) {\n",
              "          const element = document.querySelector('#df-18e25bab-9b82-4c9b-8382-5365c22dee72');\n",
              "          const dataTable =\n",
              "            await google.colab.kernel.invokeFunction('convertToInteractive',\n",
              "                                                     [key], {});\n",
              "          if (!dataTable) return;\n",
              "\n",
              "          const docLinkHtml = 'Like what you see? Visit the ' +\n",
              "            '<a target=\"_blank\" href=https://colab.research.google.com/notebooks/data_table.ipynb>data table notebook</a>'\n",
              "            + ' to learn more about interactive tables.';\n",
              "          element.innerHTML = '';\n",
              "          dataTable['output_type'] = 'display_data';\n",
              "          await google.colab.output.renderOutput(dataTable, element);\n",
              "          const docLink = document.createElement('div');\n",
              "          docLink.innerHTML = docLinkHtml;\n",
              "          element.appendChild(docLink);\n",
              "        }\n",
              "      </script>\n",
              "    </div>\n",
              "  </div>\n"
            ]
          },
          "metadata": {},
          "execution_count": 27
        }
      ]
    },
    {
      "cell_type": "code",
      "source": [
        "tf.keras.metrics.Accuracy()(test_df[\"class_labels\"].values, test_df[\"classes_predicted\"].values)"
      ],
      "metadata": {
        "colab": {
          "base_uri": "https://localhost:8080/"
        },
        "id": "KBFXg5mQWlsO",
        "outputId": "3e12b178-6671-46d6-8ca5-226bde9e7679"
      },
      "execution_count": 28,
      "outputs": [
        {
          "output_type": "execute_result",
          "data": {
            "text/plain": [
              "<tf.Tensor: shape=(), dtype=float32, numpy=0.97275364>"
            ]
          },
          "metadata": {},
          "execution_count": 28
        }
      ]
    },
    {
      "cell_type": "code",
      "source": [],
      "metadata": {
        "id": "PfDK5a-3bX05"
      },
      "execution_count": null,
      "outputs": []
    },
    {
      "cell_type": "code",
      "source": [
        "from sklearn.metrics.pairwise import cosine_similarity, euclidean_distances, manhattan_distances"
      ],
      "metadata": {
        "id": "NlOlVntTHmxO"
      },
      "execution_count": 29,
      "outputs": []
    },
    {
      "cell_type": "code",
      "source": [
        "### Assuming the classes are Known for the test dataset.\n",
        "simil_known_class = []\n",
        "\n",
        "for i, j in zip(test_df[\"actual_train_embeddings\"].values, test_df[\"test_embeddings\"].values):\n",
        "  s = cosine_similarity(np.expand_dims(i, axis=0),np.expand_dims(j, axis = 0))\n",
        "  simil_known_class.append(s.tolist()[0])"
      ],
      "metadata": {
        "id": "C65AL59iLB8J"
      },
      "execution_count": 30,
      "outputs": []
    },
    {
      "cell_type": "code",
      "source": [
        "### Assuming the classes are unknown --> Here the classes are predicted from multi-classification model\n",
        "\n",
        "simil_unknown_class = []\n",
        "\n",
        "for i, j in zip(test_df[\"predicted_train_embeddings\"].values, test_df[\"test_embeddings\"].values):\n",
        "  s = cosine_similarity(np.expand_dims(i, axis=0),np.expand_dims(j, axis = 0))\n",
        "  simil_unknown_class.append(s.tolist()[0])"
      ],
      "metadata": {
        "id": "K9AFGmSiLgTZ"
      },
      "execution_count": 31,
      "outputs": []
    },
    {
      "cell_type": "code",
      "source": [],
      "metadata": {
        "id": "4pbPXV4KLoJI"
      },
      "execution_count": null,
      "outputs": []
    },
    {
      "cell_type": "code",
      "source": [],
      "metadata": {
        "id": "odsHtt1bOIYP"
      },
      "execution_count": null,
      "outputs": []
    },
    {
      "cell_type": "code",
      "source": [
        "### similarity checking for classes are unknown\n",
        "plt.plot(simil_unknown_class)"
      ],
      "metadata": {
        "colab": {
          "base_uri": "https://localhost:8080/",
          "height": 448
        },
        "id": "BJPDj3EdSEwd",
        "outputId": "5c1035e2-55fd-4210-b3c4-a623b17fc79e"
      },
      "execution_count": 32,
      "outputs": [
        {
          "output_type": "execute_result",
          "data": {
            "text/plain": [
              "[<matplotlib.lines.Line2D at 0x7cd3a848de70>]"
            ]
          },
          "metadata": {},
          "execution_count": 32
        },
        {
          "output_type": "display_data",
          "data": {
            "text/plain": [
              "<Figure size 640x480 with 1 Axes>"
            ],
            "image/png": "[encoded data removed]"
          },
          "metadata": {}
        }
      ]
    },
    {
      "cell_type": "code",
      "source": [
        "### For detecting the defects and non-defects, we are keeping a threshold\n",
        "detect_defect_threshold = 0.95\n",
        "\n",
        "anomalies_preds = (np.array(simil_unknown_class)<detect_defect_threshold).astype(int)"
      ],
      "metadata": {
        "id": "B49zNd3TaqwC"
      },
      "execution_count": 33,
      "outputs": []
    },
    {
      "cell_type": "markdown",
      "source": [
        "**Defect labels representations**\n",
        "- 1--> Defect\n",
        "- 0 --> Not Defect"
      ],
      "metadata": {
        "id": "Xv5Fs-zMngIa"
      }
    },
    {
      "cell_type": "code",
      "source": [
        "pred_anomalies = [i[0] for i in anomalies_preds]\n",
        "# test_df[\"predicts_anomalies\"] = anomalies"
      ],
      "metadata": {
        "id": "3ssMkKifcT1F"
      },
      "execution_count": 34,
      "outputs": []
    },
    {
      "cell_type": "code",
      "source": [
        "act_anomalies = test_df[\"anomaly_labels\"].map({\"defect\":1,\"not_defect\":0 })"
      ],
      "metadata": {
        "id": "-KSJBP4OmsTz"
      },
      "execution_count": 35,
      "outputs": []
    },
    {
      "cell_type": "code",
      "source": [
        "test_df[\"predicts_anomalies\"] = pred_anomalies\n",
        "test_df[\"anomaly_labels\"] = act_anomalies"
      ],
      "metadata": {
        "id": "Gd4G_XhmoDXy"
      },
      "execution_count": 47,
      "outputs": []
    },
    {
      "cell_type": "code",
      "source": [
        "test_df.head(10)"
      ],
      "metadata": {
        "colab": {
          "base_uri": "https://localhost:8080/",
          "height": 407
        },
        "id": "zKlQyqn8I2AC",
        "outputId": "85678e3a-b364-42fa-b277-a38b63ca8cd3"
      },
      "execution_count": 46,
      "outputs": [
        {
          "output_type": "execute_result",
          "data": {
            "text/plain": [
              "                                   paths  class_labels  anomaly_labels  \\\n",
              "0  /content/data/carpet/test/cut/012.png             0               1   \n",
              "1  /content/data/carpet/test/cut/011.png             0               1   \n",
              "2  /content/data/carpet/test/cut/014.png             0               1   \n",
              "3  /content/data/carpet/test/cut/006.png             0               1   \n",
              "4  /content/data/carpet/test/cut/001.png             0               1   \n",
              "5  /content/data/carpet/test/cut/005.png             0               1   \n",
              "6  /content/data/carpet/test/cut/016.png             0               1   \n",
              "7  /content/data/carpet/test/cut/004.png             0               1   \n",
              "8  /content/data/carpet/test/cut/000.png             0               1   \n",
              "9  /content/data/carpet/test/cut/009.png             0               1   \n",
              "\n",
              "   classes_predicted                                    test_embeddings  \\\n",
              "0                  0  [2.5949559211730957, 1.819455623626709, 0.0, 0...   \n",
              "1                  0  [2.689892053604126, 1.3807616233825684, 0.0, 0...   \n",
              "2                  0  [2.5651955604553223, 0.9619268774986267, 0.0, ...   \n",
              "3                  0  [3.023603916168213, 2.4668610095977783, 0.0, 0...   \n",
              "4                  0  [2.7726571559906006, 2.0108351707458496, 0.0, ...   \n",
              "5                  0  [2.4544434547424316, 1.1047000885009766, 0.0, ...   \n",
              "6                  0  [2.577212333679199, 1.0157837867736816, 0.0, 0...   \n",
              "7                  0  [2.8355519771575928, 1.1051609516143799, 0.0, ...   \n",
              "8                  0  [2.5516035556793213, 1.5039570331573486, 0.0, ...   \n",
              "9                  0  [3.019320487976074, 1.8164576292037964, 0.0, 0...   \n",
              "\n",
              "                             actual_train_embeddings  \\\n",
              "0  [2.4916694, 0.93609565, 0.0, 0.0, 0.0, 0.0, 0....   \n",
              "1  [2.4916694, 0.93609565, 0.0, 0.0, 0.0, 0.0, 0....   \n",
              "2  [2.4916694, 0.93609565, 0.0, 0.0, 0.0, 0.0, 0....   \n",
              "3  [2.4916694, 0.93609565, 0.0, 0.0, 0.0, 0.0, 0....   \n",
              "4  [2.4916694, 0.93609565, 0.0, 0.0, 0.0, 0.0, 0....   \n",
              "5  [2.4916694, 0.93609565, 0.0, 0.0, 0.0, 0.0, 0....   \n",
              "6  [2.4916694, 0.93609565, 0.0, 0.0, 0.0, 0.0, 0....   \n",
              "7  [2.4916694, 0.93609565, 0.0, 0.0, 0.0, 0.0, 0....   \n",
              "8  [2.4916694, 0.93609565, 0.0, 0.0, 0.0, 0.0, 0....   \n",
              "9  [2.4916694, 0.93609565, 0.0, 0.0, 0.0, 0.0, 0....   \n",
              "\n",
              "                          predicted_train_embeddings  predicts_anomalies  \n",
              "0  [2.4916694, 0.93609565, 0.0, 0.0, 0.0, 0.0, 0....                   0  \n",
              "1  [2.4916694, 0.93609565, 0.0, 0.0, 0.0, 0.0, 0....                   0  \n",
              "2  [2.4916694, 0.93609565, 0.0, 0.0, 0.0, 0.0, 0....                   0  \n",
              "3  [2.4916694, 0.93609565, 0.0, 0.0, 0.0, 0.0, 0....                   1  \n",
              "4  [2.4916694, 0.93609565, 0.0, 0.0, 0.0, 0.0, 0....                   0  \n",
              "5  [2.4916694, 0.93609565, 0.0, 0.0, 0.0, 0.0, 0....                   0  \n",
              "6  [2.4916694, 0.93609565, 0.0, 0.0, 0.0, 0.0, 0....                   0  \n",
              "7  [2.4916694, 0.93609565, 0.0, 0.0, 0.0, 0.0, 0....                   0  \n",
              "8  [2.4916694, 0.93609565, 0.0, 0.0, 0.0, 0.0, 0....                   0  \n",
              "9  [2.4916694, 0.93609565, 0.0, 0.0, 0.0, 0.0, 0....                   0  "
            ],
            "text/html": [
              "\n",
              "\n",
              "  <div id=\"df-2bcc180b-5cc9-4264-84bc-8df9e720e389\">\n",
              "    <div class=\"colab-df-container\">\n",
              "      <div>\n",
              "<style scoped>\n",
              "    .dataframe tbody tr th:only-of-type {\n",
              "        vertical-align: middle;\n",
              "    }\n",
              "\n",
              "    .dataframe tbody tr th {\n",
              "        vertical-align: top;\n",
              "    }\n",
              "\n",
              "    .dataframe thead th {\n",
              "        text-align: right;\n",
              "    }\n",
              "</style>\n",
              "<table border=\"1\" class=\"dataframe\">\n",
              "  <thead>\n",
              "    <tr style=\"text-align: right;\">\n",
              "      <th></th>\n",
              "      <th>paths</th>\n",
              "      <th>class_labels</th>\n",
              "      <th>anomaly_labels</th>\n",
              "      <th>classes_predicted</th>\n",
              "      <th>test_embeddings</th>\n",
              "      <th>actual_train_embeddings</th>\n",
              "      <th>predicted_train_embeddings</th>\n",
              "      <th>predicts_anomalies</th>\n",
              "    </tr>\n",
              "  </thead>\n",
              "  <tbody>\n",
              "    <tr>\n",
              "      <th>0</th>\n",
              "      <td>/content/data/carpet/test/cut/012.png</td>\n",
              "      <td>0</td>\n",
              "      <td>1</td>\n",
              "      <td>0</td>\n",
              "      <td>[2.5949559211730957, 1.819455623626709, 0.0, 0...</td>\n",
              "      <td>[2.4916694, 0.93609565, 0.0, 0.0, 0.0, 0.0, 0....</td>\n",
              "      <td>[2.4916694, 0.93609565, 0.0, 0.0, 0.0, 0.0, 0....</td>\n",
              "      <td>0</td>\n",
              "    </tr>\n",
              "    <tr>\n",
              "      <th>1</th>\n",
              "      <td>/content/data/carpet/test/cut/011.png</td>\n",
              "      <td>0</td>\n",
              "      <td>1</td>\n",
              "      <td>0</td>\n",
              "      <td>[2.689892053604126, 1.3807616233825684, 0.0, 0...</td>\n",
              "      <td>[2.4916694, 0.93609565, 0.0, 0.0, 0.0, 0.0, 0....</td>\n",
              "      <td>[2.4916694, 0.93609565, 0.0, 0.0, 0.0, 0.0, 0....</td>\n",
              "      <td>0</td>\n",
              "    </tr>\n",
              "    <tr>\n",
              "      <th>2</th>\n",
              "      <td>/content/data/carpet/test/cut/014.png</td>\n",
              "      <td>0</td>\n",
              "      <td>1</td>\n",
              "      <td>0</td>\n",
              "      <td>[2.5651955604553223, 0.9619268774986267, 0.0, ...</td>\n",
              "      <td>[2.4916694, 0.93609565, 0.0, 0.0, 0.0, 0.0, 0....</td>\n",
              "      <td>[2.4916694, 0.93609565, 0.0, 0.0, 0.0, 0.0, 0....</td>\n",
              "      <td>0</td>\n",
              "    </tr>\n",
              "    <tr>\n",
              "      <th>3</th>\n",
              "      <td>/content/data/carpet/test/cut/006.png</td>\n",
              "      <td>0</td>\n",
              "      <td>1</td>\n",
              "      <td>0</td>\n",
              "      <td>[3.023603916168213, 2.4668610095977783, 0.0, 0...</td>\n",
              "      <td>[2.4916694, 0.93609565, 0.0, 0.0, 0.0, 0.0, 0....</td>\n",
              "      <td>[2.4916694, 0.93609565, 0.0, 0.0, 0.0, 0.0, 0....</td>\n",
              "      <td>1</td>\n",
              "    </tr>\n",
              "    <tr>\n",
              "      <th>4</th>\n",
              "      <td>/content/data/carpet/test/cut/001.png</td>\n",
              "      <td>0</td>\n",
              "      <td>1</td>\n",
              "      <td>0</td>\n",
              "      <td>[2.7726571559906006, 2.0108351707458496, 0.0, ...</td>\n",
              "      <td>[2.4916694, 0.93609565, 0.0, 0.0, 0.0, 0.0, 0....</td>\n",
              "      <td>[2.4916694, 0.93609565, 0.0, 0.0, 0.0, 0.0, 0....</td>\n",
              "      <td>0</td>\n",
              "    </tr>\n",
              "    <tr>\n",
              "      <th>5</th>\n",
              "      <td>/content/data/carpet/test/cut/005.png</td>\n",
              "      <td>0</td>\n",
              "      <td>1</td>\n",
              "      <td>0</td>\n",
              "      <td>[2.4544434547424316, 1.1047000885009766, 0.0, ...</td>\n",
              "      <td>[2.4916694, 0.93609565, 0.0, 0.0, 0.0, 0.0, 0....</td>\n",
              "      <td>[2.4916694, 0.93609565, 0.0, 0.0, 0.0, 0.0, 0....</td>\n",
              "      <td>0</td>\n",
              "    </tr>\n",
              "    <tr>\n",
              "      <th>6</th>\n",
              "      <td>/content/data/carpet/test/cut/016.png</td>\n",
              "      <td>0</td>\n",
              "      <td>1</td>\n",
              "      <td>0</td>\n",
              "      <td>[2.577212333679199, 1.0157837867736816, 0.0, 0...</td>\n",
              "      <td>[2.4916694, 0.93609565, 0.0, 0.0, 0.0, 0.0, 0....</td>\n",
              "      <td>[2.4916694, 0.93609565, 0.0, 0.0, 0.0, 0.0, 0....</td>\n",
              "      <td>0</td>\n",
              "    </tr>\n",
              "    <tr>\n",
              "      <th>7</th>\n",
              "      <td>/content/data/carpet/test/cut/004.png</td>\n",
              "      <td>0</td>\n",
              "      <td>1</td>\n",
              "      <td>0</td>\n",
              "      <td>[2.8355519771575928, 1.1051609516143799, 0.0, ...</td>\n",
              "      <td>[2.4916694, 0.93609565, 0.0, 0.0, 0.0, 0.0, 0....</td>\n",
              "      <td>[2.4916694, 0.93609565, 0.0, 0.0, 0.0, 0.0, 0....</td>\n",
              "      <td>0</td>\n",
              "    </tr>\n",
              "    <tr>\n",
              "      <th>8</th>\n",
              "      <td>/content/data/carpet/test/cut/000.png</td>\n",
              "      <td>0</td>\n",
              "      <td>1</td>\n",
              "      <td>0</td>\n",
              "      <td>[2.5516035556793213, 1.5039570331573486, 0.0, ...</td>\n",
              "      <td>[2.4916694, 0.93609565, 0.0, 0.0, 0.0, 0.0, 0....</td>\n",
              "      <td>[2.4916694, 0.93609565, 0.0, 0.0, 0.0, 0.0, 0....</td>\n",
              "      <td>0</td>\n",
              "    </tr>\n",
              "    <tr>\n",
              "      <th>9</th>\n",
              "      <td>/content/data/carpet/test/cut/009.png</td>\n",
              "      <td>0</td>\n",
              "      <td>1</td>\n",
              "      <td>0</td>\n",
              "      <td>[3.019320487976074, 1.8164576292037964, 0.0, 0...</td>\n",
              "      <td>[2.4916694, 0.93609565, 0.0, 0.0, 0.0, 0.0, 0....</td>\n",
              "      <td>[2.4916694, 0.93609565, 0.0, 0.0, 0.0, 0.0, 0....</td>\n",
              "      <td>0</td>\n",
              "    </tr>\n",
              "  </tbody>\n",
              "</table>\n",
              "</div>\n",
              "      <button class=\"colab-df-convert\" onclick=\"convertToInteractive('df-2bcc180b-5cc9-4264-84bc-8df9e720e389')\"\n",
              "              title=\"Convert this dataframe to an interactive table.\"\n",
              "              style=\"display:none;\">\n",
              "\n",
              "  <svg xmlns=\"http://www.w3.org/2000/svg\" height=\"24px\"viewBox=\"0 0 24 24\"\n",
              "       width=\"24px\">\n",
              "    <path d=\"M0 0h24v24H0V0z\" fill=\"none\"/>\n",
              "    <path d=\"M18.56 5.44l.94 2.06.94-2.06 2.06-.94-2.06-.94-.94-2.06-.94 2.06-2.06.94zm-11 1L8.5 8.5l.94-2.06 2.06-.94-2.06-.94L8.5 2.5l-.94 2.06-2.06.94zm10 10l.94 2.06.94-2.06 2.06-.94-2.06-.94-.94-2.06-.94 2.06-2.06.94z\"/><path d=\"M17.41 7.96l-1.37-1.37c-.4-.4-.92-.59-1.43-.59-.52 0-1.04.2-1.43.59L10.3 9.45l-7.72 7.72c-.78.78-.78 2.05 0 2.83L4 21.41c.39.39.9.59 1.41.59.51 0 1.02-.2 1.41-.59l7.78-7.78 2.81-2.81c.8-.78.8-2.07 0-2.86zM5.41 20L4 18.59l7.72-7.72 1.47 1.35L5.41 20z\"/>\n",
              "  </svg>\n",
              "      </button>\n",
              "\n",
              "\n",
              "\n",
              "    <div id=\"df-04a9d1fe-57ca-4018-b8f2-e0621e563e1b\">\n",
              "      <button class=\"colab-df-quickchart\" onclick=\"quickchart('df-04a9d1fe-57ca-4018-b8f2-e0621e563e1b')\"\n",
              "              title=\"Suggest charts.\"\n",
              "              style=\"display:none;\">\n",
              "\n",
              "<svg xmlns=\"http://www.w3.org/2000/svg\" height=\"24px\"viewBox=\"0 0 24 24\"\n",
              "     width=\"24px\">\n",
              "    <g>\n",
              "        <path d=\"M19 3H5c-1.1 0-2 .9-2 2v14c0 1.1.9 2 2 2h14c1.1 0 2-.9 2-2V5c0-1.1-.9-2-2-2zM9 17H7v-7h2v7zm4 0h-2V7h2v10zm4 0h-2v-4h2v4z\"/>\n",
              "    </g>\n",
              "</svg>\n",
              "      </button>\n",
              "    </div>\n",
              "\n",
              "<style>\n",
              "  .colab-df-quickchart {\n",
              "    background-color: #E8F0FE;\n",
              "    border: none;\n",
              "    border-radius: 50%;\n",
              "    cursor: pointer;\n",
              "    display: none;\n",
              "    fill: #1967D2;\n",
              "    height: 32px;\n",
              "    padding: 0 0 0 0;\n",
              "    width: 32px;\n",
              "  }\n",
              "\n",
              "  .colab-df-quickchart:hover {\n",
              "    background-color: #E2EBFA;\n",
              "    box-shadow: 0px 1px 2px rgba(60, 64, 67, 0.3), 0px 1px 3px 1px rgba(60, 64, 67, 0.15);\n",
              "    fill: #174EA6;\n",
              "  }\n",
              "\n",
              "  [theme=dark] .colab-df-quickchart {\n",
              "    background-color: #3B4455;\n",
              "    fill: #D2E3FC;\n",
              "  }\n",
              "\n",
              "  [theme=dark] .colab-df-quickchart:hover {\n",
              "    background-color: #434B5C;\n",
              "    box-shadow: 0px 1px 3px 1px rgba(0, 0, 0, 0.15);\n",
              "    filter: drop-shadow(0px 1px 2px rgba(0, 0, 0, 0.3));\n",
              "    fill: #FFFFFF;\n",
              "  }\n",
              "</style>\n",
              "\n",
              "    <script>\n",
              "      async function quickchart(key) {\n",
              "        const containerElement = document.querySelector('#' + key);\n",
              "        const charts = await google.colab.kernel.invokeFunction(\n",
              "            'suggestCharts', [key], {});\n",
              "      }\n",
              "    </script>\n",
              "\n",
              "      <script>\n",
              "\n",
              "function displayQuickchartButton(domScope) {\n",
              "  let quickchartButtonEl =\n",
              "    domScope.querySelector('#df-04a9d1fe-57ca-4018-b8f2-e0621e563e1b button.colab-df-quickchart');\n",
              "  quickchartButtonEl.style.display =\n",
              "    google.colab.kernel.accessAllowed ? 'block' : 'none';\n",
              "}\n",
              "\n",
              "        displayQuickchartButton(document);\n",
              "      </script>\n",
              "      <style>\n",
              "    .colab-df-container {\n",
              "      display:flex;\n",
              "      flex-wrap:wrap;\n",
              "      gap: 12px;\n",
              "    }\n",
              "\n",
              "    .colab-df-convert {\n",
              "      background-color: #E8F0FE;\n",
              "      border: none;\n",
              "      border-radius: 50%;\n",
              "      cursor: pointer;\n",
              "      display: none;\n",
              "      fill: #1967D2;\n",
              "      height: 32px;\n",
              "      padding: 0 0 0 0;\n",
              "      width: 32px;\n",
              "    }\n",
              "\n",
              "    .colab-df-convert:hover {\n",
              "      background-color: #E2EBFA;\n",
              "      box-shadow: 0px 1px 2px rgba(60, 64, 67, 0.3), 0px 1px 3px 1px rgba(60, 64, 67, 0.15);\n",
              "      fill: #174EA6;\n",
              "    }\n",
              "\n",
              "    [theme=dark] .colab-df-convert {\n",
              "      background-color: #3B4455;\n",
              "      fill: #D2E3FC;\n",
              "    }\n",
              "\n",
              "    [theme=dark] .colab-df-convert:hover {\n",
              "      background-color: #434B5C;\n",
              "      box-shadow: 0px 1px 3px 1px rgba(0, 0, 0, 0.15);\n",
              "      filter: drop-shadow(0px 1px 2px rgba(0, 0, 0, 0.3));\n",
              "      fill: #FFFFFF;\n",
              "    }\n",
              "  </style>\n",
              "\n",
              "      <script>\n",
              "        const buttonEl =\n",
              "          document.querySelector('#df-2bcc180b-5cc9-4264-84bc-8df9e720e389 button.colab-df-convert');\n",
              "        buttonEl.style.display =\n",
              "          google.colab.kernel.accessAllowed ? 'block' : 'none';\n",
              "\n",
              "        async function convertToInteractive(key) {\n",
              "          const element = document.querySelector('#df-2bcc180b-5cc9-4264-84bc-8df9e720e389');\n",
              "          const dataTable =\n",
              "            await google.colab.kernel.invokeFunction('convertToInteractive',\n",
              "                                                     [key], {});\n",
              "          if (!dataTable) return;\n",
              "\n",
              "          const docLinkHtml = 'Like what you see? Visit the ' +\n",
              "            '<a target=\"_blank\" href=https://colab.research.google.com/notebooks/data_table.ipynb>data table notebook</a>'\n",
              "            + ' to learn more about interactive tables.';\n",
              "          element.innerHTML = '';\n",
              "          dataTable['output_type'] = 'display_data';\n",
              "          await google.colab.output.renderOutput(dataTable, element);\n",
              "          const docLink = document.createElement('div');\n",
              "          docLink.innerHTML = docLinkHtml;\n",
              "          element.appendChild(docLink);\n",
              "        }\n",
              "      </script>\n",
              "    </div>\n",
              "  </div>\n"
            ]
          },
          "metadata": {},
          "execution_count": 46
        }
      ]
    },
    {
      "cell_type": "markdown",
      "source": [
        "#### Evaluation Metrics"
      ],
      "metadata": {
        "id": "FTIWiUB1pMfA"
      }
    },
    {
      "cell_type": "code",
      "source": [
        "from sklearn.metrics import f1_score, accuracy_score,precision_score, recall_score"
      ],
      "metadata": {
        "id": "snnNMysgoLHy"
      },
      "execution_count": 59,
      "outputs": []
    },
    {
      "cell_type": "code",
      "source": [
        "print(\"The Accuracy score for zero-shot learning : \", accuracy_score(test_df[\"anomaly_labels\"],test_df[\"predicts_anomalies\"]))\n",
        "print(\"The F1- score for zero-shot learning : \", f1_score(act_anomalies,pred_anomalies))"
      ],
      "metadata": {
        "colab": {
          "base_uri": "https://localhost:8080/"
        },
        "id": "NwG0KrcGo9T5",
        "outputId": "6f814880-962c-4313-a3ad-1358ac7f8922"
      },
      "execution_count": 48,
      "outputs": [
        {
          "output_type": "stream",
          "name": "stdout",
          "text": [
            "The Accuracy score for zero-shot learning :  0.6191304347826087\n",
            "The F1- score for zero-shot learning :  0.7259073842302879\n"
          ]
        }
      ]
    },
    {
      "cell_type": "code",
      "source": [],
      "metadata": {
        "id": "CJvjVMZjplv6"
      },
      "execution_count": 49,
      "outputs": []
    },
    {
      "cell_type": "code",
      "source": [
        "classes = []\n",
        "accuracy = []\n",
        "f1 = []\n",
        "precision = []\n",
        "recall = []\n",
        "\n",
        "for i in test_df[\"class_labels\"].unique().tolist():\n",
        "  classes.append(int_char[i])\n",
        "  temp = test_df.loc[test_df[\"class_labels\"]==i]\n",
        "\n",
        "  accuracy.append(accuracy_score(temp[\"anomaly_labels\"].values,temp[\"predicts_anomalies\"].values))\n",
        "  f1.append(f1_score(temp[\"anomaly_labels\"],temp[\"predicts_anomalies\"]))\n",
        "  precision.append(precision_score(temp[\"anomaly_labels\"],temp[\"predicts_anomalies\"]))\n",
        "  recall.append(recall_score(temp[\"anomaly_labels\"],temp[\"predicts_anomalies\"]))"
      ],
      "metadata": {
        "id": "UP93EBKmsDWo"
      },
      "execution_count": 60,
      "outputs": []
    },
    {
      "cell_type": "code",
      "source": [
        "evaluation_df = pd.DataFrame()\n",
        "evaluation_df[\"classes\"] = classes\n",
        "evaluation_df[\"accuracy_score\"] = accuracy\n",
        "evaluation_df[\"f1_score\"] = f1\n",
        "evaluation_df[\"precision_score\"] = precision\n",
        "evaluation_df[\"reall_score\"] = recall"
      ],
      "metadata": {
        "id": "mmxHqNoXSCfk"
      },
      "execution_count": 61,
      "outputs": []
    },
    {
      "cell_type": "code",
      "source": [
        "evaluation_df"
      ],
      "metadata": {
        "colab": {
          "base_uri": "https://localhost:8080/",
          "height": 520
        },
        "id": "H-w8OYCCS0jo",
        "outputId": "3a1d4ab4-0f9d-4bd1-9dc7-5250e20bc8a3"
      },
      "execution_count": 62,
      "outputs": [
        {
          "output_type": "execute_result",
          "data": {
            "text/plain": [
              "       classes  accuracy_score  f1_score  precision_score  reall_score\n",
              "0       carpet        0.333333  0.220000         1.000000     0.123596\n",
              "1    metal_nut        0.800000  0.885572         0.824074     0.956989\n",
              "2     hazelnut        0.645455  0.779661         0.644860     0.985714\n",
              "3      capsule        0.386364  0.417266         0.966667     0.266055\n",
              "4   toothbrush        0.690476  0.793651         0.757576     0.833333\n",
              "5         pill        0.754491  0.854093         0.857143     0.851064\n",
              "6         grid        0.679487  0.806202         0.722222     0.912281\n",
              "7       bottle        0.686747  0.745098         0.974359     0.603175\n",
              "8        cable        0.613333  0.750000         0.621429     0.945652\n",
              "9      leather        0.564516  0.590909         0.975000     0.423913\n",
              "10        tile        0.777778  0.821918         0.967742     0.714286\n",
              "11  transistor        0.500000  0.609375         0.443182     0.975000\n",
              "12      zipper        0.483444  0.512500         1.000000     0.344538\n",
              "13        wood        0.759494  0.863309         0.759494     1.000000\n",
              "14       screw        0.712500  0.828358         0.744966     0.932773"
            ],
            "text/html": [
              "\n",
              "\n",
              "  <div id=\"df-4327cb9b-576f-4545-95ef-4d76fc2ecb0c\">\n",
              "    <div class=\"colab-df-container\">\n",
              "      <div>\n",
              "<style scoped>\n",
              "    .dataframe tbody tr th:only-of-type {\n",
              "        vertical-align: middle;\n",
              "    }\n",
              "\n",
              "    .dataframe tbody tr th {\n",
              "        vertical-align: top;\n",
              "    }\n",
              "\n",
              "    .dataframe thead th {\n",
              "        text-align: right;\n",
              "    }\n",
              "</style>\n",
              "<table border=\"1\" class=\"dataframe\">\n",
              "  <thead>\n",
              "    <tr style=\"text-align: right;\">\n",
              "      <th></th>\n",
              "      <th>classes</th>\n",
              "      <th>accuracy_score</th>\n",
              "      <th>f1_score</th>\n",
              "      <th>precision_score</th>\n",
              "      <th>reall_score</th>\n",
              "    </tr>\n",
              "  </thead>\n",
              "  <tbody>\n",
              "    <tr>\n",
              "      <th>0</th>\n",
              "      <td>carpet</td>\n",
              "      <td>0.333333</td>\n",
              "      <td>0.220000</td>\n",
              "      <td>1.000000</td>\n",
              "      <td>0.123596</td>\n",
              "    </tr>\n",
              "    <tr>\n",
              "      <th>1</th>\n",
              "      <td>metal_nut</td>\n",
              "      <td>0.800000</td>\n",
              "      <td>0.885572</td>\n",
              "      <td>0.824074</td>\n",
              "      <td>0.956989</td>\n",
              "    </tr>\n",
              "    <tr>\n",
              "      <th>2</th>\n",
              "      <td>hazelnut</td>\n",
              "      <td>0.645455</td>\n",
              "      <td>0.779661</td>\n",
              "      <td>0.644860</td>\n",
              "      <td>0.985714</td>\n",
              "    </tr>\n",
              "    <tr>\n",
              "      <th>3</th>\n",
              "      <td>capsule</td>\n",
              "      <td>0.386364</td>\n",
              "      <td>0.417266</td>\n",
              "      <td>0.966667</td>\n",
              "      <td>0.266055</td>\n",
              "    </tr>\n",
              "    <tr>\n",
              "      <th>4</th>\n",
              "      <td>toothbrush</td>\n",
              "      <td>0.690476</td>\n",
              "      <td>0.793651</td>\n",
              "      <td>0.757576</td>\n",
              "      <td>0.833333</td>\n",
              "    </tr>\n",
              "    <tr>\n",
              "      <th>5</th>\n",
              "      <td>pill</td>\n",
              "      <td>0.754491</td>\n",
              "      <td>0.854093</td>\n",
              "      <td>0.857143</td>\n",
              "      <td>0.851064</td>\n",
              "    </tr>\n",
              "    <tr>\n",
              "      <th>6</th>\n",
              "      <td>grid</td>\n",
              "      <td>0.679487</td>\n",
              "      <td>0.806202</td>\n",
              "      <td>0.722222</td>\n",
              "      <td>0.912281</td>\n",
              "    </tr>\n",
              "    <tr>\n",
              "      <th>7</th>\n",
              "      <td>bottle</td>\n",
              "      <td>0.686747</td>\n",
              "      <td>0.745098</td>\n",
              "      <td>0.974359</td>\n",
              "      <td>0.603175</td>\n",
              "    </tr>\n",
              "    <tr>\n",
              "      <th>8</th>\n",
              "      <td>cable</td>\n",
              "      <td>0.613333</td>\n",
              "      <td>0.750000</td>\n",
              "      <td>0.621429</td>\n",
              "      <td>0.945652</td>\n",
              "    </tr>\n",
              "    <tr>\n",
              "      <th>9</th>\n",
              "      <td>leather</td>\n",
              "      <td>0.564516</td>\n",
              "      <td>0.590909</td>\n",
              "      <td>0.975000</td>\n",
              "      <td>0.423913</td>\n",
              "    </tr>\n",
              "    <tr>\n",
              "      <th>10</th>\n",
              "      <td>tile</td>\n",
              "      <td>0.777778</td>\n",
              "      <td>0.821918</td>\n",
              "      <td>0.967742</td>\n",
              "      <td>0.714286</td>\n",
              "    </tr>\n",
              "    <tr>\n",
              "      <th>11</th>\n",
              "      <td>transistor</td>\n",
              "      <td>0.500000</td>\n",
              "      <td>0.609375</td>\n",
              "      <td>0.443182</td>\n",
              "      <td>0.975000</td>\n",
              "    </tr>\n",
              "    <tr>\n",
              "      <th>12</th>\n",
              "      <td>zipper</td>\n",
              "      <td>0.483444</td>\n",
              "      <td>0.512500</td>\n",
              "      <td>1.000000</td>\n",
              "      <td>0.344538</td>\n",
              "    </tr>\n",
              "    <tr>\n",
              "      <th>13</th>\n",
              "      <td>wood</td>\n",
              "      <td>0.759494</td>\n",
              "      <td>0.863309</td>\n",
              "      <td>0.759494</td>\n",
              "      <td>1.000000</td>\n",
              "    </tr>\n",
              "    <tr>\n",
              "      <th>14</th>\n",
              "      <td>screw</td>\n",
              "      <td>0.712500</td>\n",
              "      <td>0.828358</td>\n",
              "      <td>0.744966</td>\n",
              "      <td>0.932773</td>\n",
              "    </tr>\n",
              "  </tbody>\n",
              "</table>\n",
              "</div>\n",
              "      <button class=\"colab-df-convert\" onclick=\"convertToInteractive('df-4327cb9b-576f-4545-95ef-4d76fc2ecb0c')\"\n",
              "              title=\"Convert this dataframe to an interactive table.\"\n",
              "              style=\"display:none;\">\n",
              "\n",
              "  <svg xmlns=\"http://www.w3.org/2000/svg\" height=\"24px\"viewBox=\"0 0 24 24\"\n",
              "       width=\"24px\">\n",
              "    <path d=\"M0 0h24v24H0V0z\" fill=\"none\"/>\n",
              "    <path d=\"M18.56 5.44l.94 2.06.94-2.06 2.06-.94-2.06-.94-.94-2.06-.94 2.06-2.06.94zm-11 1L8.5 8.5l.94-2.06 2.06-.94-2.06-.94L8.5 2.5l-.94 2.06-2.06.94zm10 10l.94 2.06.94-2.06 2.06-.94-2.06-.94-.94-2.06-.94 2.06-2.06.94z\"/><path d=\"M17.41 7.96l-1.37-1.37c-.4-.4-.92-.59-1.43-.59-.52 0-1.04.2-1.43.59L10.3 9.45l-7.72 7.72c-.78.78-.78 2.05 0 2.83L4 21.41c.39.39.9.59 1.41.59.51 0 1.02-.2 1.41-.59l7.78-7.78 2.81-2.81c.8-.78.8-2.07 0-2.86zM5.41 20L4 18.59l7.72-7.72 1.47 1.35L5.41 20z\"/>\n",
              "  </svg>\n",
              "      </button>\n",
              "\n",
              "\n",
              "\n",
              "    <div id=\"df-e7e6f4a3-4bb2-4b89-a99c-80da35432579\">\n",
              "      <button class=\"colab-df-quickchart\" onclick=\"quickchart('df-e7e6f4a3-4bb2-4b89-a99c-80da35432579')\"\n",
              "              title=\"Suggest charts.\"\n",
              "              style=\"display:none;\">\n",
              "\n",
              "<svg xmlns=\"http://www.w3.org/2000/svg\" height=\"24px\"viewBox=\"0 0 24 24\"\n",
              "     width=\"24px\">\n",
              "    <g>\n",
              "        <path d=\"M19 3H5c-1.1 0-2 .9-2 2v14c0 1.1.9 2 2 2h14c1.1 0 2-.9 2-2V5c0-1.1-.9-2-2-2zM9 17H7v-7h2v7zm4 0h-2V7h2v10zm4 0h-2v-4h2v4z\"/>\n",
              "    </g>\n",
              "</svg>\n",
              "      </button>\n",
              "    </div>\n",
              "\n",
              "<style>\n",
              "  .colab-df-quickchart {\n",
              "    background-color: #E8F0FE;\n",
              "    border: none;\n",
              "    border-radius: 50%;\n",
              "    cursor: pointer;\n",
              "    display: none;\n",
              "    fill: #1967D2;\n",
              "    height: 32px;\n",
              "    padding: 0 0 0 0;\n",
              "    width: 32px;\n",
              "  }\n",
              "\n",
              "  .colab-df-quickchart:hover {\n",
              "    background-color: #E2EBFA;\n",
              "    box-shadow: 0px 1px 2px rgba(60, 64, 67, 0.3), 0px 1px 3px 1px rgba(60, 64, 67, 0.15);\n",
              "    fill: #174EA6;\n",
              "  }\n",
              "\n",
              "  [theme=dark] .colab-df-quickchart {\n",
              "    background-color: #3B4455;\n",
              "    fill: #D2E3FC;\n",
              "  }\n",
              "\n",
              "  [theme=dark] .colab-df-quickchart:hover {\n",
              "    background-color: #434B5C;\n",
              "    box-shadow: 0px 1px 3px 1px rgba(0, 0, 0, 0.15);\n",
              "    filter: drop-shadow(0px 1px 2px rgba(0, 0, 0, 0.3));\n",
              "    fill: #FFFFFF;\n",
              "  }\n",
              "</style>\n",
              "\n",
              "    <script>\n",
              "      async function quickchart(key) {\n",
              "        const containerElement = document.querySelector('#' + key);\n",
              "        const charts = await google.colab.kernel.invokeFunction(\n",
              "            'suggestCharts', [key], {});\n",
              "      }\n",
              "    </script>\n",
              "\n",
              "      <script>\n",
              "\n",
              "function displayQuickchartButton(domScope) {\n",
              "  let quickchartButtonEl =\n",
              "    domScope.querySelector('#df-e7e6f4a3-4bb2-4b89-a99c-80da35432579 button.colab-df-quickchart');\n",
              "  quickchartButtonEl.style.display =\n",
              "    google.colab.kernel.accessAllowed ? 'block' : 'none';\n",
              "}\n",
              "\n",
              "        displayQuickchartButton(document);\n",
              "      </script>\n",
              "      <style>\n",
              "    .colab-df-container {\n",
              "      display:flex;\n",
              "      flex-wrap:wrap;\n",
              "      gap: 12px;\n",
              "    }\n",
              "\n",
              "    .colab-df-convert {\n",
              "      background-color: #E8F0FE;\n",
              "      border: none;\n",
              "      border-radius: 50%;\n",
              "      cursor: pointer;\n",
              "      display: none;\n",
              "      fill: #1967D2;\n",
              "      height: 32px;\n",
              "      padding: 0 0 0 0;\n",
              "      width: 32px;\n",
              "    }\n",
              "\n",
              "    .colab-df-convert:hover {\n",
              "      background-color: #E2EBFA;\n",
              "      box-shadow: 0px 1px 2px rgba(60, 64, 67, 0.3), 0px 1px 3px 1px rgba(60, 64, 67, 0.15);\n",
              "      fill: #174EA6;\n",
              "    }\n",
              "\n",
              "    [theme=dark] .colab-df-convert {\n",
              "      background-color: #3B4455;\n",
              "      fill: #D2E3FC;\n",
              "    }\n",
              "\n",
              "    [theme=dark] .colab-df-convert:hover {\n",
              "      background-color: #434B5C;\n",
              "      box-shadow: 0px 1px 3px 1px rgba(0, 0, 0, 0.15);\n",
              "      filter: drop-shadow(0px 1px 2px rgba(0, 0, 0, 0.3));\n",
              "      fill: #FFFFFF;\n",
              "    }\n",
              "  </style>\n",
              "\n",
              "      <script>\n",
              "        const buttonEl =\n",
              "          document.querySelector('#df-4327cb9b-576f-4545-95ef-4d76fc2ecb0c button.colab-df-convert');\n",
              "        buttonEl.style.display =\n",
              "          google.colab.kernel.accessAllowed ? 'block' : 'none';\n",
              "\n",
              "        async function convertToInteractive(key) {\n",
              "          const element = document.querySelector('#df-4327cb9b-576f-4545-95ef-4d76fc2ecb0c');\n",
              "          const dataTable =\n",
              "            await google.colab.kernel.invokeFunction('convertToInteractive',\n",
              "                                                     [key], {});\n",
              "          if (!dataTable) return;\n",
              "\n",
              "          const docLinkHtml = 'Like what you see? Visit the ' +\n",
              "            '<a target=\"_blank\" href=https://colab.research.google.com/notebooks/data_table.ipynb>data table notebook</a>'\n",
              "            + ' to learn more about interactive tables.';\n",
              "          element.innerHTML = '';\n",
              "          dataTable['output_type'] = 'display_data';\n",
              "          await google.colab.output.renderOutput(dataTable, element);\n",
              "          const docLink = document.createElement('div');\n",
              "          docLink.innerHTML = docLinkHtml;\n",
              "          element.appendChild(docLink);\n",
              "        }\n",
              "      </script>\n",
              "    </div>\n",
              "  </div>\n"
            ]
          },
          "metadata": {},
          "execution_count": 62
        }
      ]
    },
    {
      "cell_type": "code",
      "source": [],
      "metadata": {
        "id": "ZzV441SHS5yj"
      },
      "execution_count": null,
      "outputs": []
    }
  ]
}