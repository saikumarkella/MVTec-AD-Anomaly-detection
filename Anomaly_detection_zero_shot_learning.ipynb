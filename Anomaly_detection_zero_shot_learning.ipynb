{
  "nbformat": 4,
  "nbformat_minor": 0,
  "metadata": {
    "colab": {
      "provenance": [],
      "gpuType": "T4"
    },
    "kernelspec": {
      "name": "python3",
      "display_name": "Python 3"
    },
    "language_info": {
      "name": "python"
    },
    "accelerator": "GPU"
  },
  "cells": [
    {
      "cell_type": "code",
      "execution_count": 1,
      "metadata": {
        "colab": {
          "base_uri": "https://localhost:8080/"
        },
        "id": "btHdJ0FXSkRb",
        "outputId": "e7ad6b86-fbb1-4571-a23f-ef6d666aedc4"
      },
      "outputs": [
        {
          "output_type": "stream",
          "name": "stdout",
          "text": [
            "--2023-07-12 18:55:29--  https://www.mydrive.ch/shares/38536/3830184030e49fe74747669442f0f282/download/420938113-1629952094/mvtec_anomaly_detection.tar.xz\n",
            "Resolving www.mydrive.ch (www.mydrive.ch)... 91.214.169.64\n",
            "Connecting to www.mydrive.ch (www.mydrive.ch)|91.214.169.64|:443... connected.\n",
            "HTTP request sent, awaiting response... 200 OK\n",
            "Length: 5264982680 (4.9G) [application/x-xz]\n",
            "Saving to: ‘mvtec_anomaly_detection.tar.xz’\n",
            "\n",
            "mvtec_anomaly_detec 100%[===================>]   4.90G  7.70MB/s    in 9m 6s   \n",
            "\n",
            "2023-07-12 19:04:36 (9.20 MB/s) - ‘mvtec_anomaly_detection.tar.xz’ saved [5264982680/5264982680]\n",
            "\n"
          ]
        }
      ],
      "source": [
        "## downloading the dataset\n",
        "!wget https://www.mydrive.ch/shares/38536/3830184030e49fe74747669442f0f282/download/420938113-1629952094/mvtec_anomaly_detection.tar.xz"
      ]
    },
    {
      "cell_type": "code",
      "source": [
        "## uncompressing the tar files\n",
        "!tar xf /content/mvtec_anomaly_detection.tar.xz -C /content/data"
      ],
      "metadata": {
        "id": "MFswjOYBXkYz"
      },
      "execution_count": 5,
      "outputs": []
    },
    {
      "cell_type": "code",
      "source": [
        "'''\n",
        "    Zero_shot_learning\n",
        "    ------------------\n",
        "    > Here we have a anomaly dataset.\n",
        "        > classes are defects and non-detects dataset.\n",
        "\n",
        "    > Here we will use the pretrained models\n",
        "'''\n",
        "## importing the modules\n",
        "import pandas as pd\n",
        "import numpy as np\n",
        "import tensorflow as tf\n",
        "from tqdm import tqdm\n",
        "import os\n",
        "from glob import glob\n",
        "import matplotlib.pyplot as plt\n",
        "import seaborn as sbn\n",
        "import cv2\n",
        "import keras\n",
        "import random\n"
      ],
      "metadata": {
        "id": "yRrLZys7XzzZ"
      },
      "execution_count": 6,
      "outputs": []
    },
    {
      "cell_type": "code",
      "source": [
        "\n",
        "\n",
        "\n",
        "## Configurations\n",
        "class CNF:\n",
        "    seed = 42\n",
        "    data_folder = \"/content/data\"  ### replace with your training data folder\n",
        "    target_shape = (224, 224)\n",
        "    labels = True # using labels or not.\n",
        "\n",
        "\n",
        "    ### dataset configs\n",
        "    buffer_size = 1024\n",
        "    batch_size = 32\n",
        "    validation_size = 0.2 ## 20% of data from the training dataset.\n",
        "\n",
        "    ### training hyperparameters\n",
        "    learning_rate = 0.00001\n",
        "\n",
        "### setting the reproducability\n",
        "def seeding():\n",
        "    np.random.seed = CNF.seed\n",
        "    tf.random.set_seed(CNF.seed)\n",
        "\n",
        "    print(\"| Seeding Done.\")\n",
        "\n",
        "### reproduciblity\n",
        "seeding()\n",
        "CNF.classes = [d for d in os.listdir(CNF.data_folder) if os.path.isdir(os.path.join(CNF.data_folder, d))]\n",
        "char_int = dict((k,v) for v,k in enumerate(CNF.classes))\n",
        "int_char = dict((v,k) for v,k in enumerate(CNF.classes))\n",
        "\n",
        "# build a lookup table\n",
        "table_char_int = tf.lookup.StaticHashTable(\n",
        "    initializer=tf.lookup.KeyValueTensorInitializer(\n",
        "        keys=tf.constant(list(char_int.keys())),\n",
        "        values=tf.constant(list(char_int.values())),\n",
        "    ),\n",
        "    default_value=tf.constant(-1),\n",
        "    name=\"classes\"\n",
        ")\n",
        "\n",
        "\n",
        "### Detecting the GPU and Setting distribution strategy based on the GPU or CPU.\n",
        "gpus = tf.config.experimental.list_logical_devices('GPU')\n",
        "if(len(gpus)>0):\n",
        "    CNF.device = \"GPU\"\n",
        "    strategy = tf.distribute.MirroredStrategy(devices=gpus)\n",
        "    print(\"> Running on {} | Number of devices {}\".format(CNF.device, len(gpus)))\n",
        "\n",
        "else:\n",
        "    CNF.device = \"CPU\"\n",
        "    strategy = tf.distribute.get_strategy() ## here we are getting the default strategy.\n",
        "    print(\"> Running on {}\".format(CNF.device))\n",
        "\n",
        "print(\"> Number of replicas : \", strategy.num_replicas_in_sync)\n",
        "\n",
        "\n",
        "## preparing the dataset\n",
        "class Prepare_dataset:\n",
        "\n",
        "  '''\n",
        "      Here we will prepare the dataset using\n",
        "      > Here we will create a data loaders\n",
        "      > and data generator.\n",
        "      > we will also apply data augmentation too\n",
        "  '''\n",
        "  def __init__(self):\n",
        "    self.training_data_paths = None\n",
        "    self.evaluation_data_paths = None\n",
        "    self.classes = None\n",
        "\n",
        "  def get_training_data_paths(self):\n",
        "    paths = glob(os.path.join(CNF.data_folder,\"**\",\"train\", \"good\",\"**.png\"))\n",
        "    self.training_data_paths = paths\n",
        "\n",
        "  def get_evaluation_data_paths(self):\n",
        "    paths = glob(os.path.join(CNF.data_folder, \"**\", \"test\", \"*\",\"**.png\"))\n",
        "    self.evaluation_data_paths = paths\n",
        "\n",
        "\n",
        "\n",
        "  def data_generator(self, train_paths):\n",
        "\n",
        "    def load_preprocess(path):\n",
        "        image=tf.io.read_file(path)\n",
        "        image = tf.io.decode_png(image, channels=3)\n",
        "        image = tf.keras.preprocessing.image.smart_resize(image, size = CNF.target_shape)\n",
        "        # print(image.shape)\n",
        "        return image/255\n",
        "\n",
        "    def get_label(path):\n",
        "        # print(path.numpy())\n",
        "        parts = tf.strings.split(path, os.path.sep)\n",
        "        label = parts[-4]\n",
        "        # print(label)\n",
        "        ### convert it into the hard label using char to int dictonary\n",
        "        out = table_char_int.lookup(label)\n",
        "        return tf.one_hot(out, depth=len(CNF.classes))\n",
        "\n",
        "\n",
        "    if(CNF.labels):\n",
        "      image = load_preprocess(train_paths)\n",
        "      label = get_label(train_paths)\n",
        "      return image, label\n",
        "\n",
        "    else:\n",
        "      image= load_preprocess(train_paths)\n",
        "      return image\n",
        "\n",
        "\n",
        "\n",
        "  def train_val_data_loader(self):\n",
        "    data_paths = random.sample(self.training_data_paths, len(self.training_data_paths))\n",
        "    train_data_paths = data_paths[:int(len(self.training_data_paths)*(1- CNF.validation_size))]\n",
        "    val_data_paths = data_paths[int(len(self.training_data_paths)*(1- CNF.validation_size)):]\n",
        "\n",
        "    ### training data loaders\n",
        "    dataset = tf.data.Dataset.from_tensor_slices(train_data_paths)\n",
        "    dataset = dataset.map(self.data_generator)\n",
        "    dataset = dataset.shuffle(CNF.buffer_size)\n",
        "    dataset = dataset.batch(CNF.batch_size)\n",
        "\n",
        "    ### validation data loaders\n",
        "    val_dataset = tf.data.Dataset.from_tensor_slices(val_data_paths)\n",
        "    val_dataset = val_dataset.map(self.data_generator)\n",
        "    val_dataset = val_dataset.shuffle(CNF.buffer_size)\n",
        "    val_dataset = val_dataset.batch(CNF.batch_size)\n",
        "\n",
        "    return dataset, val_dataset\n",
        "\n",
        "\n",
        "#### Sanity check\n",
        "\n",
        "if __name__ == \"__main__\":\n",
        "\n",
        "    ppd = Prepare_dataset()\n",
        "    ppd.get_training_data_paths()\n",
        "    ppd.get_evaluation_data_paths()\n",
        "\n",
        "    # img, label = ppd.data_generator(ppd.training_data_paths[0])\n",
        "\n",
        "    dataset, val_dataset = ppd.train_val_data_loader()\n",
        "\n"
      ],
      "metadata": {
        "id": "-1Sq2nU9awcu",
        "colab": {
          "base_uri": "https://localhost:8080/"
        },
        "outputId": "fdc1bf5f-9e6a-440e-950f-5d7972e13bac"
      },
      "execution_count": 7,
      "outputs": [
        {
          "output_type": "stream",
          "name": "stdout",
          "text": [
            "| Seeding Done.\n",
            "> Running on GPU | Number of devices 1\n",
            "> Number of replicas :  1\n"
          ]
        }
      ]
    },
    {
      "cell_type": "code",
      "source": [
        "### sanity-check data loaders\n",
        "k = iter(dataset)\n",
        "kk = next(k)"
      ],
      "metadata": {
        "id": "5AyI8QfcuB3X"
      },
      "execution_count": 8,
      "outputs": []
    },
    {
      "cell_type": "markdown",
      "source": [
        "### Few-shot Learnining\n",
        "> Using a pretrained model as a Base Network.\n",
        "\n",
        "Steps for achieving a contrastive Learning:\n",
        "___\n",
        "1. Finetuning a pretrained network for achieving the multi classification problem.\n",
        "2. Using some similarity metric detecting defects and non-defects."
      ],
      "metadata": {
        "id": "-8Xs79SrPibX"
      }
    },
    {
      "cell_type": "code",
      "source": [
        "### getting the ResNet Model\n",
        "base_model = tf.keras.applications.MobileNetV2(\n",
        "    include_top=False,\n",
        "    weights=\"imagenet\",\n",
        "    input_shape=(CNF.target_shape[0], CNF.target_shape[1], 3)\n",
        ")\n",
        "\n",
        "## freezing the network.\n",
        "base_model.trainable = False"
      ],
      "metadata": {
        "id": "427teeZ_NNSf",
        "colab": {
          "base_uri": "https://localhost:8080/"
        },
        "outputId": "2a12cbf6-d74e-4587-e2d2-47e1e7664115"
      },
      "execution_count": 9,
      "outputs": [
        {
          "output_type": "stream",
          "name": "stdout",
          "text": [
            "Downloading data from https://storage.googleapis.com/tensorflow/keras-applications/mobilenet_v2/mobilenet_v2_weights_tf_dim_ordering_tf_kernels_1.0_224_no_top.h5\n",
            "9406464/9406464 [==============================] - 1s 0us/step\n"
          ]
        }
      ]
    },
    {
      "cell_type": "code",
      "source": [],
      "metadata": {
        "id": "t1W9xTKbR8ne"
      },
      "execution_count": 9,
      "outputs": []
    },
    {
      "cell_type": "code",
      "source": [
        "### summay of the network\n",
        "base_model.summary()"
      ],
      "metadata": {
        "colab": {
          "base_uri": "https://localhost:8080/"
        },
        "id": "zZyaW1xeSGNp",
        "outputId": "cd0463aa-a944-47e9-a3ae-2aaac2e9bf5b"
      },
      "execution_count": 10,
      "outputs": [
        {
          "output_type": "stream",
          "name": "stdout",
          "text": [
            "Model: \"mobilenetv2_1.00_224\"\n",
            "__________________________________________________________________________________________________\n",
            " Layer (type)                   Output Shape         Param #     Connected to                     \n",
            "==================================================================================================\n",
            " input_1 (InputLayer)           [(None, 224, 224, 3  0           []                               \n",
            "                                )]                                                                \n",
            "                                                                                                  \n",
            " Conv1 (Conv2D)                 (None, 112, 112, 32  864         ['input_1[0][0]']                \n",
            "                                )                                                                 \n",
            "                                                                                                  \n",
            " bn_Conv1 (BatchNormalization)  (None, 112, 112, 32  128         ['Conv1[0][0]']                  \n",
            "                                )                                                                 \n",
            "                                                                                                  \n",
            " Conv1_relu (ReLU)              (None, 112, 112, 32  0           ['bn_Conv1[0][0]']               \n",
            "                                )                                                                 \n",
            "                                                                                                  \n",
            " expanded_conv_depthwise (Depth  (None, 112, 112, 32  288        ['Conv1_relu[0][0]']             \n",
            " wiseConv2D)                    )                                                                 \n",
            "                                                                                                  \n",
            " expanded_conv_depthwise_BN (Ba  (None, 112, 112, 32  128        ['expanded_conv_depthwise[0][0]']\n",
            " tchNormalization)              )                                                                 \n",
            "                                                                                                  \n",
            " expanded_conv_depthwise_relu (  (None, 112, 112, 32  0          ['expanded_conv_depthwise_BN[0][0\n",
            " ReLU)                          )                                ]']                              \n",
            "                                                                                                  \n",
            " expanded_conv_project (Conv2D)  (None, 112, 112, 16  512        ['expanded_conv_depthwise_relu[0]\n",
            "                                )                                [0]']                            \n",
            "                                                                                                  \n",
            " expanded_conv_project_BN (Batc  (None, 112, 112, 16  64         ['expanded_conv_project[0][0]']  \n",
            " hNormalization)                )                                                                 \n",
            "                                                                                                  \n",
            " block_1_expand (Conv2D)        (None, 112, 112, 96  1536        ['expanded_conv_project_BN[0][0]'\n",
            "                                )                                ]                                \n",
            "                                                                                                  \n",
            " block_1_expand_BN (BatchNormal  (None, 112, 112, 96  384        ['block_1_expand[0][0]']         \n",
            " ization)                       )                                                                 \n",
            "                                                                                                  \n",
            " block_1_expand_relu (ReLU)     (None, 112, 112, 96  0           ['block_1_expand_BN[0][0]']      \n",
            "                                )                                                                 \n",
            "                                                                                                  \n",
            " block_1_pad (ZeroPadding2D)    (None, 113, 113, 96  0           ['block_1_expand_relu[0][0]']    \n",
            "                                )                                                                 \n",
            "                                                                                                  \n",
            " block_1_depthwise (DepthwiseCo  (None, 56, 56, 96)  864         ['block_1_pad[0][0]']            \n",
            " nv2D)                                                                                            \n",
            "                                                                                                  \n",
            " block_1_depthwise_BN (BatchNor  (None, 56, 56, 96)  384         ['block_1_depthwise[0][0]']      \n",
            " malization)                                                                                      \n",
            "                                                                                                  \n",
            " block_1_depthwise_relu (ReLU)  (None, 56, 56, 96)   0           ['block_1_depthwise_BN[0][0]']   \n",
            "                                                                                                  \n",
            " block_1_project (Conv2D)       (None, 56, 56, 24)   2304        ['block_1_depthwise_relu[0][0]'] \n",
            "                                                                                                  \n",
            " block_1_project_BN (BatchNorma  (None, 56, 56, 24)  96          ['block_1_project[0][0]']        \n",
            " lization)                                                                                        \n",
            "                                                                                                  \n",
            " block_2_expand (Conv2D)        (None, 56, 56, 144)  3456        ['block_1_project_BN[0][0]']     \n",
            "                                                                                                  \n",
            " block_2_expand_BN (BatchNormal  (None, 56, 56, 144)  576        ['block_2_expand[0][0]']         \n",
            " ization)                                                                                         \n",
            "                                                                                                  \n",
            " block_2_expand_relu (ReLU)     (None, 56, 56, 144)  0           ['block_2_expand_BN[0][0]']      \n",
            "                                                                                                  \n",
            " block_2_depthwise (DepthwiseCo  (None, 56, 56, 144)  1296       ['block_2_expand_relu[0][0]']    \n",
            " nv2D)                                                                                            \n",
            "                                                                                                  \n",
            " block_2_depthwise_BN (BatchNor  (None, 56, 56, 144)  576        ['block_2_depthwise[0][0]']      \n",
            " malization)                                                                                      \n",
            "                                                                                                  \n",
            " block_2_depthwise_relu (ReLU)  (None, 56, 56, 144)  0           ['block_2_depthwise_BN[0][0]']   \n",
            "                                                                                                  \n",
            " block_2_project (Conv2D)       (None, 56, 56, 24)   3456        ['block_2_depthwise_relu[0][0]'] \n",
            "                                                                                                  \n",
            " block_2_project_BN (BatchNorma  (None, 56, 56, 24)  96          ['block_2_project[0][0]']        \n",
            " lization)                                                                                        \n",
            "                                                                                                  \n",
            " block_2_add (Add)              (None, 56, 56, 24)   0           ['block_1_project_BN[0][0]',     \n",
            "                                                                  'block_2_project_BN[0][0]']     \n",
            "                                                                                                  \n",
            " block_3_expand (Conv2D)        (None, 56, 56, 144)  3456        ['block_2_add[0][0]']            \n",
            "                                                                                                  \n",
            " block_3_expand_BN (BatchNormal  (None, 56, 56, 144)  576        ['block_3_expand[0][0]']         \n",
            " ization)                                                                                         \n",
            "                                                                                                  \n",
            " block_3_expand_relu (ReLU)     (None, 56, 56, 144)  0           ['block_3_expand_BN[0][0]']      \n",
            "                                                                                                  \n",
            " block_3_pad (ZeroPadding2D)    (None, 57, 57, 144)  0           ['block_3_expand_relu[0][0]']    \n",
            "                                                                                                  \n",
            " block_3_depthwise (DepthwiseCo  (None, 28, 28, 144)  1296       ['block_3_pad[0][0]']            \n",
            " nv2D)                                                                                            \n",
            "                                                                                                  \n",
            " block_3_depthwise_BN (BatchNor  (None, 28, 28, 144)  576        ['block_3_depthwise[0][0]']      \n",
            " malization)                                                                                      \n",
            "                                                                                                  \n",
            " block_3_depthwise_relu (ReLU)  (None, 28, 28, 144)  0           ['block_3_depthwise_BN[0][0]']   \n",
            "                                                                                                  \n",
            " block_3_project (Conv2D)       (None, 28, 28, 32)   4608        ['block_3_depthwise_relu[0][0]'] \n",
            "                                                                                                  \n",
            " block_3_project_BN (BatchNorma  (None, 28, 28, 32)  128         ['block_3_project[0][0]']        \n",
            " lization)                                                                                        \n",
            "                                                                                                  \n",
            " block_4_expand (Conv2D)        (None, 28, 28, 192)  6144        ['block_3_project_BN[0][0]']     \n",
            "                                                                                                  \n",
            " block_4_expand_BN (BatchNormal  (None, 28, 28, 192)  768        ['block_4_expand[0][0]']         \n",
            " ization)                                                                                         \n",
            "                                                                                                  \n",
            " block_4_expand_relu (ReLU)     (None, 28, 28, 192)  0           ['block_4_expand_BN[0][0]']      \n",
            "                                                                                                  \n",
            " block_4_depthwise (DepthwiseCo  (None, 28, 28, 192)  1728       ['block_4_expand_relu[0][0]']    \n",
            " nv2D)                                                                                            \n",
            "                                                                                                  \n",
            " block_4_depthwise_BN (BatchNor  (None, 28, 28, 192)  768        ['block_4_depthwise[0][0]']      \n",
            " malization)                                                                                      \n",
            "                                                                                                  \n",
            " block_4_depthwise_relu (ReLU)  (None, 28, 28, 192)  0           ['block_4_depthwise_BN[0][0]']   \n",
            "                                                                                                  \n",
            " block_4_project (Conv2D)       (None, 28, 28, 32)   6144        ['block_4_depthwise_relu[0][0]'] \n",
            "                                                                                                  \n",
            " block_4_project_BN (BatchNorma  (None, 28, 28, 32)  128         ['block_4_project[0][0]']        \n",
            " lization)                                                                                        \n",
            "                                                                                                  \n",
            " block_4_add (Add)              (None, 28, 28, 32)   0           ['block_3_project_BN[0][0]',     \n",
            "                                                                  'block_4_project_BN[0][0]']     \n",
            "                                                                                                  \n",
            " block_5_expand (Conv2D)        (None, 28, 28, 192)  6144        ['block_4_add[0][0]']            \n",
            "                                                                                                  \n",
            " block_5_expand_BN (BatchNormal  (None, 28, 28, 192)  768        ['block_5_expand[0][0]']         \n",
            " ization)                                                                                         \n",
            "                                                                                                  \n",
            " block_5_expand_relu (ReLU)     (None, 28, 28, 192)  0           ['block_5_expand_BN[0][0]']      \n",
            "                                                                                                  \n",
            " block_5_depthwise (DepthwiseCo  (None, 28, 28, 192)  1728       ['block_5_expand_relu[0][0]']    \n",
            " nv2D)                                                                                            \n",
            "                                                                                                  \n",
            " block_5_depthwise_BN (BatchNor  (None, 28, 28, 192)  768        ['block_5_depthwise[0][0]']      \n",
            " malization)                                                                                      \n",
            "                                                                                                  \n",
            " block_5_depthwise_relu (ReLU)  (None, 28, 28, 192)  0           ['block_5_depthwise_BN[0][0]']   \n",
            "                                                                                                  \n",
            " block_5_project (Conv2D)       (None, 28, 28, 32)   6144        ['block_5_depthwise_relu[0][0]'] \n",
            "                                                                                                  \n",
            " block_5_project_BN (BatchNorma  (None, 28, 28, 32)  128         ['block_5_project[0][0]']        \n",
            " lization)                                                                                        \n",
            "                                                                                                  \n",
            " block_5_add (Add)              (None, 28, 28, 32)   0           ['block_4_add[0][0]',            \n",
            "                                                                  'block_5_project_BN[0][0]']     \n",
            "                                                                                                  \n",
            " block_6_expand (Conv2D)        (None, 28, 28, 192)  6144        ['block_5_add[0][0]']            \n",
            "                                                                                                  \n",
            " block_6_expand_BN (BatchNormal  (None, 28, 28, 192)  768        ['block_6_expand[0][0]']         \n",
            " ization)                                                                                         \n",
            "                                                                                                  \n",
            " block_6_expand_relu (ReLU)     (None, 28, 28, 192)  0           ['block_6_expand_BN[0][0]']      \n",
            "                                                                                                  \n",
            " block_6_pad (ZeroPadding2D)    (None, 29, 29, 192)  0           ['block_6_expand_relu[0][0]']    \n",
            "                                                                                                  \n",
            " block_6_depthwise (DepthwiseCo  (None, 14, 14, 192)  1728       ['block_6_pad[0][0]']            \n",
            " nv2D)                                                                                            \n",
            "                                                                                                  \n",
            " block_6_depthwise_BN (BatchNor  (None, 14, 14, 192)  768        ['block_6_depthwise[0][0]']      \n",
            " malization)                                                                                      \n",
            "                                                                                                  \n",
            " block_6_depthwise_relu (ReLU)  (None, 14, 14, 192)  0           ['block_6_depthwise_BN[0][0]']   \n",
            "                                                                                                  \n",
            " block_6_project (Conv2D)       (None, 14, 14, 64)   12288       ['block_6_depthwise_relu[0][0]'] \n",
            "                                                                                                  \n",
            " block_6_project_BN (BatchNorma  (None, 14, 14, 64)  256         ['block_6_project[0][0]']        \n",
            " lization)                                                                                        \n",
            "                                                                                                  \n",
            " block_7_expand (Conv2D)        (None, 14, 14, 384)  24576       ['block_6_project_BN[0][0]']     \n",
            "                                                                                                  \n",
            " block_7_expand_BN (BatchNormal  (None, 14, 14, 384)  1536       ['block_7_expand[0][0]']         \n",
            " ization)                                                                                         \n",
            "                                                                                                  \n",
            " block_7_expand_relu (ReLU)     (None, 14, 14, 384)  0           ['block_7_expand_BN[0][0]']      \n",
            "                                                                                                  \n",
            " block_7_depthwise (DepthwiseCo  (None, 14, 14, 384)  3456       ['block_7_expand_relu[0][0]']    \n",
            " nv2D)                                                                                            \n",
            "                                                                                                  \n",
            " block_7_depthwise_BN (BatchNor  (None, 14, 14, 384)  1536       ['block_7_depthwise[0][0]']      \n",
            " malization)                                                                                      \n",
            "                                                                                                  \n",
            " block_7_depthwise_relu (ReLU)  (None, 14, 14, 384)  0           ['block_7_depthwise_BN[0][0]']   \n",
            "                                                                                                  \n",
            " block_7_project (Conv2D)       (None, 14, 14, 64)   24576       ['block_7_depthwise_relu[0][0]'] \n",
            "                                                                                                  \n",
            " block_7_project_BN (BatchNorma  (None, 14, 14, 64)  256         ['block_7_project[0][0]']        \n",
            " lization)                                                                                        \n",
            "                                                                                                  \n",
            " block_7_add (Add)              (None, 14, 14, 64)   0           ['block_6_project_BN[0][0]',     \n",
            "                                                                  'block_7_project_BN[0][0]']     \n",
            "                                                                                                  \n",
            " block_8_expand (Conv2D)        (None, 14, 14, 384)  24576       ['block_7_add[0][0]']            \n",
            "                                                                                                  \n",
            " block_8_expand_BN (BatchNormal  (None, 14, 14, 384)  1536       ['block_8_expand[0][0]']         \n",
            " ization)                                                                                         \n",
            "                                                                                                  \n",
            " block_8_expand_relu (ReLU)     (None, 14, 14, 384)  0           ['block_8_expand_BN[0][0]']      \n",
            "                                                                                                  \n",
            " block_8_depthwise (DepthwiseCo  (None, 14, 14, 384)  3456       ['block_8_expand_relu[0][0]']    \n",
            " nv2D)                                                                                            \n",
            "                                                                                                  \n",
            " block_8_depthwise_BN (BatchNor  (None, 14, 14, 384)  1536       ['block_8_depthwise[0][0]']      \n",
            " malization)                                                                                      \n",
            "                                                                                                  \n",
            " block_8_depthwise_relu (ReLU)  (None, 14, 14, 384)  0           ['block_8_depthwise_BN[0][0]']   \n",
            "                                                                                                  \n",
            " block_8_project (Conv2D)       (None, 14, 14, 64)   24576       ['block_8_depthwise_relu[0][0]'] \n",
            "                                                                                                  \n",
            " block_8_project_BN (BatchNorma  (None, 14, 14, 64)  256         ['block_8_project[0][0]']        \n",
            " lization)                                                                                        \n",
            "                                                                                                  \n",
            " block_8_add (Add)              (None, 14, 14, 64)   0           ['block_7_add[0][0]',            \n",
            "                                                                  'block_8_project_BN[0][0]']     \n",
            "                                                                                                  \n",
            " block_9_expand (Conv2D)        (None, 14, 14, 384)  24576       ['block_8_add[0][0]']            \n",
            "                                                                                                  \n",
            " block_9_expand_BN (BatchNormal  (None, 14, 14, 384)  1536       ['block_9_expand[0][0]']         \n",
            " ization)                                                                                         \n",
            "                                                                                                  \n",
            " block_9_expand_relu (ReLU)     (None, 14, 14, 384)  0           ['block_9_expand_BN[0][0]']      \n",
            "                                                                                                  \n",
            " block_9_depthwise (DepthwiseCo  (None, 14, 14, 384)  3456       ['block_9_expand_relu[0][0]']    \n",
            " nv2D)                                                                                            \n",
            "                                                                                                  \n",
            " block_9_depthwise_BN (BatchNor  (None, 14, 14, 384)  1536       ['block_9_depthwise[0][0]']      \n",
            " malization)                                                                                      \n",
            "                                                                                                  \n",
            " block_9_depthwise_relu (ReLU)  (None, 14, 14, 384)  0           ['block_9_depthwise_BN[0][0]']   \n",
            "                                                                                                  \n",
            " block_9_project (Conv2D)       (None, 14, 14, 64)   24576       ['block_9_depthwise_relu[0][0]'] \n",
            "                                                                                                  \n",
            " block_9_project_BN (BatchNorma  (None, 14, 14, 64)  256         ['block_9_project[0][0]']        \n",
            " lization)                                                                                        \n",
            "                                                                                                  \n",
            " block_9_add (Add)              (None, 14, 14, 64)   0           ['block_8_add[0][0]',            \n",
            "                                                                  'block_9_project_BN[0][0]']     \n",
            "                                                                                                  \n",
            " block_10_expand (Conv2D)       (None, 14, 14, 384)  24576       ['block_9_add[0][0]']            \n",
            "                                                                                                  \n",
            " block_10_expand_BN (BatchNorma  (None, 14, 14, 384)  1536       ['block_10_expand[0][0]']        \n",
            " lization)                                                                                        \n",
            "                                                                                                  \n",
            " block_10_expand_relu (ReLU)    (None, 14, 14, 384)  0           ['block_10_expand_BN[0][0]']     \n",
            "                                                                                                  \n",
            " block_10_depthwise (DepthwiseC  (None, 14, 14, 384)  3456       ['block_10_expand_relu[0][0]']   \n",
            " onv2D)                                                                                           \n",
            "                                                                                                  \n",
            " block_10_depthwise_BN (BatchNo  (None, 14, 14, 384)  1536       ['block_10_depthwise[0][0]']     \n",
            " rmalization)                                                                                     \n",
            "                                                                                                  \n",
            " block_10_depthwise_relu (ReLU)  (None, 14, 14, 384)  0          ['block_10_depthwise_BN[0][0]']  \n",
            "                                                                                                  \n",
            " block_10_project (Conv2D)      (None, 14, 14, 96)   36864       ['block_10_depthwise_relu[0][0]']\n",
            "                                                                                                  \n",
            " block_10_project_BN (BatchNorm  (None, 14, 14, 96)  384         ['block_10_project[0][0]']       \n",
            " alization)                                                                                       \n",
            "                                                                                                  \n",
            " block_11_expand (Conv2D)       (None, 14, 14, 576)  55296       ['block_10_project_BN[0][0]']    \n",
            "                                                                                                  \n",
            " block_11_expand_BN (BatchNorma  (None, 14, 14, 576)  2304       ['block_11_expand[0][0]']        \n",
            " lization)                                                                                        \n",
            "                                                                                                  \n",
            " block_11_expand_relu (ReLU)    (None, 14, 14, 576)  0           ['block_11_expand_BN[0][0]']     \n",
            "                                                                                                  \n",
            " block_11_depthwise (DepthwiseC  (None, 14, 14, 576)  5184       ['block_11_expand_relu[0][0]']   \n",
            " onv2D)                                                                                           \n",
            "                                                                                                  \n",
            " block_11_depthwise_BN (BatchNo  (None, 14, 14, 576)  2304       ['block_11_depthwise[0][0]']     \n",
            " rmalization)                                                                                     \n",
            "                                                                                                  \n",
            " block_11_depthwise_relu (ReLU)  (None, 14, 14, 576)  0          ['block_11_depthwise_BN[0][0]']  \n",
            "                                                                                                  \n",
            " block_11_project (Conv2D)      (None, 14, 14, 96)   55296       ['block_11_depthwise_relu[0][0]']\n",
            "                                                                                                  \n",
            " block_11_project_BN (BatchNorm  (None, 14, 14, 96)  384         ['block_11_project[0][0]']       \n",
            " alization)                                                                                       \n",
            "                                                                                                  \n",
            " block_11_add (Add)             (None, 14, 14, 96)   0           ['block_10_project_BN[0][0]',    \n",
            "                                                                  'block_11_project_BN[0][0]']    \n",
            "                                                                                                  \n",
            " block_12_expand (Conv2D)       (None, 14, 14, 576)  55296       ['block_11_add[0][0]']           \n",
            "                                                                                                  \n",
            " block_12_expand_BN (BatchNorma  (None, 14, 14, 576)  2304       ['block_12_expand[0][0]']        \n",
            " lization)                                                                                        \n",
            "                                                                                                  \n",
            " block_12_expand_relu (ReLU)    (None, 14, 14, 576)  0           ['block_12_expand_BN[0][0]']     \n",
            "                                                                                                  \n",
            " block_12_depthwise (DepthwiseC  (None, 14, 14, 576)  5184       ['block_12_expand_relu[0][0]']   \n",
            " onv2D)                                                                                           \n",
            "                                                                                                  \n",
            " block_12_depthwise_BN (BatchNo  (None, 14, 14, 576)  2304       ['block_12_depthwise[0][0]']     \n",
            " rmalization)                                                                                     \n",
            "                                                                                                  \n",
            " block_12_depthwise_relu (ReLU)  (None, 14, 14, 576)  0          ['block_12_depthwise_BN[0][0]']  \n",
            "                                                                                                  \n",
            " block_12_project (Conv2D)      (None, 14, 14, 96)   55296       ['block_12_depthwise_relu[0][0]']\n",
            "                                                                                                  \n",
            " block_12_project_BN (BatchNorm  (None, 14, 14, 96)  384         ['block_12_project[0][0]']       \n",
            " alization)                                                                                       \n",
            "                                                                                                  \n",
            " block_12_add (Add)             (None, 14, 14, 96)   0           ['block_11_add[0][0]',           \n",
            "                                                                  'block_12_project_BN[0][0]']    \n",
            "                                                                                                  \n",
            " block_13_expand (Conv2D)       (None, 14, 14, 576)  55296       ['block_12_add[0][0]']           \n",
            "                                                                                                  \n",
            " block_13_expand_BN (BatchNorma  (None, 14, 14, 576)  2304       ['block_13_expand[0][0]']        \n",
            " lization)                                                                                        \n",
            "                                                                                                  \n",
            " block_13_expand_relu (ReLU)    (None, 14, 14, 576)  0           ['block_13_expand_BN[0][0]']     \n",
            "                                                                                                  \n",
            " block_13_pad (ZeroPadding2D)   (None, 15, 15, 576)  0           ['block_13_expand_relu[0][0]']   \n",
            "                                                                                                  \n",
            " block_13_depthwise (DepthwiseC  (None, 7, 7, 576)   5184        ['block_13_pad[0][0]']           \n",
            " onv2D)                                                                                           \n",
            "                                                                                                  \n",
            " block_13_depthwise_BN (BatchNo  (None, 7, 7, 576)   2304        ['block_13_depthwise[0][0]']     \n",
            " rmalization)                                                                                     \n",
            "                                                                                                  \n",
            " block_13_depthwise_relu (ReLU)  (None, 7, 7, 576)   0           ['block_13_depthwise_BN[0][0]']  \n",
            "                                                                                                  \n",
            " block_13_project (Conv2D)      (None, 7, 7, 160)    92160       ['block_13_depthwise_relu[0][0]']\n",
            "                                                                                                  \n",
            " block_13_project_BN (BatchNorm  (None, 7, 7, 160)   640         ['block_13_project[0][0]']       \n",
            " alization)                                                                                       \n",
            "                                                                                                  \n",
            " block_14_expand (Conv2D)       (None, 7, 7, 960)    153600      ['block_13_project_BN[0][0]']    \n",
            "                                                                                                  \n",
            " block_14_expand_BN (BatchNorma  (None, 7, 7, 960)   3840        ['block_14_expand[0][0]']        \n",
            " lization)                                                                                        \n",
            "                                                                                                  \n",
            " block_14_expand_relu (ReLU)    (None, 7, 7, 960)    0           ['block_14_expand_BN[0][0]']     \n",
            "                                                                                                  \n",
            " block_14_depthwise (DepthwiseC  (None, 7, 7, 960)   8640        ['block_14_expand_relu[0][0]']   \n",
            " onv2D)                                                                                           \n",
            "                                                                                                  \n",
            " block_14_depthwise_BN (BatchNo  (None, 7, 7, 960)   3840        ['block_14_depthwise[0][0]']     \n",
            " rmalization)                                                                                     \n",
            "                                                                                                  \n",
            " block_14_depthwise_relu (ReLU)  (None, 7, 7, 960)   0           ['block_14_depthwise_BN[0][0]']  \n",
            "                                                                                                  \n",
            " block_14_project (Conv2D)      (None, 7, 7, 160)    153600      ['block_14_depthwise_relu[0][0]']\n",
            "                                                                                                  \n",
            " block_14_project_BN (BatchNorm  (None, 7, 7, 160)   640         ['block_14_project[0][0]']       \n",
            " alization)                                                                                       \n",
            "                                                                                                  \n",
            " block_14_add (Add)             (None, 7, 7, 160)    0           ['block_13_project_BN[0][0]',    \n",
            "                                                                  'block_14_project_BN[0][0]']    \n",
            "                                                                                                  \n",
            " block_15_expand (Conv2D)       (None, 7, 7, 960)    153600      ['block_14_add[0][0]']           \n",
            "                                                                                                  \n",
            " block_15_expand_BN (BatchNorma  (None, 7, 7, 960)   3840        ['block_15_expand[0][0]']        \n",
            " lization)                                                                                        \n",
            "                                                                                                  \n",
            " block_15_expand_relu (ReLU)    (None, 7, 7, 960)    0           ['block_15_expand_BN[0][0]']     \n",
            "                                                                                                  \n",
            " block_15_depthwise (DepthwiseC  (None, 7, 7, 960)   8640        ['block_15_expand_relu[0][0]']   \n",
            " onv2D)                                                                                           \n",
            "                                                                                                  \n",
            " block_15_depthwise_BN (BatchNo  (None, 7, 7, 960)   3840        ['block_15_depthwise[0][0]']     \n",
            " rmalization)                                                                                     \n",
            "                                                                                                  \n",
            " block_15_depthwise_relu (ReLU)  (None, 7, 7, 960)   0           ['block_15_depthwise_BN[0][0]']  \n",
            "                                                                                                  \n",
            " block_15_project (Conv2D)      (None, 7, 7, 160)    153600      ['block_15_depthwise_relu[0][0]']\n",
            "                                                                                                  \n",
            " block_15_project_BN (BatchNorm  (None, 7, 7, 160)   640         ['block_15_project[0][0]']       \n",
            " alization)                                                                                       \n",
            "                                                                                                  \n",
            " block_15_add (Add)             (None, 7, 7, 160)    0           ['block_14_add[0][0]',           \n",
            "                                                                  'block_15_project_BN[0][0]']    \n",
            "                                                                                                  \n",
            " block_16_expand (Conv2D)       (None, 7, 7, 960)    153600      ['block_15_add[0][0]']           \n",
            "                                                                                                  \n",
            " block_16_expand_BN (BatchNorma  (None, 7, 7, 960)   3840        ['block_16_expand[0][0]']        \n",
            " lization)                                                                                        \n",
            "                                                                                                  \n",
            " block_16_expand_relu (ReLU)    (None, 7, 7, 960)    0           ['block_16_expand_BN[0][0]']     \n",
            "                                                                                                  \n",
            " block_16_depthwise (DepthwiseC  (None, 7, 7, 960)   8640        ['block_16_expand_relu[0][0]']   \n",
            " onv2D)                                                                                           \n",
            "                                                                                                  \n",
            " block_16_depthwise_BN (BatchNo  (None, 7, 7, 960)   3840        ['block_16_depthwise[0][0]']     \n",
            " rmalization)                                                                                     \n",
            "                                                                                                  \n",
            " block_16_depthwise_relu (ReLU)  (None, 7, 7, 960)   0           ['block_16_depthwise_BN[0][0]']  \n",
            "                                                                                                  \n",
            " block_16_project (Conv2D)      (None, 7, 7, 320)    307200      ['block_16_depthwise_relu[0][0]']\n",
            "                                                                                                  \n",
            " block_16_project_BN (BatchNorm  (None, 7, 7, 320)   1280        ['block_16_project[0][0]']       \n",
            " alization)                                                                                       \n",
            "                                                                                                  \n",
            " Conv_1 (Conv2D)                (None, 7, 7, 1280)   409600      ['block_16_project_BN[0][0]']    \n",
            "                                                                                                  \n",
            " Conv_1_bn (BatchNormalization)  (None, 7, 7, 1280)  5120        ['Conv_1[0][0]']                 \n",
            "                                                                                                  \n",
            " out_relu (ReLU)                (None, 7, 7, 1280)   0           ['Conv_1_bn[0][0]']              \n",
            "                                                                                                  \n",
            "==================================================================================================\n",
            "Total params: 2,257,984\n",
            "Trainable params: 0\n",
            "Non-trainable params: 2,257,984\n",
            "__________________________________________________________________________________________________\n"
          ]
        }
      ]
    },
    {
      "cell_type": "code",
      "source": [
        "Model_nets = tf.keras.Sequential([\n",
        "    base_model,\n",
        "    tf.keras.layers.GlobalAveragePooling2D(),\n",
        "    tf.keras.layers.Dense(units = 128, activation=\"relu\", name = \"embed_layer\"),\n",
        "    tf.keras.layers.Dense(units = 15, activation = \"softmax\")\n",
        "])"
      ],
      "metadata": {
        "id": "YA8WHtegbh9q"
      },
      "execution_count": 11,
      "outputs": []
    },
    {
      "cell_type": "code",
      "source": [
        "Model_nets.summary()"
      ],
      "metadata": {
        "colab": {
          "base_uri": "https://localhost:8080/"
        },
        "id": "w2MAhuIEfC7w",
        "outputId": "59ae5e1c-4808-4f92-e22b-ff8428124080"
      },
      "execution_count": 12,
      "outputs": [
        {
          "output_type": "stream",
          "name": "stdout",
          "text": [
            "Model: \"sequential\"\n",
            "_________________________________________________________________\n",
            " Layer (type)                Output Shape              Param #   \n",
            "=================================================================\n",
            " mobilenetv2_1.00_224 (Funct  (None, 7, 7, 1280)       2257984   \n",
            " ional)                                                          \n",
            "                                                                 \n",
            " global_average_pooling2d (G  (None, 1280)             0         \n",
            " lobalAveragePooling2D)                                          \n",
            "                                                                 \n",
            " embed_layer (Dense)         (None, 128)               163968    \n",
            "                                                                 \n",
            " dense (Dense)               (None, 15)                1935      \n",
            "                                                                 \n",
            "=================================================================\n",
            "Total params: 2,423,887\n",
            "Trainable params: 165,903\n",
            "Non-trainable params: 2,257,984\n",
            "_________________________________________________________________\n"
          ]
        }
      ]
    },
    {
      "cell_type": "code",
      "source": [
        "## Training the Model in Multi-classification way.\n",
        "## compiling the model\n",
        "optimizer = tf.keras.optimizers.Adam(learning_rate=CNF.learning_rate)\n",
        "loss = tf.keras.losses.CategoricalCrossentropy(from_logits=False)\n",
        "metrics = tf.keras.metrics.CategoricalAccuracy()\n",
        "\n",
        "Model_nets.compile(loss=loss, optimizer=optimizer, metrics=[metrics])"
      ],
      "metadata": {
        "id": "QO7I6hkPfKqQ"
      },
      "execution_count": 13,
      "outputs": []
    },
    {
      "cell_type": "code",
      "source": [
        "Model_nets.fit(dataset, epochs=4, validation_data=val_dataset)"
      ],
      "metadata": {
        "colab": {
          "base_uri": "https://localhost:8080/"
        },
        "id": "IE1Xtn9Hhqm7",
        "outputId": "f75b545e-8b30-40b6-f115-01889796de14"
      },
      "execution_count": 14,
      "outputs": [
        {
          "output_type": "stream",
          "name": "stdout",
          "text": [
            "Epoch 1/4\n",
            "91/91 [==============================] - 138s 1s/step - loss: 2.5464 - categorical_accuracy: 0.2590 - val_loss: 2.1207 - val_categorical_accuracy: 0.4408\n",
            "Epoch 2/4\n",
            "91/91 [==============================] - 134s 1s/step - loss: 1.7790 - categorical_accuracy: 0.6149 - val_loss: 1.4639 - val_categorical_accuracy: 0.7590\n",
            "Epoch 3/4\n",
            "91/91 [==============================] - 124s 971ms/step - loss: 1.2089 - categorical_accuracy: 0.8412 - val_loss: 0.9922 - val_categorical_accuracy: 0.9008\n",
            "Epoch 4/4\n",
            "91/91 [==============================] - 123s 992ms/step - loss: 0.8201 - categorical_accuracy: 0.9321 - val_loss: 0.6816 - val_categorical_accuracy: 0.9477\n"
          ]
        },
        {
          "output_type": "execute_result",
          "data": {
            "text/plain": [
              "<keras.callbacks.History at 0x78159d25aa10>"
            ]
          },
          "metadata": {},
          "execution_count": 14
        }
      ]
    },
    {
      "cell_type": "markdown",
      "source": [
        "### One-shot learning to detect defets by the similarity Metric:\n",
        "\n",
        "Step 1: Building the Embedded store.\n",
        "\n",
        "    - Embedded model , get the embedding of training data and store as a key points.\n",
        "  \n",
        "Step 2: Classify and detect defects of the testing dataset.\n",
        "\n",
        "    - Classify the Image of test data\n",
        "    - Get the Embeddings of the test image.\n",
        "    - Calculate the similarity distance with the embeddings of classified class."
      ],
      "metadata": {
        "id": "5epVgCtqqZY8"
      }
    },
    {
      "cell_type": "markdown",
      "source": [
        "**Step 1.1 : Embedding Model**"
      ],
      "metadata": {
        "id": "ip0PeySfyhzP"
      }
    },
    {
      "cell_type": "code",
      "source": [
        "## Embedding Network\n",
        "Embed_model = tf.keras.Model(inputs= Model_nets.inputs, outputs = Model_nets.get_layer(\"embed_layer\").output)\n",
        "Embed_model.trainable = False\n",
        "Embed_model.summary()"
      ],
      "metadata": {
        "colab": {
          "base_uri": "https://localhost:8080/"
        },
        "id": "y14iXPqrlr3f",
        "outputId": "cd5169f3-ac68-4145-d675-c3aeb40e3962"
      },
      "execution_count": 35,
      "outputs": [
        {
          "output_type": "stream",
          "name": "stdout",
          "text": [
            "Model: \"model_2\"\n",
            "_________________________________________________________________\n",
            " Layer (type)                Output Shape              Param #   \n",
            "=================================================================\n",
            " mobilenetv2_1.00_224_input   [(None, 224, 224, 3)]    0         \n",
            " (InputLayer)                                                    \n",
            "                                                                 \n",
            " mobilenetv2_1.00_224 (Funct  (None, 7, 7, 1280)       2257984   \n",
            " ional)                                                          \n",
            "                                                                 \n",
            " global_average_pooling2d (G  (None, 1280)             0         \n",
            " lobalAveragePooling2D)                                          \n",
            "                                                                 \n",
            " embed_layer (Dense)         (None, 128)               163968    \n",
            "                                                                 \n",
            "=================================================================\n",
            "Total params: 2,421,952\n",
            "Trainable params: 0\n",
            "Non-trainable params: 2,421,952\n",
            "_________________________________________________________________\n"
          ]
        }
      ]
    },
    {
      "cell_type": "code",
      "source": [
        "### getting the training sample from each class, get the embeddings from those classes\n",
        "train_embed_samples = []\n",
        "for c in CNF.classes:\n",
        "  paths = random.sample(glob(os.path.join(CNF.data_folder , c, \"train\", \"good\", \"*.png\")),1)\n",
        "  train_embed_samples.append(paths[0])\n",
        "\n"
      ],
      "metadata": {
        "id": "UmTIv5fBxwUY"
      },
      "execution_count": 37,
      "outputs": []
    },
    {
      "cell_type": "code",
      "source": [
        "## training samples for base embeddings.\n",
        "train_embed_samples\n",
        "\n",
        "### Embedded Store\n",
        "train_embeds = {}\n",
        "\n",
        "\n",
        "for p in train_embed_samples:\n",
        "  x,y = ppd.data_generator(p)\n",
        "  x = np.expand_dims(x.numpy(), axis = 0)\n",
        "  y = np.argmax(y.numpy())\n",
        "  train_embeds[y]= Embed_model.predict(x)[0]\n"
      ],
      "metadata": {
        "colab": {
          "base_uri": "https://localhost:8080/"
        },
        "id": "PVVZGCKYx6ZO",
        "outputId": "953dd211-d589-4909-fac7-532672afcbaa"
      },
      "execution_count": 38,
      "outputs": [
        {
          "output_type": "stream",
          "name": "stdout",
          "text": [
            "1/1 [==============================] - 1s 725ms/step\n",
            "1/1 [==============================] - 0s 22ms/step\n",
            "1/1 [==============================] - 0s 22ms/step\n",
            "1/1 [==============================] - 0s 22ms/step\n",
            "1/1 [==============================] - 0s 25ms/step\n",
            "1/1 [==============================] - 0s 22ms/step\n",
            "1/1 [==============================] - 0s 22ms/step\n",
            "1/1 [==============================] - 0s 25ms/step\n",
            "1/1 [==============================] - 0s 25ms/step\n",
            "1/1 [==============================] - 0s 23ms/step\n",
            "1/1 [==============================] - 0s 24ms/step\n",
            "1/1 [==============================] - 0s 21ms/step\n",
            "1/1 [==============================] - 0s 21ms/step\n",
            "1/1 [==============================] - 0s 23ms/step\n",
            "1/1 [==============================] - 0s 22ms/step\n"
          ]
        }
      ]
    },
    {
      "cell_type": "code",
      "source": [
        "train_embeds[0].shape"
      ],
      "metadata": {
        "colab": {
          "base_uri": "https://localhost:8080/"
        },
        "id": "uLerF1QG0-Ql",
        "outputId": "133d4abf-5ed3-4386-9c6c-518adf1ab662"
      },
      "execution_count": 18,
      "outputs": [
        {
          "output_type": "execute_result",
          "data": {
            "text/plain": [
              "(128,)"
            ]
          },
          "metadata": {},
          "execution_count": 18
        }
      ]
    },
    {
      "cell_type": "markdown",
      "source": [
        "**Step 2.1: Preparing the test dataset**"
      ],
      "metadata": {
        "id": "_8GddAkC5jVC"
      }
    },
    {
      "cell_type": "code",
      "source": [
        "## here we are preparing the data frames\n",
        "\n",
        "class_labels = []\n",
        "anomaly_labels = []\n",
        "\n",
        "for path in ppd.evaluation_data_paths:\n",
        "  chuncks = path.split(\"/\")\n",
        "  if(chuncks[-2] !=\"good\"):\n",
        "    anomaly_labels.append(\"defect\")\n",
        "  else:\n",
        "    anomaly_labels.append(\"not_defect\")\n",
        "\n",
        "  class_labels.append(chuncks[-4])\n",
        "\n",
        "test_df = pd.DataFrame()\n",
        "test_df[\"paths\"] = ppd.evaluation_data_paths\n",
        "test_df[\"class_labels\"] = class_labels\n",
        "test_df[\"anomaly_labels\"] =  anomaly_labels"
      ],
      "metadata": {
        "id": "IIQC8NhQ4THF"
      },
      "execution_count": 97,
      "outputs": []
    },
    {
      "cell_type": "code",
      "source": [],
      "metadata": {
        "id": "5OaSKraw7V1I"
      },
      "execution_count": 97,
      "outputs": []
    },
    {
      "cell_type": "markdown",
      "source": [
        "**Step 2.2: Classify the test images**"
      ],
      "metadata": {
        "id": "VXM2Pea89hd3"
      }
    },
    {
      "cell_type": "code",
      "source": [
        "## Read the images from tthe test files\n",
        "test_images = []\n",
        "for img_path  in tqdm(test_df[\"paths\"]):\n",
        "  x,y = ppd.data_generator(img_path)\n",
        "  test_images.append(x)\n"
      ],
      "metadata": {
        "colab": {
          "base_uri": "https://localhost:8080/"
        },
        "id": "4bCoCD-p8BQN",
        "outputId": "5327708e-7ca3-451e-8e0e-fe6abc52483a"
      },
      "execution_count": 98,
      "outputs": [
        {
          "output_type": "stream",
          "name": "stderr",
          "text": [
            "100%|██████████| 1725/1725 [01:30<00:00, 19.12it/s]\n"
          ]
        }
      ]
    },
    {
      "cell_type": "code",
      "source": [
        "test_images = np.array(test_images)"
      ],
      "metadata": {
        "id": "AvDxiVgyAKqz"
      },
      "execution_count": 99,
      "outputs": []
    },
    {
      "cell_type": "code",
      "source": [
        "### Predicting the classes from the images\n",
        "predict_class = Model_nets.predict(test_images)\n",
        "predict_class = np.argmax(predict_class, axis=1)"
      ],
      "metadata": {
        "colab": {
          "base_uri": "https://localhost:8080/"
        },
        "id": "AL6SYXgaA78Z",
        "outputId": "bf24ccb0-efeb-4513-a9d6-fad9b3709857"
      },
      "execution_count": 100,
      "outputs": [
        {
          "output_type": "stream",
          "name": "stdout",
          "text": [
            "54/54 [==============================] - 2s 40ms/step\n"
          ]
        }
      ]
    },
    {
      "cell_type": "code",
      "source": [
        "predict_class"
      ],
      "metadata": {
        "colab": {
          "base_uri": "https://localhost:8080/"
        },
        "id": "TqGknmlBZ3Pg",
        "outputId": "40baa9bd-dbd2-4efc-d255-241c885a45eb"
      },
      "execution_count": 101,
      "outputs": [
        {
          "output_type": "execute_result",
          "data": {
            "text/plain": [
              "array([ 0,  0,  0, ..., 14, 14, 14])"
            ]
          },
          "metadata": {},
          "execution_count": 101
        }
      ]
    },
    {
      "cell_type": "markdown",
      "source": [
        "**Step 2.3: Get the Emeddings for the test images**"
      ],
      "metadata": {
        "id": "T6pwk0HkCEvq"
      }
    },
    {
      "cell_type": "code",
      "source": [
        "predict_embeds = Embed_model.predict(test_images)"
      ],
      "metadata": {
        "colab": {
          "base_uri": "https://localhost:8080/"
        },
        "id": "uU4e3YuHA-ap",
        "outputId": "8930ff43-4268-4802-ded0-1631e45356ed"
      },
      "execution_count": 102,
      "outputs": [
        {
          "output_type": "stream",
          "name": "stdout",
          "text": [
            "54/54 [==============================] - 2s 33ms/step\n"
          ]
        }
      ]
    },
    {
      "cell_type": "markdown",
      "source": [
        "**Step 2.4: Getting in a single DataFrame**"
      ],
      "metadata": {
        "id": "ueGiJGm2CP_D"
      }
    },
    {
      "cell_type": "code",
      "source": [],
      "metadata": {
        "id": "CxB_quNvaLbc"
      },
      "execution_count": 102,
      "outputs": []
    },
    {
      "cell_type": "code",
      "source": [
        "test_df[\"classes_predicted\"] = predict_class.tolist()\n",
        "test_df[\"test_embeddings\"] = predict_embeds.tolist()\n",
        "test_df[\"class_labels\"]  = test_df[\"class_labels\"].map(char_int)\n",
        "test_df[\"actual_train_embeddings\"] = test_df[\"class_labels\"].map(train_embeds)\n",
        "test_df[\"predicted_train_embeddings\"] = test_df[\"classes_predicted\"].map(train_embeds)\n"
      ],
      "metadata": {
        "id": "5c6lWu8FCuxk"
      },
      "execution_count": 103,
      "outputs": []
    },
    {
      "cell_type": "code",
      "source": [
        "test_df.head()"
      ],
      "metadata": {
        "colab": {
          "base_uri": "https://localhost:8080/",
          "height": 337
        },
        "id": "YtFgjoV9GwiF",
        "outputId": "fb879c85-c882-4cf1-e172-68d6197e26dd"
      },
      "execution_count": 104,
      "outputs": [
        {
          "output_type": "execute_result",
          "data": {
            "text/plain": [
              "                                         paths  class_labels anomaly_labels  \\\n",
              "0  /content/data/cable/test/cable_swap/006.png             0         defect   \n",
              "1  /content/data/cable/test/cable_swap/003.png             0         defect   \n",
              "2  /content/data/cable/test/cable_swap/011.png             0         defect   \n",
              "3  /content/data/cable/test/cable_swap/010.png             0         defect   \n",
              "4  /content/data/cable/test/cable_swap/008.png             0         defect   \n",
              "\n",
              "   classes_predicted                                    test_embeddings  \\\n",
              "0                  0  [1.7182416915893555, 0.0, 0.0, 0.3349319994449...   \n",
              "1                  0  [1.8104884624481201, 0.0, 0.006706684362143278...   \n",
              "2                  0  [2.708906412124634, 0.0, 0.0, 0.18039876222610...   \n",
              "3                  0  [0.815099835395813, 0.0, 0.3783508241176605, 0...   \n",
              "4                  0  [2.0315659046173096, 0.0, 0.0, 0.9730851650238...   \n",
              "\n",
              "                             actual_train_embeddings  \\\n",
              "0  [2.065902, 0.0, 0.0, 0.21686272, 0.80396324, 0...   \n",
              "1  [2.065902, 0.0, 0.0, 0.21686272, 0.80396324, 0...   \n",
              "2  [2.065902, 0.0, 0.0, 0.21686272, 0.80396324, 0...   \n",
              "3  [2.065902, 0.0, 0.0, 0.21686272, 0.80396324, 0...   \n",
              "4  [2.065902, 0.0, 0.0, 0.21686272, 0.80396324, 0...   \n",
              "\n",
              "                          predicted_train_embeddings  \n",
              "0  [2.065902, 0.0, 0.0, 0.21686272, 0.80396324, 0...  \n",
              "1  [2.065902, 0.0, 0.0, 0.21686272, 0.80396324, 0...  \n",
              "2  [2.065902, 0.0, 0.0, 0.21686272, 0.80396324, 0...  \n",
              "3  [2.065902, 0.0, 0.0, 0.21686272, 0.80396324, 0...  \n",
              "4  [2.065902, 0.0, 0.0, 0.21686272, 0.80396324, 0...  "
            ],
            "text/html": [
              "\n",
              "\n",
              "  <div id=\"df-b899dbe7-da94-456e-b3d9-05d9e1115c19\">\n",
              "    <div class=\"colab-df-container\">\n",
              "      <div>\n",
              "<style scoped>\n",
              "    .dataframe tbody tr th:only-of-type {\n",
              "        vertical-align: middle;\n",
              "    }\n",
              "\n",
              "    .dataframe tbody tr th {\n",
              "        vertical-align: top;\n",
              "    }\n",
              "\n",
              "    .dataframe thead th {\n",
              "        text-align: right;\n",
              "    }\n",
              "</style>\n",
              "<table border=\"1\" class=\"dataframe\">\n",
              "  <thead>\n",
              "    <tr style=\"text-align: right;\">\n",
              "      <th></th>\n",
              "      <th>paths</th>\n",
              "      <th>class_labels</th>\n",
              "      <th>anomaly_labels</th>\n",
              "      <th>classes_predicted</th>\n",
              "      <th>test_embeddings</th>\n",
              "      <th>actual_train_embeddings</th>\n",
              "      <th>predicted_train_embeddings</th>\n",
              "    </tr>\n",
              "  </thead>\n",
              "  <tbody>\n",
              "    <tr>\n",
              "      <th>0</th>\n",
              "      <td>/content/data/cable/test/cable_swap/006.png</td>\n",
              "      <td>0</td>\n",
              "      <td>defect</td>\n",
              "      <td>0</td>\n",
              "      <td>[1.7182416915893555, 0.0, 0.0, 0.3349319994449...</td>\n",
              "      <td>[2.065902, 0.0, 0.0, 0.21686272, 0.80396324, 0...</td>\n",
              "      <td>[2.065902, 0.0, 0.0, 0.21686272, 0.80396324, 0...</td>\n",
              "    </tr>\n",
              "    <tr>\n",
              "      <th>1</th>\n",
              "      <td>/content/data/cable/test/cable_swap/003.png</td>\n",
              "      <td>0</td>\n",
              "      <td>defect</td>\n",
              "      <td>0</td>\n",
              "      <td>[1.8104884624481201, 0.0, 0.006706684362143278...</td>\n",
              "      <td>[2.065902, 0.0, 0.0, 0.21686272, 0.80396324, 0...</td>\n",
              "      <td>[2.065902, 0.0, 0.0, 0.21686272, 0.80396324, 0...</td>\n",
              "    </tr>\n",
              "    <tr>\n",
              "      <th>2</th>\n",
              "      <td>/content/data/cable/test/cable_swap/011.png</td>\n",
              "      <td>0</td>\n",
              "      <td>defect</td>\n",
              "      <td>0</td>\n",
              "      <td>[2.708906412124634, 0.0, 0.0, 0.18039876222610...</td>\n",
              "      <td>[2.065902, 0.0, 0.0, 0.21686272, 0.80396324, 0...</td>\n",
              "      <td>[2.065902, 0.0, 0.0, 0.21686272, 0.80396324, 0...</td>\n",
              "    </tr>\n",
              "    <tr>\n",
              "      <th>3</th>\n",
              "      <td>/content/data/cable/test/cable_swap/010.png</td>\n",
              "      <td>0</td>\n",
              "      <td>defect</td>\n",
              "      <td>0</td>\n",
              "      <td>[0.815099835395813, 0.0, 0.3783508241176605, 0...</td>\n",
              "      <td>[2.065902, 0.0, 0.0, 0.21686272, 0.80396324, 0...</td>\n",
              "      <td>[2.065902, 0.0, 0.0, 0.21686272, 0.80396324, 0...</td>\n",
              "    </tr>\n",
              "    <tr>\n",
              "      <th>4</th>\n",
              "      <td>/content/data/cable/test/cable_swap/008.png</td>\n",
              "      <td>0</td>\n",
              "      <td>defect</td>\n",
              "      <td>0</td>\n",
              "      <td>[2.0315659046173096, 0.0, 0.0, 0.9730851650238...</td>\n",
              "      <td>[2.065902, 0.0, 0.0, 0.21686272, 0.80396324, 0...</td>\n",
              "      <td>[2.065902, 0.0, 0.0, 0.21686272, 0.80396324, 0...</td>\n",
              "    </tr>\n",
              "  </tbody>\n",
              "</table>\n",
              "</div>\n",
              "      <button class=\"colab-df-convert\" onclick=\"convertToInteractive('df-b899dbe7-da94-456e-b3d9-05d9e1115c19')\"\n",
              "              title=\"Convert this dataframe to an interactive table.\"\n",
              "              style=\"display:none;\">\n",
              "\n",
              "  <svg xmlns=\"http://www.w3.org/2000/svg\" height=\"24px\"viewBox=\"0 0 24 24\"\n",
              "       width=\"24px\">\n",
              "    <path d=\"M0 0h24v24H0V0z\" fill=\"none\"/>\n",
              "    <path d=\"M18.56 5.44l.94 2.06.94-2.06 2.06-.94-2.06-.94-.94-2.06-.94 2.06-2.06.94zm-11 1L8.5 8.5l.94-2.06 2.06-.94-2.06-.94L8.5 2.5l-.94 2.06-2.06.94zm10 10l.94 2.06.94-2.06 2.06-.94-2.06-.94-.94-2.06-.94 2.06-2.06.94z\"/><path d=\"M17.41 7.96l-1.37-1.37c-.4-.4-.92-.59-1.43-.59-.52 0-1.04.2-1.43.59L10.3 9.45l-7.72 7.72c-.78.78-.78 2.05 0 2.83L4 21.41c.39.39.9.59 1.41.59.51 0 1.02-.2 1.41-.59l7.78-7.78 2.81-2.81c.8-.78.8-2.07 0-2.86zM5.41 20L4 18.59l7.72-7.72 1.47 1.35L5.41 20z\"/>\n",
              "  </svg>\n",
              "      </button>\n",
              "\n",
              "\n",
              "\n",
              "    <div id=\"df-8b58fef3-58a6-4900-a3cc-178f3e3e0986\">\n",
              "      <button class=\"colab-df-quickchart\" onclick=\"quickchart('df-8b58fef3-58a6-4900-a3cc-178f3e3e0986')\"\n",
              "              title=\"Suggest charts.\"\n",
              "              style=\"display:none;\">\n",
              "\n",
              "<svg xmlns=\"http://www.w3.org/2000/svg\" height=\"24px\"viewBox=\"0 0 24 24\"\n",
              "     width=\"24px\">\n",
              "    <g>\n",
              "        <path d=\"M19 3H5c-1.1 0-2 .9-2 2v14c0 1.1.9 2 2 2h14c1.1 0 2-.9 2-2V5c0-1.1-.9-2-2-2zM9 17H7v-7h2v7zm4 0h-2V7h2v10zm4 0h-2v-4h2v4z\"/>\n",
              "    </g>\n",
              "</svg>\n",
              "      </button>\n",
              "    </div>\n",
              "\n",
              "<style>\n",
              "  .colab-df-quickchart {\n",
              "    background-color: #E8F0FE;\n",
              "    border: none;\n",
              "    border-radius: 50%;\n",
              "    cursor: pointer;\n",
              "    display: none;\n",
              "    fill: #1967D2;\n",
              "    height: 32px;\n",
              "    padding: 0 0 0 0;\n",
              "    width: 32px;\n",
              "  }\n",
              "\n",
              "  .colab-df-quickchart:hover {\n",
              "    background-color: #E2EBFA;\n",
              "    box-shadow: 0px 1px 2px rgba(60, 64, 67, 0.3), 0px 1px 3px 1px rgba(60, 64, 67, 0.15);\n",
              "    fill: #174EA6;\n",
              "  }\n",
              "\n",
              "  [theme=dark] .colab-df-quickchart {\n",
              "    background-color: #3B4455;\n",
              "    fill: #D2E3FC;\n",
              "  }\n",
              "\n",
              "  [theme=dark] .colab-df-quickchart:hover {\n",
              "    background-color: #434B5C;\n",
              "    box-shadow: 0px 1px 3px 1px rgba(0, 0, 0, 0.15);\n",
              "    filter: drop-shadow(0px 1px 2px rgba(0, 0, 0, 0.3));\n",
              "    fill: #FFFFFF;\n",
              "  }\n",
              "</style>\n",
              "\n",
              "    <script>\n",
              "      async function quickchart(key) {\n",
              "        const containerElement = document.querySelector('#' + key);\n",
              "        const charts = await google.colab.kernel.invokeFunction(\n",
              "            'suggestCharts', [key], {});\n",
              "      }\n",
              "    </script>\n",
              "\n",
              "      <script>\n",
              "\n",
              "function displayQuickchartButton(domScope) {\n",
              "  let quickchartButtonEl =\n",
              "    domScope.querySelector('#df-8b58fef3-58a6-4900-a3cc-178f3e3e0986 button.colab-df-quickchart');\n",
              "  quickchartButtonEl.style.display =\n",
              "    google.colab.kernel.accessAllowed ? 'block' : 'none';\n",
              "}\n",
              "\n",
              "        displayQuickchartButton(document);\n",
              "      </script>\n",
              "      <style>\n",
              "    .colab-df-container {\n",
              "      display:flex;\n",
              "      flex-wrap:wrap;\n",
              "      gap: 12px;\n",
              "    }\n",
              "\n",
              "    .colab-df-convert {\n",
              "      background-color: #E8F0FE;\n",
              "      border: none;\n",
              "      border-radius: 50%;\n",
              "      cursor: pointer;\n",
              "      display: none;\n",
              "      fill: #1967D2;\n",
              "      height: 32px;\n",
              "      padding: 0 0 0 0;\n",
              "      width: 32px;\n",
              "    }\n",
              "\n",
              "    .colab-df-convert:hover {\n",
              "      background-color: #E2EBFA;\n",
              "      box-shadow: 0px 1px 2px rgba(60, 64, 67, 0.3), 0px 1px 3px 1px rgba(60, 64, 67, 0.15);\n",
              "      fill: #174EA6;\n",
              "    }\n",
              "\n",
              "    [theme=dark] .colab-df-convert {\n",
              "      background-color: #3B4455;\n",
              "      fill: #D2E3FC;\n",
              "    }\n",
              "\n",
              "    [theme=dark] .colab-df-convert:hover {\n",
              "      background-color: #434B5C;\n",
              "      box-shadow: 0px 1px 3px 1px rgba(0, 0, 0, 0.15);\n",
              "      filter: drop-shadow(0px 1px 2px rgba(0, 0, 0, 0.3));\n",
              "      fill: #FFFFFF;\n",
              "    }\n",
              "  </style>\n",
              "\n",
              "      <script>\n",
              "        const buttonEl =\n",
              "          document.querySelector('#df-b899dbe7-da94-456e-b3d9-05d9e1115c19 button.colab-df-convert');\n",
              "        buttonEl.style.display =\n",
              "          google.colab.kernel.accessAllowed ? 'block' : 'none';\n",
              "\n",
              "        async function convertToInteractive(key) {\n",
              "          const element = document.querySelector('#df-b899dbe7-da94-456e-b3d9-05d9e1115c19');\n",
              "          const dataTable =\n",
              "            await google.colab.kernel.invokeFunction('convertToInteractive',\n",
              "                                                     [key], {});\n",
              "          if (!dataTable) return;\n",
              "\n",
              "          const docLinkHtml = 'Like what you see? Visit the ' +\n",
              "            '<a target=\"_blank\" href=https://colab.research.google.com/notebooks/data_table.ipynb>data table notebook</a>'\n",
              "            + ' to learn more about interactive tables.';\n",
              "          element.innerHTML = '';\n",
              "          dataTable['output_type'] = 'display_data';\n",
              "          await google.colab.output.renderOutput(dataTable, element);\n",
              "          const docLink = document.createElement('div');\n",
              "          docLink.innerHTML = docLinkHtml;\n",
              "          element.appendChild(docLink);\n",
              "        }\n",
              "      </script>\n",
              "    </div>\n",
              "  </div>\n"
            ]
          },
          "metadata": {},
          "execution_count": 104
        }
      ]
    },
    {
      "cell_type": "code",
      "source": [
        "tf.keras.metrics.Accuracy()(test_df[\"class_labels\"].values, test_df[\"classes_predicted\"].values)"
      ],
      "metadata": {
        "colab": {
          "base_uri": "https://localhost:8080/"
        },
        "id": "KBFXg5mQWlsO",
        "outputId": "840837da-bd32-4ea5-e257-8247e3e1972b"
      },
      "execution_count": 105,
      "outputs": [
        {
          "output_type": "execute_result",
          "data": {
            "text/plain": [
              "<tf.Tensor: shape=(), dtype=float32, numpy=0.9101449>"
            ]
          },
          "metadata": {},
          "execution_count": 105
        }
      ]
    },
    {
      "cell_type": "code",
      "source": [],
      "metadata": {
        "id": "PfDK5a-3bX05"
      },
      "execution_count": 105,
      "outputs": []
    },
    {
      "cell_type": "code",
      "source": [
        "from sklearn.metrics.pairwise import cosine_similarity, euclidean_distances, manhattan_distances"
      ],
      "metadata": {
        "id": "NlOlVntTHmxO"
      },
      "execution_count": 106,
      "outputs": []
    },
    {
      "cell_type": "code",
      "source": [
        "### Assuming the classes are Known for the test dataset.\n",
        "simil_known_class = []\n",
        "\n",
        "for i, j in zip(test_df[\"actual_train_embeddings\"].values, test_df[\"test_embeddings\"].values):\n",
        "  s = cosine_similarity(np.expand_dims(i, axis=0),np.expand_dims(j, axis = 0))\n",
        "  simil_known_class.append(s.tolist()[0])"
      ],
      "metadata": {
        "id": "C65AL59iLB8J"
      },
      "execution_count": 107,
      "outputs": []
    },
    {
      "cell_type": "code",
      "source": [
        "### Assuming the classes are unknown --> Here the classes are predicted from multi-classification model\n",
        "\n",
        "simil_unknown_class = []\n",
        "\n",
        "for i, j in zip(test_df[\"predicted_train_embeddings\"].values, test_df[\"test_embeddings\"].values):\n",
        "  s = cosine_similarity(np.expand_dims(i, axis=0),np.expand_dims(j, axis = 0))\n",
        "  simil_unknown_class.append(s.tolist()[0])"
      ],
      "metadata": {
        "id": "K9AFGmSiLgTZ"
      },
      "execution_count": 108,
      "outputs": []
    },
    {
      "cell_type": "code",
      "source": [],
      "metadata": {
        "id": "4pbPXV4KLoJI"
      },
      "execution_count": 108,
      "outputs": []
    },
    {
      "cell_type": "code",
      "source": [],
      "metadata": {
        "id": "odsHtt1bOIYP"
      },
      "execution_count": 108,
      "outputs": []
    },
    {
      "cell_type": "code",
      "source": [
        "### similarity checking for classes are unknown\n",
        "plt.plot(simil_unknown_class)"
      ],
      "metadata": {
        "colab": {
          "base_uri": "https://localhost:8080/",
          "height": 448
        },
        "id": "BJPDj3EdSEwd",
        "outputId": "52222d90-7e40-40af-bfe1-b17738dc647f"
      },
      "execution_count": 109,
      "outputs": [
        {
          "output_type": "execute_result",
          "data": {
            "text/plain": [
              "[<matplotlib.lines.Line2D at 0x78158762f6a0>]"
            ]
          },
          "metadata": {},
          "execution_count": 109
        },
        {
          "output_type": "display_data",
          "data": {
            "text/plain": [
              "<Figure size 640x480 with 1 Axes>"
            ],
            "image/png": "[encoded data removed]"
          },
          "metadata": {}
        }
      ]
    },
    {
      "cell_type": "code",
      "source": [
        "### For detecting the defects and non-defects, we are keeping a threshold\n",
        "detect_defect_threshold = 0.95\n",
        "\n",
        "anomalies_preds = (np.array(simil_unknown_class)<detect_defect_threshold).astype(int)"
      ],
      "metadata": {
        "id": "B49zNd3TaqwC"
      },
      "execution_count": 150,
      "outputs": []
    },
    {
      "cell_type": "markdown",
      "source": [
        "**Defect labels representations**\n",
        "- 1--> Defect\n",
        "- 0 --> Not Defect"
      ],
      "metadata": {
        "id": "Xv5Fs-zMngIa"
      }
    },
    {
      "cell_type": "code",
      "source": [
        "pred_anomalies = [i[0] for i in anomalies_preds]\n",
        "# test_df[\"predicts_anomalies\"] = anomalies"
      ],
      "metadata": {
        "id": "3ssMkKifcT1F"
      },
      "execution_count": 151,
      "outputs": []
    },
    {
      "cell_type": "code",
      "source": [
        "act_anomalies = test_df[\"anomaly_labels\"].map({\"defect\":1,\"not_defect\":0 })"
      ],
      "metadata": {
        "id": "-KSJBP4OmsTz"
      },
      "execution_count": 152,
      "outputs": []
    },
    {
      "cell_type": "code",
      "source": [],
      "metadata": {
        "id": "Gd4G_XhmoDXy"
      },
      "execution_count": 152,
      "outputs": []
    },
    {
      "cell_type": "markdown",
      "source": [
        "#### Evaluation Metrics"
      ],
      "metadata": {
        "id": "FTIWiUB1pMfA"
      }
    },
    {
      "cell_type": "code",
      "source": [
        "from sklearn.metrics import f1_score, accuracy_score"
      ],
      "metadata": {
        "id": "snnNMysgoLHy"
      },
      "execution_count": 153,
      "outputs": []
    },
    {
      "cell_type": "code",
      "source": [
        "print(\"The Accuracy score for zero-shot learning : \", accuracy_score(act_anomalies,pred_anomalies))\n",
        "print(\"The F1- score for zero-shot learning : \", f1_score(act_anomalies,pred_anomalies))"
      ],
      "metadata": {
        "colab": {
          "base_uri": "https://localhost:8080/"
        },
        "id": "NwG0KrcGo9T5",
        "outputId": "11eeddfc-bf19-453f-efd3-ef1b5ece21ea"
      },
      "execution_count": 154,
      "outputs": [
        {
          "output_type": "stream",
          "name": "stdout",
          "text": [
            "The Accuracy score for zero-shot learning :  0.6469565217391304\n",
            "The F1- score for zero-shot learning :  0.7618302698474776\n"
          ]
        }
      ]
    },
    {
      "cell_type": "code",
      "source": [],
      "metadata": {
        "id": "CJvjVMZjplv6"
      },
      "execution_count": 149,
      "outputs": []
    },
    {
      "cell_type": "code",
      "source": [],
      "metadata": {
        "id": "UP93EBKmsDWo"
      },
      "execution_count": null,
      "outputs": []
    }
  ]
}